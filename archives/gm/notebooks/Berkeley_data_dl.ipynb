{
 "cells": [
  {
   "cell_type": "code",
   "execution_count": null,
   "metadata": {},
   "outputs": [],
   "source": [
    "import os\n",
    "import time\n",
    "import zipfile\n",
    "\n",
    "import geckodriver_autoinstaller\n",
    "from selenium import webdriver\n",
    "\n",
    "# from selenium.webdriver.firefox.options import Options\n",
    "from selenium.webdriver.chrome.options import Options"
   ]
  },
  {
   "cell_type": "code",
   "execution_count": null,
   "metadata": {},
   "outputs": [],
   "source": [
    "geckodriver_autoinstaller.install()"
   ]
  },
  {
   "cell_type": "code",
   "execution_count": null,
   "metadata": {},
   "outputs": [],
   "source": [
    "driver = webdriver.Chrome()  # Optional argument, if not specified will search path."
   ]
  },
  {
   "cell_type": "code",
   "execution_count": null,
   "metadata": {},
   "outputs": [],
   "source": [
    "driver.get(\"http://www.google.com/\")\n",
    "\n",
    "time.sleep(5)  # Let the user actually see something!\n",
    "\n",
    "search_box = driver.find_element_by_name(\"q\")\n",
    "\n",
    "search_box.send_keys(\"ChromeDriver\")\n",
    "\n",
    "search_box.submit()\n",
    "\n",
    "time.sleep(5)  # Let the user actually see something!\n",
    "\n",
    "driver.quit()"
   ]
  },
  {
   "cell_type": "code",
   "execution_count": null,
   "metadata": {},
   "outputs": [],
   "source": [
    "cwd = os.getcwd()\n",
    "print(cwd)\n",
    "\n",
    "os.chdir(\"../downloads\")\n",
    "\n",
    "nwd = os.getcwd()\n",
    "print(nwd)\n",
    "\n",
    "os.chdir(\"../notebooks\")\n",
    "print(cwd)"
   ]
  },
  {
   "cell_type": "code",
   "execution_count": null,
   "metadata": {},
   "outputs": [],
   "source": [
    "try:\n",
    "\n",
    "    options = Options()\n",
    "    options.set_preference(\"browser.download.folderList\", 2)\n",
    "    options.set_preference(\"browser.download.manager.showWhenStarting\", False)\n",
    "    options.set_preference(\"browser.download.dir\", nwd)\n",
    "    options.set_preference(\n",
    "        \"browser.helperApps.neverAsk.saveToDisk\", \"application/octet-stream,application/zip\"\n",
    "    )\n",
    "\n",
    "    driver = webdriver.Firefox(executable_path=\"/Applications/WebScraping/geckodriver\", options=options)\n",
    "\n",
    "    driver.set_page_load_timeout(15)\n",
    "    driver.get(\"https://emp.lbl.gov/sites/default/files/lbnl_publicdatafile_dpv_2020_update.zip\")\n",
    "    # driver.find_element_by_id(\"https://emp.lbl.gov/sites/default/files/lbnl_publicdatafile_dpv_2020_update.zip\").click()\n",
    "    print(\"done\")\n",
    "\n",
    "except:\n",
    "    # intentional timeout error\n",
    "    print(\"done\")\n",
    "    driver.close()"
   ]
  },
  {
   "cell_type": "code",
   "execution_count": null,
   "metadata": {},
   "outputs": [],
   "source": [
    "with zipfile.ZipFile(nwd + \"/lbnl_publicdatafile_dpv_2020_update.zip\", \"r\") as zip_ref:\n",
    "    zip_ref.extractall(nwd)"
   ]
  },
  {
   "cell_type": "code",
   "execution_count": null,
   "metadata": {},
   "outputs": [],
   "source": []
  }
 ],
 "metadata": {
  "kernelspec": {
   "display_name": "Python 3 (ipykernel)",
   "language": "python",
   "name": "python3"
  },
  "language_info": {
   "codemirror_mode": {
    "name": "ipython",
    "version": 3
   },
   "file_extension": ".py",
   "mimetype": "text/x-python",
   "name": "python",
   "nbconvert_exporter": "python",
   "pygments_lexer": "ipython3",
   "version": "3.8.10"
  }
 },
 "nbformat": 4,
 "nbformat_minor": 4
}
