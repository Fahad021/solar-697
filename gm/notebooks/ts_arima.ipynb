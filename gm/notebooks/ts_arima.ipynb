{
 "cells": [
  {
   "cell_type": "code",
   "execution_count": 1,
   "id": "70cc5794-ba29-42d5-a109-da7c3a28969d",
   "metadata": {
    "tags": []
   },
   "outputs": [],
   "source": [
    "import os\n",
    "import site\n",
    "import sqlite3\n",
    "import sys\n",
    "from time import sleep\n",
    "\n",
    "import logzero\n",
    "import matplotlib.pyplot as plt\n",
    "import numpy as np\n",
    "import pandas as pd\n",
    "import yaml\n",
    "from logzero import logger\n",
    "from statsmodels.graphics.tsaplots import plot_acf\n",
    "from statsmodels.tsa.api import SARIMAX, VAR, acf, adfuller, kpss\n",
    "from statsmodels.tsa.arima.model import ARIMA\n",
    "from statsmodels.tsa.statespace.tools import diff\n",
    "from tqdm import tqdm\n",
    "from tqdm.notebook import tqdm\n",
    "from yaml import dump, load, safe_load"
   ]
  },
  {
   "cell_type": "code",
   "execution_count": 2,
   "id": "c5b1b81f-6da2-453f-bb85-1146c903b41e",
   "metadata": {},
   "outputs": [],
   "source": [
    "import warnings\n",
    "\n",
    "warnings.filterwarnings(\"ignore\")"
   ]
  },
  {
   "cell_type": "code",
   "execution_count": 3,
   "id": "d52fbdb8-f1f9-4ef4-8b98-1184979a83bd",
   "metadata": {},
   "outputs": [],
   "source": [
    "plt.rcParams[\"figure.figsize\"] = 30, 25\n",
    "plt.rcParams[\"ytick.labelsize\"] = 11\n",
    "plt.rcParams[\"axes.labelsize\"] = 14\n",
    "plt.rcParams[\"axes.labelpad\"] = 12\n",
    "plt.rcParams[\"axes.xmargin\"] = 0.01\n",
    "plt.rcParams[\"axes.ymargin\"] = 0.01"
   ]
  },
  {
   "cell_type": "code",
   "execution_count": 4,
   "id": "ff27f40c-933e-40a2-8af0-0a341339cd48",
   "metadata": {},
   "outputs": [],
   "source": [
    "log_path = \"logs/\"\n",
    "log_file = \"ts_arima.log\"\n",
    "\n",
    "logzero.logfile(log_path + log_file, maxBytes=1e6, backupCount=5, disableStderrLogger=True)\n",
    "logger.info(f\"{log_path}, {log_file}\\n\")"
   ]
  },
  {
   "cell_type": "code",
   "execution_count": 5,
   "id": "25e3aed7-c9f0-48ff-be5d-ce70999b5c8d",
   "metadata": {},
   "outputs": [],
   "source": [
    "sys.path.append(\"../../sql\")\n",
    "import queries\n",
    "\n",
    "sys.path.append(\"../source\")\n",
    "from ts_tools import gen_arima_params"
   ]
  },
  {
   "cell_type": "code",
   "execution_count": 6,
   "id": "336d9acf-7806-4e09-a1f8-b560a2a71f06",
   "metadata": {},
   "outputs": [],
   "source": [
    "configs = None\n",
    "try:\n",
    "    with open(\"../configs/config.yml\", \"r\") as config_in:\n",
    "        configs = load(config_in, Loader=yaml.SafeLoader)\n",
    "        logger.info(f\"{configs}\\n\")\n",
    "except:\n",
    "    logger.error(f\"config file open failure.\")\n",
    "    exit(1)\n",
    "\n",
    "cfg_vars = configs[\"url_variables\"]\n",
    "logger.info(f\"variables: {cfg_vars}\\n\")\n",
    "\n",
    "years = configs[\"request_years\"]\n",
    "logger.info(f\"years: {years}\\n\")\n",
    "\n",
    "db_path = configs[\"file_paths\"][\"db_path\"]\n",
    "\n",
    "city = configs[\"location_info\"][\"city\"]\n",
    "state = configs[\"location_info\"][\"state\"]\n",
    "db_file = city + \"-\" + state + \".db\"\n",
    "\n",
    "db_table1 = configs[\"table_names\"][\"db_table1\"]\n",
    "db_table2 = configs[\"table_names\"][\"db_table2\"]\n",
    "\n",
    "logger.info(f\"{db_path}, {db_file}\")\n",
    "\n",
    "nrows = configs[\"num_rows\"][0]\n",
    "logger.info(f\"number of rows: {nrows}\\n\")"
   ]
  },
  {
   "cell_type": "code",
   "execution_count": 7,
   "id": "b9fc17b0-aae1-43b5-af55-b381790a6c17",
   "metadata": {},
   "outputs": [],
   "source": [
    "conn = sqlite3.connect(db_path + db_file)\n",
    "cursor = conn.cursor()"
   ]
  },
  {
   "cell_type": "code",
   "execution_count": 8,
   "id": "dd269d92-7595-4b9d-8651-984709144478",
   "metadata": {},
   "outputs": [
    {
     "name": "stdout",
     "output_type": "stream",
     "text": [
      "['91708']\n"
     ]
    }
   ],
   "source": [
    "cursor.execute(queries.select_distinct_zips)\n",
    "distinct_zipcodes = cursor.fetchall()\n",
    "distinct_zipcodes = [z[0] for z in distinct_zipcodes]\n",
    "logger.info(f\"distinct zip codes:\\n{distinct_zipcodes}\")\n",
    "print(distinct_zipcodes)"
   ]
  },
  {
   "cell_type": "raw",
   "id": "3395a24d-83a2-4e85-afd7-2ba2ee89d7bf",
   "metadata": {
    "tags": []
   },
   "source": [
    "select_nsr_rows = f\"\"\"\n",
    "SELECT date_time,\n",
    "-- year, zipcode,\n",
    "-- Clearsky_DHI, DHI,\n",
    "Clearsky_DNI, DNI,\n",
    "Clearsky_GHI, GHI,\n",
    "Temperature,\n",
    "Relative_Humidity,\n",
    "Precipitable_Water,\n",
    "Wind_Direction,\n",
    "Wind_Speed\n",
    "from nsrdb\n",
    "where zipcode = :zipcode;\n",
    "\"\"\""
   ]
  },
  {
   "cell_type": "code",
   "execution_count": 9,
   "id": "601a9976-9cd6-4a95-b370-bdcf724c6095",
   "metadata": {},
   "outputs": [],
   "source": [
    "zipcode_index = 0\n",
    "params = {\"zipcode\": distinct_zipcodes[zipcode_index]}\n",
    "\n",
    "select_nsr_rows = f\"\"\"\n",
    "SELECT date_time,\n",
    "-- year, month, day, \n",
    "-- zipcode,\n",
    "-- Clearsky_DHI, DHI,\n",
    "Clearsky_DNI, DNI,\n",
    "Clearsky_GHI, GHI,\n",
    "Temperature,\n",
    "Relative_Humidity,\n",
    "Precipitable_Water,\n",
    "-- Wind_Direction,\n",
    "Wind_Speed\n",
    "from nsrdb\n",
    "where zipcode = :zipcode\n",
    "-- and not (month = 2 and day = 29)\n",
    "-- and year = 2000\n",
    ";\n",
    "\"\"\"\n",
    "\n",
    "df = pd.read_sql(\n",
    "    select_nsr_rows,\n",
    "    conn,\n",
    "    params=params,\n",
    "    index_col=\"date_time\",\n",
    "    parse_dates=[\"date_time\"],\n",
    ")\n",
    "\n",
    "df.sort_index(axis=0, inplace=True)\n",
    "columns = df.columns.tolist()\n",
    "# df.head(5)"
   ]
  },
  {
   "cell_type": "code",
   "execution_count": 10,
   "id": "3ccccafe-7cea-4028-99c5-1019bc0d63cd",
   "metadata": {},
   "outputs": [],
   "source": [
    "df_rsm = df.resample(\"M\").mean().reset_index(drop=False)\n",
    "df_rsm.set_index(\"date_time\", inplace=True)\n",
    "# df_rsm"
   ]
  },
  {
   "cell_type": "code",
   "execution_count": 11,
   "id": "33afcf33-c17f-406b-b36a-2ce916b9240d",
   "metadata": {},
   "outputs": [],
   "source": [
    "# df_diff = df_rsm.diff(periods=12).dropna()\n",
    "\n",
    "df_diff = df_rsm.copy()\n",
    "for column in columns:\n",
    "    df_diff[column] = diff(df_diff[column], 1, 1, 12)\n",
    "\n",
    "df_diff.dropna(inplace=True)\n",
    "\n",
    "# df_diff.head(12)2)"
   ]
  },
  {
   "cell_type": "code",
   "execution_count": 12,
   "id": "d6e867e7-9a99-4a0e-9b4c-02f4f24353c4",
   "metadata": {},
   "outputs": [],
   "source": [
    "df_diff_r = df_diff[:240]\n",
    "# df_diff_r"
   ]
  },
  {
   "cell_type": "code",
   "execution_count": 25,
   "id": "ad0befe3-858b-427d-b16e-01f41a0eee83",
   "metadata": {},
   "outputs": [
    {
     "name": "stdout",
     "output_type": "stream",
     "text": [
      "Order list length: 100\n"
     ]
    }
   ],
   "source": [
    "order_list = gen_arima_params(p_rng=(3, 7), d_rng=(0, 3), q_rng=(3, 7))\n",
    "# order_list = gen_arima_params()"
   ]
  },
  {
   "cell_type": "code",
   "execution_count": 28,
   "id": "0849864e-e293-4a1f-8b30-e1edfd7d1866",
   "metadata": {},
   "outputs": [],
   "source": [
    "def ARIMA_optimizer(series, order_list):\n",
    "    \"\"\" \"\"\"\n",
    "\n",
    "    results = []\n",
    "\n",
    "    for order in tqdm(order_list):\n",
    "        try:\n",
    "            model = ARIMA(series, order=order, ).fit()\n",
    "            # model = ARIMAX(series, order=order, simple_differencing=False).fit(disp=False)\n",
    "        except:\n",
    "            print(\"exception occured\")\n",
    "            continue\n",
    "\n",
    "        aic = model.aic\n",
    "        results.append([order, model.aic])\n",
    "\n",
    "    result_df = pd.DataFrame(results)\n",
    "    result_df.columns = [\"(p, d, q)\", \"AIC\"]\n",
    "    # Sort in ascending order, lower AIC is better\n",
    "    result_df = result_df.sort_values(by=\"AIC\", ascending=True).reset_index(drop=True)\n",
    "\n",
    "    return result_df"
   ]
  },
  {
   "cell_type": "code",
   "execution_count": 29,
   "id": "7d17636d-10dc-4d12-86e6-bb8943fa606c",
   "metadata": {},
   "outputs": [
    {
     "data": {
      "application/vnd.jupyter.widget-view+json": {
       "model_id": "c39e05d7779c4f2e893011105aa02444",
       "version_major": 2,
       "version_minor": 0
      },
      "text/plain": [
       "  0%|          | 0/100 [00:00<?, ?it/s]"
      ]
     },
     "metadata": {},
     "output_type": "display_data"
    }
   ],
   "source": [
    "results = ARIMA_optimizer(df_rsm[columns[1]], order_list)"
   ]
  },
  {
   "cell_type": "code",
   "execution_count": 35,
   "id": "9451cb77-ab9e-48cd-8a4e-41ecc43bd94e",
   "metadata": {},
   "outputs": [
    {
     "data": {
      "text/html": [
       "<div>\n",
       "<style scoped>\n",
       "    .dataframe tbody tr th:only-of-type {\n",
       "        vertical-align: middle;\n",
       "    }\n",
       "\n",
       "    .dataframe tbody tr th {\n",
       "        vertical-align: top;\n",
       "    }\n",
       "\n",
       "    .dataframe thead th {\n",
       "        text-align: right;\n",
       "    }\n",
       "</style>\n",
       "<table border=\"1\" class=\"dataframe\">\n",
       "  <thead>\n",
       "    <tr style=\"text-align: right;\">\n",
       "      <th></th>\n",
       "      <th>(p, d, q)</th>\n",
       "      <th>AIC</th>\n",
       "    </tr>\n",
       "  </thead>\n",
       "  <tbody>\n",
       "    <tr>\n",
       "      <th>0</th>\n",
       "      <td>(5, 1, 6)</td>\n",
       "      <td>2782.528998</td>\n",
       "    </tr>\n",
       "    <tr>\n",
       "      <th>1</th>\n",
       "      <td>(3, 1, 7)</td>\n",
       "      <td>2783.193731</td>\n",
       "    </tr>\n",
       "    <tr>\n",
       "      <th>2</th>\n",
       "      <td>(5, 1, 7)</td>\n",
       "      <td>2783.502191</td>\n",
       "    </tr>\n",
       "    <tr>\n",
       "      <th>3</th>\n",
       "      <td>(4, 1, 7)</td>\n",
       "      <td>2783.987658</td>\n",
       "    </tr>\n",
       "    <tr>\n",
       "      <th>4</th>\n",
       "      <td>(6, 1, 5)</td>\n",
       "      <td>2784.777504</td>\n",
       "    </tr>\n",
       "  </tbody>\n",
       "</table>\n",
       "</div>"
      ],
      "text/plain": [
       "   (p, d, q)          AIC\n",
       "0  (5, 1, 6)  2782.528998\n",
       "1  (3, 1, 7)  2783.193731\n",
       "2  (5, 1, 7)  2783.502191\n",
       "3  (4, 1, 7)  2783.987658\n",
       "4  (6, 1, 5)  2784.777504"
      ]
     },
     "execution_count": 35,
     "metadata": {},
     "output_type": "execute_result"
    }
   ],
   "source": [
    "results.head()"
   ]
  },
  {
   "cell_type": "code",
   "execution_count": 38,
   "id": "ba1825a8-db5d-4eeb-8d98-dc7f74c15af7",
   "metadata": {},
   "outputs": [
    {
     "data": {
      "text/plain": [
       "(5, 1, 6)"
      ]
     },
     "execution_count": 38,
     "metadata": {},
     "output_type": "execute_result"
    }
   ],
   "source": [
    "results.iloc[0]['(p, d, q)']"
   ]
  },
  {
   "cell_type": "code",
   "execution_count": 64,
   "id": "c161d77e-6c8d-4c96-91f3-6dcabe29af1e",
   "metadata": {
    "tags": []
   },
   "outputs": [],
   "source": [
    "def arima_model(series, p=0, d=0, q=0, s=0, num_fc=1, summary=False, forecast=False):\n",
    "    \"\"\"\n",
    "    Takes an irradiance related series and fits an ARIMA(p, d, q) model.\n",
    "    Returns a number of forecasts as specified by num_forecasts or\n",
    "    a fit model is returned if forecast is not set.\n",
    "    \"\"\"\n",
    "\n",
    "    start = len(series)\n",
    "    end = start + num_fc\n",
    "\n",
    "    model = ARIMA(\n",
    "        series,\n",
    "        order=(p, d, p),\n",
    "        seasonal_order=(0, 0, 0, s),\n",
    "        enforce_stationarity=True,\n",
    "        trend=\"n\",\n",
    "        # freq=\"M\",\n",
    "    ).fit()\n",
    "\n",
    "    if summary:\n",
    "        print(model.summary())\n",
    "\n",
    "    if forecast:\n",
    "        forecast = model.predict(start=start, end=end)\n",
    "        return forecast\n",
    "\n",
    "    return model"
   ]
  },
  {
   "cell_type": "code",
   "execution_count": 148,
   "id": "7f115eac-a5be-40b2-967a-a0e882334dc6",
   "metadata": {},
   "outputs": [
    {
     "name": "stdout",
     "output_type": "stream",
     "text": [
      "                               SARIMAX Results                                \n",
      "==============================================================================\n",
      "Dep. Variable:                    DNI   No. Observations:                  252\n",
      "Model:                 ARIMA(5, 1, 5)   Log Likelihood               -1255.054\n",
      "Date:                Mon, 26 Jul 2021   AIC                           2532.107\n",
      "Time:                        18:51:00   BIC                           2570.887\n",
      "Sample:                    01-31-1998   HQIC                          2547.713\n",
      "                         - 12-31-2018                                         \n",
      "Covariance Type:                  opg                                         \n",
      "==============================================================================\n",
      "                 coef    std err          z      P>|z|      [0.025      0.975]\n",
      "------------------------------------------------------------------------------\n",
      "ar.L1          0.0522      0.116      0.448      0.654      -0.176       0.280\n",
      "ar.L2          1.1677      0.055     21.091      0.000       1.059       1.276\n",
      "ar.L3         -0.2623      0.132     -1.987      0.047      -0.521      -0.004\n",
      "ar.L4         -0.9765      0.070    -14.010      0.000      -1.113      -0.840\n",
      "ar.L5          0.1385      0.090      1.544      0.123      -0.037       0.314\n",
      "ma.L1         -0.9020      0.398     -2.264      0.024      -1.683      -0.121\n",
      "ma.L2         -1.2542      0.634     -1.979      0.048      -2.496      -0.012\n",
      "ma.L3          1.2022      0.185      6.502      0.000       0.840       1.565\n",
      "ma.L4          0.9217      0.812      1.135      0.256      -0.669       2.513\n",
      "ma.L5         -0.9654      0.437     -2.211      0.027      -1.821      -0.110\n",
      "sigma2      1417.0674    603.238      2.349      0.019     234.743    2599.391\n",
      "===================================================================================\n",
      "Ljung-Box (L1) (Q):                   0.90   Jarque-Bera (JB):                 8.55\n",
      "Prob(Q):                              0.34   Prob(JB):                         0.01\n",
      "Heteroskedasticity (H):               1.03   Skew:                            -0.43\n",
      "Prob(H) (two-sided):                  0.88   Kurtosis:                         3.30\n",
      "===================================================================================\n",
      "\n",
      "Warnings:\n",
      "[1] Covariance matrix calculated using the outer product of gradients (complex-step).\n"
     ]
    }
   ],
   "source": [
    "model = arima_model(df_rsm.iloc[:252][columns[1]], *results.iloc[0]['(p, d, q)'], s=0, summary=True)"
   ]
  },
  {
   "cell_type": "code",
   "execution_count": 67,
   "id": "8b37516a-d10a-47e6-a72c-309101323153",
   "metadata": {
    "tags": []
   },
   "outputs": [],
   "source": [
    "# model.plot_diagnostics()"
   ]
  },
  {
   "cell_type": "raw",
   "id": "d7104a49-5e16-4d47-bcf0-5f2cde778115",
   "metadata": {
    "jupyter": {
     "source_hidden": true
    },
    "tags": []
   },
   "source": [
    "def sarimax_model(series, p=0, d=0, q=0, P=0, D=0, Q=0, S=0, summary=False):\n",
    "    \"\"\"\n",
    "    Takes an irradiance related series and fits an ARMA(p, q) model.\n",
    "    Returns a number of forecasts as specified by num_forecasts.\n",
    "    \"\"\"\n",
    "\n",
    "    # model = ARIMA(series, order=(p, d, p), enforce_stationarity=True, trend=\"n\")\n",
    "    # model = ARIMA(series, order=(range(1,8), d, range(1,8)), enforce_stationarity=True, freq=\"M\").fit()\n",
    "    # model = ARIMA(series, order=(p, d, p), enforce_stationarity=True, freq=\"M\").fit()\n",
    "    model = ARIMA(\n",
    "        series, order=(p, d, p), seasonal_order=(p, d, p, s), enforce_stationarity=True, freq=\"M\"\n",
    "    ).fit()\n",
    "\n",
    "    if summary:\n",
    "        print(model.summary())\n",
    "\n",
    "    return model"
   ]
  },
  {
   "cell_type": "raw",
   "id": "4cab33df-29da-4f40-a710-f178a852db8a",
   "metadata": {
    "jupyter": {
     "source_hidden": true
    },
    "tags": []
   },
   "source": [
    "def arima_forecast(series, num_forecasts, p=0, d=0, q=0):\n",
    "    \"\"\"\n",
    "    Takes an irradiance related series and fits an ARMA(p, q) model.\n",
    "    Returns a number of forecasts as specified by num_forecasts.\n",
    "    \"\"\"\n",
    "\n",
    "    start = len(series)\n",
    "    end = start + num_forecasts - 1\n",
    "\n",
    "    # model = ARIMA(series, order=(p, d, p), enforce_stationarity=True, trend=\"n\")\n",
    "    model = ARIMA(series, order=(p, d, p), enforce_stationarity=True, freq=\"M\")\n",
    "\n",
    "    result = model.fit()\n",
    "\n",
    "    forecasts = result.predict(start=start, end=end)\n",
    "\n",
    "    return forecasts"
   ]
  },
  {
   "cell_type": "code",
   "execution_count": 170,
   "id": "784554b3-2650-491b-84dc-42c04e332847",
   "metadata": {},
   "outputs": [],
   "source": [
    "forecast = arima_model(df_rsm.iloc[:252][columns[1]], *results.iloc[0]['(p, d, q)'], s=0, num_fc=23, forecast=True)\n",
    "# forecast = arima_model(df_rsm.iloc[:240][columns[1]], p=1, d=1, q=1, num_fc=1, forecast=True)"
   ]
  },
  {
   "cell_type": "code",
   "execution_count": 171,
   "id": "13c32ab7-b9dd-4d8c-b07f-58e401b3c7fc",
   "metadata": {},
   "outputs": [],
   "source": [
    "# display(df_rsm.iloc[237:240])\n",
    "# df_rsm.iloc[:252][columns[1]]"
   ]
  },
  {
   "cell_type": "code",
   "execution_count": 172,
   "id": "54462aa9-e7de-44ef-b2dd-f374158bf7d8",
   "metadata": {
    "tags": []
   },
   "outputs": [],
   "source": [
    "# forecast[12:]"
   ]
  },
  {
   "cell_type": "raw",
   "id": "4b38998e-cb3b-40a1-8d80-8574446ecde3",
   "metadata": {
    "jupyter": {
     "source_hidden": true
    },
    "tags": []
   },
   "source": [
    "# df_rsm.iloc[240:][columns[1]][-1:].append(forecast)\n",
    "# df_rsm[columns[1]][240:]\n",
    "# df_rsm.iloc[240:][columns[1]].append(actual)"
   ]
  },
  {
   "cell_type": "raw",
   "id": "e6e9f68d-d6f0-44a3-bf53-6a4c4f0b0dc4",
   "metadata": {
    "jupyter": {
     "source_hidden": true
    },
    "tags": []
   },
   "source": [
    "# ax.plot(df_rsm.iloc[240:][columns[1]].append(actual), label=\"Actual\", color=\"green\")\n",
    "# ax.plot(df_rsm.iloc[240:][columns[1]], label=\"Forecasted\", color=\"green\")\n",
    "# ax.plot(df_rsm.iloc[:240][columns[1]], label=\"Forecasted\", color=\"orange\")\n",
    "# ax.plot(df_rsm.iloc[:240][columns[1]].append(forecast), label=\"Forecasted\", color=\"orange\")"
   ]
  },
  {
   "cell_type": "code",
   "execution_count": 176,
   "id": "38d379f7-2347-4641-b567-65e606e448f5",
   "metadata": {
    "tags": []
   },
   "outputs": [
    {
     "data": {
      "image/png": "[encoded data removed]",
      "text/plain": [
       "<Figure size 1440x720 with 1 Axes>"
      ]
     },
     "metadata": {
      "needs_background": "light"
     },
     "output_type": "display_data"
    }
   ],
   "source": [
    "actual = df_rsm.iloc[252:][columns[1]]\n",
    "\n",
    "rmse = np.sqrt(np.mean((actual - forecast) ** 2))\n",
    "\n",
    "fig, ax = plt.subplots(figsize=(20, 10))\n",
    "\n",
    "# ax.plot(df_rsm.iloc[:252][columns[1]], label=\"Original\", color=\"blue\")\n",
    "ax.plot(actual, label=\"Actual\", color=\"green\")\n",
    "ax.plot(forecast, label=\"Forecasted\", color=\"orange\")\n",
    "\n",
    "ax.set_xlabel(\"Month\")\n",
    "\n",
    "ax.set_title(\n",
    "    f\"Differenced Monthly {columns[1]} values\\n\" + f\"{len(forecasts)}-month Forecast, RMSE = {rmse: .2f}\"\n",
    ")\n",
    "\n",
    "ax.grid()\n",
    "ax.legend();"
   ]
  },
  {
   "cell_type": "code",
   "execution_count": 106,
   "id": "65ab61ad-4270-4d6f-9b1f-2d602bf5fd74",
   "metadata": {},
   "outputs": [
    {
     "data": {
      "text/plain": [
       "date_time\n",
       "2019-01-31    185.975806\n",
       "2019-02-28    182.882440\n",
       "2019-03-31    231.193548\n",
       "2019-04-30    273.993056\n",
       "2019-05-31    224.024194\n",
       "2019-06-30    304.151389\n",
       "2019-07-31    405.284946\n",
       "2019-08-31    405.340054\n",
       "2019-09-30    310.533333\n",
       "2019-10-31    352.060484\n",
       "2019-11-30    235.525000\n",
       "2019-12-31    155.119624\n",
       "2020-01-31    263.241935\n",
       "2020-02-29    294.339080\n",
       "2020-03-31    217.635753\n",
       "2020-04-30    248.077778\n",
       "2020-05-31    393.302419\n",
       "2020-06-30    365.570833\n",
       "2020-07-31    446.870968\n",
       "2020-08-31    356.186828\n",
       "2020-09-30    277.145833\n",
       "2020-10-31    280.205645\n",
       "2020-11-30    292.790278\n",
       "2020-12-31    247.826613\n",
       "Name: DNI, dtype: float64"
      ]
     },
     "execution_count": 106,
     "metadata": {},
     "output_type": "execute_result"
    }
   ],
   "source": [
    "df_rsm[columns[1]][252:]"
   ]
  },
  {
   "cell_type": "code",
   "execution_count": 69,
   "id": "1b85d6eb-138d-46ff-931b-d291e4529e07",
   "metadata": {},
   "outputs": [
    {
     "data": {
      "text/plain": [
       "date_time\n",
       "2020-01-31     2.090054\n",
       "2020-02-29     3.837438\n",
       "2020-03-31    -3.399194\n",
       "2020-04-30     0.970833\n",
       "2020-05-31    27.194892\n",
       "2020-06-30     0.436111\n",
       "2020-07-31    11.116935\n",
       "2020-08-31   -60.536290\n",
       "2020-09-30   -94.718056\n",
       "2020-10-31   -39.279570\n",
       "2020-11-30     8.327778\n",
       "2020-12-31    11.075269\n",
       "Name: Clearsky_DNI, dtype: float64"
      ]
     },
     "execution_count": 69,
     "metadata": {},
     "output_type": "execute_result"
    }
   ],
   "source": [
    "actual"
   ]
  },
  {
   "cell_type": "code",
   "execution_count": null,
   "id": "25450f8c-1d20-44fa-bb8f-dbe110d1909e",
   "metadata": {},
   "outputs": [],
   "source": []
  }
 ],
 "metadata": {
  "kernelspec": {
   "display_name": "Python 3 (ipykernel)",
   "language": "python",
   "name": "python3"
  },
  "language_info": {
   "codemirror_mode": {
    "name": "ipython",
    "version": 3
   },
   "file_extension": ".py",
   "mimetype": "text/x-python",
   "name": "python",
   "nbconvert_exporter": "python",
   "pygments_lexer": "ipython3",
   "version": "3.8.10"
  }
 },
 "nbformat": 4,
 "nbformat_minor": 5
}
