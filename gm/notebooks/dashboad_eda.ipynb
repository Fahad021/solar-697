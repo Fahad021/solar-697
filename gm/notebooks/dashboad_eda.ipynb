{
 "cells": [
  {
   "cell_type": "code",
   "execution_count": 2,
   "id": "596fd3ca-85fe-4a86-8961-ecace0ded54a",
   "metadata": {},
   "outputs": [],
   "source": [
    "import os\n",
    "import site\n",
    "import sqlite3\n",
    "import sys\n",
    "from time import sleep\n",
    "\n",
    "import logzero\n",
    "import numpy as np\n",
    "import pandas as pd\n",
    "import yaml\n",
    "from logzero import logger\n",
    "from tqdm import tqdm\n",
    "from tqdm.notebook import tqdm\n",
    "from yaml import dump, load, safe_load"
   ]
  },
  {
   "cell_type": "code",
   "execution_count": 4,
   "id": "eb935b33-9d19-4bce-a57c-467db6f3db24",
   "metadata": {},
   "outputs": [],
   "source": [
    "import dash\n",
    "import dash.dependencies\n",
    "import dash_bootstrap_components as dbc\n",
    "import dash_core_components as dcc\n",
    "import dash_html_components as html\n",
    "import dash_table\n",
    "import plotly.graph_objects as go\n",
    "from dash.dependencies import Input, Output"
   ]
  },
  {
   "cell_type": "code",
   "execution_count": 5,
   "id": "46843961-9bdc-41ba-b05d-914679ddc3f4",
   "metadata": {},
   "outputs": [],
   "source": [
    "# Import jupyter dash\n",
    "from jupyter_dash import JupyterDash\n",
    "\n",
    "try:\n",
    "    os.environ.pop(\"http_proxy\")\n",
    "    os.environ.pop(\"https_proxy\")\n",
    "except KeyError:\n",
    "    pass"
   ]
  },
  {
   "cell_type": "code",
   "execution_count": 8,
   "id": "29a963ad-0798-4806-8651-05057368c204",
   "metadata": {},
   "outputs": [],
   "source": [
    "external_stylesheets = [\"https://codepen.io/chriddyp/pen/bWLwgP.css\"]\n",
    "app = JupyterDash(__name__, external_stylesheets=external_stylesheets)\n",
    "server = app.server"
   ]
  },
  {
   "cell_type": "code",
   "execution_count": 10,
   "id": "06ab70db-c657-46f1-92b9-150dad254ef8",
   "metadata": {},
   "outputs": [
    {
     "name": "stderr",
     "output_type": "stream",
     "text": [
      "/opt/miniconda3/envs/mads1m/lib/python3.8/site-packages/jupyter_dash/jupyter_app.py:139: UserWarning: The 'environ['werkzeug.server.shutdown']' function is deprecated and will be removed in Werkzeug 2.1.\n",
      "  func()\n",
      "192.168.64.164 - - [05/Aug/2021 15:45:58] \"GET /_shutdown_fa235c91-ccac-476c-b120-f330ff91bae8 HTTP/1.1\" 200 -\n",
      " * Running on http://192.168.64.164:8080/ (Press CTRL+C to quit)\n",
      "192.168.64.164 - - [05/Aug/2021 15:45:59] \"GET /_alive_fa235c91-ccac-476c-b120-f330ff91bae8 HTTP/1.1\" 200 -\n"
     ]
    },
    {
     "name": "stdout",
     "output_type": "stream",
     "text": [
      "Dash app running on http://192.168.64.164:8080/\n"
     ]
    },
    {
     "name": "stderr",
     "output_type": "stream",
     "text": [
      "192.168.64.64 - - [05/Aug/2021 15:46:11] \"GET / HTTP/1.1\" 200 -\n",
      "192.168.64.64 - - [05/Aug/2021 15:46:12] \"GET /_dash-layout HTTP/1.1\" 200 -\n",
      "192.168.64.64 - - [05/Aug/2021 15:46:12] \"GET /_dash-dependencies HTTP/1.1\" 200 -\n",
      "192.168.64.64 - - [05/Aug/2021 15:46:12] \"GET /_favicon.ico?v=1.21.0 HTTP/1.1\" 200 -\n"
     ]
    }
   ],
   "source": [
    "app.layout = html.Div(\n",
    "    children=[\n",
    "        html.H1(children=\"Irradiance Data EDA Dashboard\"),\n",
    "        html.Div(\n",
    "            children=\"\"\"\n",
    "        Dash: A web application framework for Python.\n",
    "    \"\"\"\n",
    "        ),\n",
    "    ]\n",
    ")\n",
    "\n",
    "if __name__ == \"__main__\":\n",
    "    app.run_server(mode=\"external\", host=\"192.168.64.164\", port=\"8080\", use_reloader=False, debug=False)"
   ]
  },
  {
   "cell_type": "code",
   "execution_count": null,
   "id": "58a1ac7c-a5eb-4a16-86e8-19b0ee4c9f9b",
   "metadata": {},
   "outputs": [],
   "source": []
  }
 ],
 "metadata": {
  "kernelspec": {
   "display_name": "Python 3 (ipykernel)",
   "language": "python",
   "name": "python3"
  },
  "language_info": {
   "codemirror_mode": {
    "name": "ipython",
    "version": 3
   },
   "file_extension": ".py",
   "mimetype": "text/x-python",
   "name": "python",
   "nbconvert_exporter": "python",
   "pygments_lexer": "ipython3",
   "version": "3.8.10"
  }
 },
 "nbformat": 4,
 "nbformat_minor": 5
}
