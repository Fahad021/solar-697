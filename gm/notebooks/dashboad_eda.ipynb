{
 "cells": [
  {
   "cell_type": "code",
   "execution_count": 1,
   "id": "596fd3ca-85fe-4a86-8961-ecace0ded54a",
   "metadata": {},
   "outputs": [],
   "source": [
    "import glob\n",
    "import os\n",
    "import site\n",
    "import sqlite3\n",
    "import sys\n",
    "from time import sleep\n",
    "\n",
    "import logzero\n",
    "import numpy as np\n",
    "import pandas as pd\n",
    "import yaml\n",
    "from logzero import logger\n",
    "from tqdm import tqdm\n",
    "from tqdm.notebook import tqdm\n",
    "from yaml import dump, load, safe_load"
   ]
  },
  {
   "cell_type": "code",
   "execution_count": 2,
   "id": "eb935b33-9d19-4bce-a57c-467db6f3db24",
   "metadata": {},
   "outputs": [],
   "source": [
    "import dash\n",
    "import dash.dependencies\n",
    "import dash_bootstrap_components as dbc\n",
    "import dash_core_components as dcc\n",
    "import dash_html_components as html\n",
    "import dash_table\n",
    "import plotly.graph_objects as go\n",
    "from dash.dependencies import Input, Output\n",
    "from jupyter_dash import JupyterDash"
   ]
  },
  {
   "cell_type": "code",
   "execution_count": 3,
   "id": "46843961-9bdc-41ba-b05d-914679ddc3f4",
   "metadata": {},
   "outputs": [],
   "source": [
    "sys.path.append(\"../../sql\")\n",
    "import queries\n",
    "\n",
    "sys.path.append(\"../source\")\n",
    "import dbrd_eda\n",
    "import dbrd_tools\n",
    "import plot_tools\n",
    "import ts_tools"
   ]
  },
  {
   "cell_type": "code",
   "execution_count": 4,
   "id": "09be7f4c-b8b1-4110-9b91-fbd1812ec857",
   "metadata": {},
   "outputs": [],
   "source": [
    "log_path = \"logs/\"\n",
    "log_file = \"dashboard_eda.log\"\n",
    "\n",
    "logzero.logfile(log_path + log_file, maxBytes=1e6, backupCount=5, disableStderrLogger=True)\n",
    "logger.info(f\"{log_path}, {log_file}\\n\")"
   ]
  },
  {
   "cell_type": "code",
   "execution_count": 5,
   "id": "b9c9c156-57ae-4006-af06-2f8017d62401",
   "metadata": {},
   "outputs": [
    {
     "data": {
      "text/plain": [
       "('_AzCaFlNyTxWaWi.db', '_OkCa.db', 'chino_ca.db', 'okc_ok.db')"
      ]
     },
     "execution_count": 5,
     "metadata": {},
     "output_type": "execute_result"
    }
   ],
   "source": [
    "db_path = \"../../data/db/\"\n",
    "db_files = dbrd_tools.get_db_files(db_path)\n",
    "db_files"
   ]
  },
  {
   "cell_type": "code",
   "execution_count": 6,
   "id": "76ca5931-f1e6-4006-8c6f-03d93c1a58f4",
   "metadata": {},
   "outputs": [],
   "source": [
    "configs = None\n",
    "try:\n",
    "    with open(\"../configs/config.yml\", \"r\") as config_in:\n",
    "        configs = load(config_in, Loader=yaml.SafeLoader)\n",
    "        logger.info(f\"{configs}\\n\")\n",
    "except:\n",
    "    logger.error(f\"config file open failure.\")\n",
    "    exit(1)\n",
    "\n",
    "cfg_vars = configs[\"url_variables\"]\n",
    "logger.info(f\"variables: {cfg_vars}\\n\")\n",
    "\n",
    "years = configs[\"request_years\"]\n",
    "logger.info(f\"years: {years}\\n\")\n",
    "\n",
    "db_path = configs[\"file_paths\"][\"db_path\"]\n",
    "\n",
    "city = configs[\"location_info\"][\"city\"]\n",
    "state = configs[\"location_info\"][\"state\"]\n",
    "db_file = city + \"_\" + state + \".db\"\n",
    "\n",
    "db_table1 = configs[\"table_names\"][\"db_table1\"]\n",
    "db_table2 = configs[\"table_names\"][\"db_table2\"]\n",
    "\n",
    "logger.info(f\"{db_path}, {db_file}\")\n",
    "\n",
    "nrows = configs[\"num_rows\"][0]\n",
    "logger.info(f\"number of rows: {nrows}\\n\")"
   ]
  },
  {
   "cell_type": "code",
   "execution_count": 7,
   "id": "01d701d4-d171-45f6-ae15-cd3ba38d8cc0",
   "metadata": {},
   "outputs": [],
   "source": [
    "conn = sqlite3.connect(db_path + db_files[0])\n",
    "cursor = conn.cursor()"
   ]
  },
  {
   "cell_type": "code",
   "execution_count": 8,
   "id": "13ce0f54-181b-407e-b3fb-49645a986914",
   "metadata": {},
   "outputs": [],
   "source": [
    "cursor.execute(queries.select_distinct_zips)\n",
    "distinct_zipcodes = cursor.fetchall()\n",
    "distinct_zipcodes = [z[0] for z in distinct_zipcodes]\n",
    "logger.info(f\"distinct zip codes:\\n{distinct_zipcodes}\")\n",
    "# print(distinct_zipcodes)"
   ]
  },
  {
   "cell_type": "code",
   "execution_count": 9,
   "id": "b12310d6-dcb3-416b-bb3e-af638c32b588",
   "metadata": {},
   "outputs": [],
   "source": [
    "zipcode_index = 0\n",
    "df = ts_tools.get_irr_data(\n",
    "    conn,\n",
    "    distinct_zipcodes[zipcode_index],\n",
    ")\n",
    "# df.head(5)\n",
    "df_rsm = df.resample(\"M\").mean()\n",
    "# df_rsm.head(5)"
   ]
  },
  {
   "cell_type": "code",
   "execution_count": 10,
   "id": "5d8d2921-8243-4324-baa8-49f0c34c861c",
   "metadata": {},
   "outputs": [],
   "source": [
    "title1 = \"Irradiance Raw Data\"\n",
    "fig1_units = [\"Wh\", \"Wh\", \"Wh\", \"Wh\", \"°C\", \"%RH\", \"mm\", \"m/hr\"]\n",
    "fig1 = plot_tools.plot_data(\n",
    "    df_rsm,\n",
    "    title=title1,\n",
    "    zipcode=distinct_zipcodes[zipcode_index],\n",
    "    columns=df_rsm.columns.tolist(),\n",
    "    units=fig1_units,\n",
    ")"
   ]
  },
  {
   "cell_type": "code",
   "execution_count": 11,
   "id": "c705c774-bbdc-4089-a372-617cf2d68346",
   "metadata": {},
   "outputs": [],
   "source": [
    "title2 = \"Meteorological Conditions\"\n",
    "columns = [\"Temperature\", \"Relative_Humidity\", \"Precipitable_Water\"]\n",
    "fig2 = plot_tools.plot_multi_line(df_rsm, title=title2, columns=columns)"
   ]
  },
  {
   "cell_type": "code",
   "execution_count": 12,
   "id": "29a963ad-0798-4806-8651-05057368c204",
   "metadata": {},
   "outputs": [],
   "source": [
    "external_stylesheets = [\"https://codepen.io/chriddyp/pen/bWLwgP.css\"]\n",
    "app = JupyterDash(__name__, external_stylesheets=external_stylesheets)\n",
    "server = app.server"
   ]
  },
  {
   "cell_type": "code",
   "execution_count": 13,
   "id": "a9993586-399f-4733-b1c9-2b0ea1a22864",
   "metadata": {},
   "outputs": [],
   "source": [
    "app.layout = html.Div(\n",
    "    [\n",
    "        html.Div([html.H3(), dcc.Graph(id=\"g1\", figure=fig1)], className=\"six columns\"),\n",
    "        html.Div([html.H3(), dcc.Graph(id=\"g2\", figure=fig2)], className=\"six columns\"),\n",
    "    ],\n",
    "    className=\"row1\",\n",
    ")"
   ]
  },
  {
   "cell_type": "code",
   "execution_count": 14,
   "id": "a245a999-5094-457f-b8f6-52565df34e4f",
   "metadata": {},
   "outputs": [
    {
     "name": "stderr",
     "output_type": "stream",
     "text": [
      " * Running on http://192.168.64.164:8080/ (Press CTRL+C to quit)\n",
      "192.168.64.164 - - [05/Aug/2021 22:59:46] \"GET /_alive_2bbd704f-ef95-4227-a3b1-b7154919cc53 HTTP/1.1\" 200 -\n"
     ]
    },
    {
     "name": "stdout",
     "output_type": "stream",
     "text": [
      "Dash app running on http://192.168.64.164:8080/\n"
     ]
    },
    {
     "name": "stderr",
     "output_type": "stream",
     "text": [
      "192.168.64.64 - - [05/Aug/2021 22:59:50] \"GET / HTTP/1.1\" 200 -\n",
      "192.168.64.64 - - [05/Aug/2021 22:59:51] \"GET /_dash-dependencies HTTP/1.1\" 200 -\n",
      "192.168.64.64 - - [05/Aug/2021 22:59:51] \"GET /_favicon.ico?v=1.21.0 HTTP/1.1\" 200 -\n",
      "192.168.64.64 - - [05/Aug/2021 22:59:51] \"GET /_dash-layout HTTP/1.1\" 200 -\n",
      "192.168.64.64 - - [05/Aug/2021 22:59:51] \"GET /_dash-component-suites/dash_core_components/async-graph.js HTTP/1.1\" 200 -\n",
      "192.168.64.64 - - [05/Aug/2021 22:59:51] \"GET /_dash-component-suites/dash_core_components/async-plotlyjs.js HTTP/1.1\" 200 -\n",
      "192.168.64.27 - - [05/Aug/2021 23:02:35] \"GET / HTTP/1.1\" 200 -\n",
      "192.168.64.27 - - [05/Aug/2021 23:02:35] \"GET /_dash-component-suites/dash/deps/prop-types@15.v1_21_0m1627189189.7.2.min.js HTTP/1.1\" 200 -\n",
      "192.168.64.27 - - [05/Aug/2021 23:02:35] \"GET /_dash-component-suites/dash/deps/react@16.v1_21_0m1627189189.14.0.min.js HTTP/1.1\" 200 -\n",
      "192.168.64.27 - - [05/Aug/2021 23:02:35] \"GET /_dash-component-suites/dash_html_components/dash_html_components.v1_1_4m1626177950.min.js HTTP/1.1\" 200 -\n",
      "192.168.64.27 - - [05/Aug/2021 23:02:35] \"GET /_dash-component-suites/dash/deps/react-dom@16.v1_21_0m1627189189.14.0.min.js HTTP/1.1\" 200 -\n",
      "192.168.64.27 - - [05/Aug/2021 23:02:35] \"GET /_dash-component-suites/dash/deps/polyfill@7.v1_21_0m1627189189.12.1.min.js HTTP/1.1\" 200 -\n",
      "192.168.64.27 - - [05/Aug/2021 23:02:35] \"GET /_dash-component-suites/dash_core_components/dash_core_components-shared.v1_17_1m1626177975.js HTTP/1.1\" 200 -\n",
      "192.168.64.27 - - [05/Aug/2021 23:02:35] \"GET /_dash-component-suites/dash_bootstrap_components/_components/dash_bootstrap_components.v0_13_0m1627744119.min.js HTTP/1.1\" 200 -\n",
      "192.168.64.27 - - [05/Aug/2021 23:02:35] \"GET /_dash-component-suites/dash_core_components/dash_core_components.v1_17_1m1626177975.js HTTP/1.1\" 200 -\n",
      "192.168.64.27 - - [05/Aug/2021 23:02:35] \"GET /_dash-component-suites/dash_table/bundle.v4_12_0m1626177982.js HTTP/1.1\" 200 -\n",
      "192.168.64.27 - - [05/Aug/2021 23:02:36] \"GET /_dash-component-suites/dash/dash-renderer/build/dash_renderer.v1_21_0m1627189189.min.js HTTP/1.1\" 200 -\n",
      "192.168.64.27 - - [05/Aug/2021 23:02:36] \"GET /_dash-dependencies HTTP/1.1\" 200 -\n",
      "192.168.64.27 - - [05/Aug/2021 23:02:36] \"GET /_dash-layout HTTP/1.1\" 200 -\n",
      "192.168.64.27 - - [05/Aug/2021 23:02:37] \"GET /_favicon.ico?v=1.21.0 HTTP/1.1\" 200 -\n",
      "192.168.64.27 - - [05/Aug/2021 23:02:37] \"GET /_dash-component-suites/dash_core_components/async-graph.js HTTP/1.1\" 200 -\n",
      "192.168.64.27 - - [05/Aug/2021 23:02:37] \"GET /_dash-component-suites/dash_core_components/async-plotlyjs.js HTTP/1.1\" 200 -\n",
      "192.168.64.27 - - [05/Aug/2021 23:05:58] \"GET / HTTP/1.1\" 200 -\n",
      "192.168.64.27 - - [05/Aug/2021 23:06:00] \"GET /_dash-dependencies HTTP/1.1\" 200 -\n",
      "192.168.64.27 - - [05/Aug/2021 23:06:00] \"GET /_dash-layout HTTP/1.1\" 200 -\n",
      "192.168.64.27 - - [05/Aug/2021 23:06:00] \"GET /_dash-component-suites/dash_core_components/async-graph.js HTTP/1.1\" 200 -\n",
      "192.168.64.27 - - [05/Aug/2021 23:06:00] \"GET /_dash-component-suites/dash_core_components/async-plotlyjs.js HTTP/1.1\" 200 -\n"
     ]
    }
   ],
   "source": [
    "if __name__ == \"__main__\":\n",
    "    app.run_server(mode=\"external\", host=\"192.168.64.164\", port=\"8080\", use_reloader=False, debug=False)"
   ]
  },
  {
   "cell_type": "code",
   "execution_count": null,
   "id": "6c21fd78-72e4-4791-b417-c115750b1a6e",
   "metadata": {},
   "outputs": [],
   "source": []
  }
 ],
 "metadata": {
  "kernelspec": {
   "display_name": "Python 3 (ipykernel)",
   "language": "python",
   "name": "python3"
  },
  "language_info": {
   "codemirror_mode": {
    "name": "ipython",
    "version": 3
   },
   "file_extension": ".py",
   "mimetype": "text/x-python",
   "name": "python",
   "nbconvert_exporter": "python",
   "pygments_lexer": "ipython3",
   "version": "3.8.10"
  }
 },
 "nbformat": 4,
 "nbformat_minor": 5
}
