{
 "cells": [
  {
   "cell_type": "markdown",
   "id": "2e45f3e3-4331-4d3b-b733-baffba547943",
   "metadata": {
    "tags": []
   },
   "source": [
    "#### Zip Codes import"
   ]
  },
  {
   "cell_type": "code",
   "execution_count": 1,
   "id": "05427448-3406-4d1d-b000-ac0a0a4df3d2",
   "metadata": {},
   "outputs": [],
   "source": [
    "import json\n",
    "import os\n",
    "import sqlite3\n",
    "import sys\n",
    "from datetime import datetime\n",
    "\n",
    "import logzero\n",
    "import numpy as np\n",
    "import pandas as pd\n",
    "import yaml\n",
    "from logzero import logger"
   ]
  },
  {
   "cell_type": "code",
   "execution_count": 2,
   "id": "a60f88d3-2260-4c3d-beca-0fcabf22f809",
   "metadata": {},
   "outputs": [],
   "source": [
    "log_path = \"logs/\"\n",
    "log_file = \"zip_code_import.log\"\n",
    "\n",
    "logzero.logfile(log_path + log_file, maxBytes=1e6, backupCount=5, disableStderrLogger=True)\n",
    "logger.info(f\"{log_path}, {log_file}\")"
   ]
  },
  {
   "cell_type": "code",
   "execution_count": 4,
   "id": "779507b5-3901-430a-9fa1-a8e23a71a4d9",
   "metadata": {},
   "outputs": [],
   "source": [
    "sys.path.append(\"../data/sql\")\n",
    "import queries"
   ]
  },
  {
   "cell_type": "code",
   "execution_count": 5,
   "id": "edf3bc95-c6eb-43a1-80e9-06a4980b0ad0",
   "metadata": {},
   "outputs": [],
   "source": [
    "logger.info(sys.path)"
   ]
  },
  {
   "cell_type": "code",
   "execution_count": 6,
   "id": "0c5f200a-88f2-4e83-9932-d341eb97e2fc",
   "metadata": {},
   "outputs": [],
   "source": [
    "try:\n",
    "    with open(\"../source/config.yml\", \"r\") as config_in:\n",
    "        configs = yaml.load(config_in, Loader=yaml.SafeLoader)\n",
    "        logger.info(configs)\n",
    "except:\n",
    "    logger.error(f\"config file open failure.\")\n",
    "    exit(1)\n",
    "\n",
    "data_path = configs[\"file_locations\"][\"data_path_usc\"]\n",
    "data_file = configs[\"file_locations\"][\"data_file_usc\"]\n",
    "\n",
    "db_path = configs[\"file_locations\"][\"db_path\"]\n",
    "db_file = configs[\"file_locations\"][\"db_file\"]"
   ]
  },
  {
   "cell_type": "code",
   "execution_count": 7,
   "id": "a41b9f2b-fc2c-47d6-93eb-09428da32223",
   "metadata": {},
   "outputs": [],
   "source": [
    "logger.info(f\"{data_path}, {data_file}\")\n",
    "logger.info(f\"{db_path}, {db_file}\")"
   ]
  },
  {
   "cell_type": "code",
   "execution_count": 8,
   "id": "c638b410-5602-418e-a99e-c766486cc3f7",
   "metadata": {},
   "outputs": [],
   "source": [
    "original = [\"GEOID\", \"ALAND\", \"AWATER\", \"ALAND_SQMI\", \"AWATER_SQMI\", \"INTPTLAT\", \"INTPTLONG\"]\n",
    "header = [\n",
    "    \"ZIPCODE\",\n",
    "    \"LAND_AREA_MSQ\",\n",
    "    \"WATER_AREA_MSQ\",\n",
    "    \"LAND_AREA_SQMI\",\n",
    "    \"WATER_AREA_SQMI\",\n",
    "    \"LAT_ZC\",\n",
    "    \"LON_ZC\",\n",
    "]\n",
    "\n",
    "names = [x.lower() for x in header]\n",
    "\n",
    "logger.info(\"Dataframe and db column names\")\n",
    "logger.info(names)"
   ]
  },
  {
   "cell_type": "code",
   "execution_count": 9,
   "id": "f31fa225-9fb6-4d0e-8fca-93a6405261b9",
   "metadata": {},
   "outputs": [],
   "source": [
    "dtypes = {\n",
    "    names[0]: object,\n",
    "    names[1]: np.float64,\n",
    "    names[2]: np.float64,\n",
    "    names[3]: np.float64,\n",
    "    names[4]: np.float64,\n",
    "    names[5]: np.float64,\n",
    "    names[6]: np.float64,\n",
    "}"
   ]
  },
  {
   "cell_type": "code",
   "execution_count": 10,
   "id": "2fdb9260-e4ab-45a9-8ae2-81b4beb0a897",
   "metadata": {},
   "outputs": [],
   "source": [
    "try:\n",
    "    df_raw = pd.read_csv(data_path + data_file, sep=\"\\t\", dtype=dtypes, names=names, header=0)\n",
    "    logger.info(\"CSV file successfully read.\")\n",
    "except:\n",
    "    logger.error(\"error reading CSV file.\")"
   ]
  },
  {
   "cell_type": "code",
   "execution_count": 11,
   "id": "82245ae9-48df-4dc6-ace4-9a41b20dc2e7",
   "metadata": {},
   "outputs": [
    {
     "data": {
      "text/html": [
       "<div>\n",
       "<style scoped>\n",
       "    .dataframe tbody tr th:only-of-type {\n",
       "        vertical-align: middle;\n",
       "    }\n",
       "\n",
       "    .dataframe tbody tr th {\n",
       "        vertical-align: top;\n",
       "    }\n",
       "\n",
       "    .dataframe thead th {\n",
       "        text-align: right;\n",
       "    }\n",
       "</style>\n",
       "<table border=\"1\" class=\"dataframe\">\n",
       "  <thead>\n",
       "    <tr style=\"text-align: right;\">\n",
       "      <th></th>\n",
       "      <th>zipcode</th>\n",
       "      <th>land_area_msq</th>\n",
       "      <th>water_area_msq</th>\n",
       "      <th>land_area_sqmi</th>\n",
       "      <th>water_area_sqmi</th>\n",
       "      <th>lat_zc</th>\n",
       "      <th>lon_zc</th>\n",
       "    </tr>\n",
       "  </thead>\n",
       "  <tbody>\n",
       "    <tr>\n",
       "      <th>0</th>\n",
       "      <td>00601</td>\n",
       "      <td>1.666597e+08</td>\n",
       "      <td>799292.0</td>\n",
       "      <td>64.348</td>\n",
       "      <td>0.309</td>\n",
       "      <td>18.180555</td>\n",
       "      <td>-66.749961</td>\n",
       "    </tr>\n",
       "    <tr>\n",
       "      <th>1</th>\n",
       "      <td>00602</td>\n",
       "      <td>7.930754e+07</td>\n",
       "      <td>4428428.0</td>\n",
       "      <td>30.621</td>\n",
       "      <td>1.710</td>\n",
       "      <td>18.361945</td>\n",
       "      <td>-67.175597</td>\n",
       "    </tr>\n",
       "    <tr>\n",
       "      <th>2</th>\n",
       "      <td>00603</td>\n",
       "      <td>8.188720e+07</td>\n",
       "      <td>181412.0</td>\n",
       "      <td>31.617</td>\n",
       "      <td>0.070</td>\n",
       "      <td>18.455183</td>\n",
       "      <td>-67.119887</td>\n",
       "    </tr>\n",
       "    <tr>\n",
       "      <th>3</th>\n",
       "      <td>00606</td>\n",
       "      <td>1.095800e+08</td>\n",
       "      <td>12487.0</td>\n",
       "      <td>42.309</td>\n",
       "      <td>0.005</td>\n",
       "      <td>18.158327</td>\n",
       "      <td>-66.932928</td>\n",
       "    </tr>\n",
       "    <tr>\n",
       "      <th>4</th>\n",
       "      <td>00610</td>\n",
       "      <td>9.301343e+07</td>\n",
       "      <td>4172059.0</td>\n",
       "      <td>35.913</td>\n",
       "      <td>1.611</td>\n",
       "      <td>18.294032</td>\n",
       "      <td>-67.127156</td>\n",
       "    </tr>\n",
       "    <tr>\n",
       "      <th>...</th>\n",
       "      <td>...</td>\n",
       "      <td>...</td>\n",
       "      <td>...</td>\n",
       "      <td>...</td>\n",
       "      <td>...</td>\n",
       "      <td>...</td>\n",
       "      <td>...</td>\n",
       "    </tr>\n",
       "    <tr>\n",
       "      <th>33139</th>\n",
       "      <td>99923</td>\n",
       "      <td>4.249520e+07</td>\n",
       "      <td>2117.0</td>\n",
       "      <td>16.407</td>\n",
       "      <td>0.001</td>\n",
       "      <td>56.000518</td>\n",
       "      <td>-130.037474</td>\n",
       "    </tr>\n",
       "    <tr>\n",
       "      <th>33140</th>\n",
       "      <td>99925</td>\n",
       "      <td>1.440710e+08</td>\n",
       "      <td>34333408.0</td>\n",
       "      <td>55.626</td>\n",
       "      <td>13.256</td>\n",
       "      <td>55.550203</td>\n",
       "      <td>-132.945947</td>\n",
       "    </tr>\n",
       "    <tr>\n",
       "      <th>33141</th>\n",
       "      <td>99926</td>\n",
       "      <td>3.439446e+08</td>\n",
       "      <td>292859017.0</td>\n",
       "      <td>132.798</td>\n",
       "      <td>113.074</td>\n",
       "      <td>55.138352</td>\n",
       "      <td>-131.470425</td>\n",
       "    </tr>\n",
       "    <tr>\n",
       "      <th>33142</th>\n",
       "      <td>99927</td>\n",
       "      <td>5.896501e+08</td>\n",
       "      <td>18041593.0</td>\n",
       "      <td>227.665</td>\n",
       "      <td>6.966</td>\n",
       "      <td>56.239062</td>\n",
       "      <td>-133.457924</td>\n",
       "    </tr>\n",
       "    <tr>\n",
       "      <th>33143</th>\n",
       "      <td>99929</td>\n",
       "      <td>5.635963e+09</td>\n",
       "      <td>637274788.0</td>\n",
       "      <td>2176.058</td>\n",
       "      <td>246.053</td>\n",
       "      <td>56.370538</td>\n",
       "      <td>-131.693453</td>\n",
       "    </tr>\n",
       "  </tbody>\n",
       "</table>\n",
       "<p>33144 rows × 7 columns</p>\n",
       "</div>"
      ],
      "text/plain": [
       "      zipcode  land_area_msq  water_area_msq  land_area_sqmi  water_area_sqmi  \\\n",
       "0       00601   1.666597e+08        799292.0          64.348            0.309   \n",
       "1       00602   7.930754e+07       4428428.0          30.621            1.710   \n",
       "2       00603   8.188720e+07        181412.0          31.617            0.070   \n",
       "3       00606   1.095800e+08         12487.0          42.309            0.005   \n",
       "4       00610   9.301343e+07       4172059.0          35.913            1.611   \n",
       "...       ...            ...             ...             ...              ...   \n",
       "33139   99923   4.249520e+07          2117.0          16.407            0.001   \n",
       "33140   99925   1.440710e+08      34333408.0          55.626           13.256   \n",
       "33141   99926   3.439446e+08     292859017.0         132.798          113.074   \n",
       "33142   99927   5.896501e+08      18041593.0         227.665            6.966   \n",
       "33143   99929   5.635963e+09     637274788.0        2176.058          246.053   \n",
       "\n",
       "          lat_zc      lon_zc  \n",
       "0      18.180555  -66.749961  \n",
       "1      18.361945  -67.175597  \n",
       "2      18.455183  -67.119887  \n",
       "3      18.158327  -66.932928  \n",
       "4      18.294032  -67.127156  \n",
       "...          ...         ...  \n",
       "33139  56.000518 -130.037474  \n",
       "33140  55.550203 -132.945947  \n",
       "33141  55.138352 -131.470425  \n",
       "33142  56.239062 -133.457924  \n",
       "33143  56.370538 -131.693453  \n",
       "\n",
       "[33144 rows x 7 columns]"
      ]
     },
     "execution_count": 11,
     "metadata": {},
     "output_type": "execute_result"
    }
   ],
   "source": [
    "df_raw"
   ]
  },
  {
   "cell_type": "code",
   "execution_count": 12,
   "id": "2233d878-51cf-48c1-8db0-05c2a032010f",
   "metadata": {},
   "outputs": [],
   "source": [
    "# establish db connection and cursor\n",
    "conn = sqlite3.connect(db_path + db_file)\n",
    "cursor = conn.cursor()"
   ]
  },
  {
   "cell_type": "code",
   "execution_count": 13,
   "id": "2d75b276-b3dd-4a63-9f38-689df086bec9",
   "metadata": {},
   "outputs": [],
   "source": [
    "cursor.execute(queries.create_table_geo_zipcodes)\n",
    "conn.commit()\n",
    "cursor.execute(queries.create_table_nsrdb)\n",
    "conn.commit()"
   ]
  },
  {
   "cell_type": "code",
   "execution_count": 14,
   "id": "07def03a-04a1-42c1-b3bd-efff5a75844f",
   "metadata": {},
   "outputs": [],
   "source": [
    "df_raw.to_sql(\n",
    "    \"geo_zipcodes\",\n",
    "    conn,\n",
    "    if_exists=\"append\",\n",
    "    index=False,\n",
    "    method=\"multi\",\n",
    ")\n",
    "conn.commit()"
   ]
  },
  {
   "cell_type": "code",
   "execution_count": 15,
   "id": "98dc3b47-538e-4701-8d76-99a6f4ae0059",
   "metadata": {},
   "outputs": [],
   "source": [
    "conn.close()"
   ]
  },
  {
   "cell_type": "code",
   "execution_count": null,
   "id": "661ceb07-a818-4b70-8f05-35843272f927",
   "metadata": {},
   "outputs": [],
   "source": []
  }
 ],
 "metadata": {
  "kernelspec": {
   "display_name": "Python 3 (ipykernel)",
   "language": "python",
   "name": "python3"
  },
  "language_info": {
   "codemirror_mode": {
    "name": "ipython",
    "version": 3
   },
   "file_extension": ".py",
   "mimetype": "text/x-python",
   "name": "python",
   "nbconvert_exporter": "python",
   "pygments_lexer": "ipython3",
   "version": "3.8.10"
  }
 },
 "nbformat": 4,
 "nbformat_minor": 5
}
