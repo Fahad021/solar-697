{
 "cells": [
  {
   "cell_type": "code",
   "execution_count": 1,
   "id": "b8ed96d2-f598-410c-8e7b-aef650ede86e",
   "metadata": {},
   "outputs": [],
   "source": [
    "import datetime\n",
    "import math\n",
    "import os\n",
    "import site\n",
    "import sqlite3\n",
    "import sys\n",
    "\n",
    "import logzero\n",
    "import matplotlib.pyplot as plt\n",
    "import numpy as np\n",
    "import pandas as pd\n",
    "import seaborn as sns\n",
    "import yaml\n",
    "from logzero import logger\n",
    "from tqdm import tqdm\n",
    "from tqdm.notebook import tqdm\n",
    "from yaml import dump, load, safe_load"
   ]
  },
  {
   "cell_type": "code",
   "execution_count": 2,
   "id": "dc388377-dec3-4805-9748-6e94f7167848",
   "metadata": {},
   "outputs": [],
   "source": [
    "import warnings\n",
    "\n",
    "warnings.filterwarnings(\"ignore\")"
   ]
  },
  {
   "cell_type": "code",
   "execution_count": 3,
   "id": "86e665a0-1323-4eb5-b9d3-687a75920389",
   "metadata": {},
   "outputs": [],
   "source": [
    "import tensorflow\n",
    "import tensorflow as tf\n",
    "from tensorflow.keras import Model, Sequential\n",
    "from tensorflow.keras.callbacks import EarlyStopping\n",
    "from tensorflow.keras.layers import LSTM, RNN, Conv1D, Dense, Lambda, LSTMCell, Reshape\n",
    "from tensorflow.keras.losses import MeanSquaredError\n",
    "from tensorflow.keras.metrics import MeanAbsoluteError\n",
    "from tensorflow.keras.optimizers import Adam\n",
    "\n",
    "# print(tf.__version__)"
   ]
  },
  {
   "cell_type": "code",
   "execution_count": 4,
   "id": "67cf09d8-5966-4d49-8769-92630a0ca459",
   "metadata": {},
   "outputs": [],
   "source": [
    "sys.path.append(\"../../sql\")\n",
    "import queries\n",
    "\n",
    "sys.path.append(\"../source\")\n",
    "import dl_tools\n",
    "import ts_tools"
   ]
  },
  {
   "cell_type": "markdown",
   "id": "7fcfed27-63d8-4c3c-a3fb-b4068bd2d908",
   "metadata": {},
   "source": [
    "### Resources  \n",
    "1) https://machinelearningmastery.com/time-series-forecasting-long-short-term-memory-network-python/"
   ]
  },
  {
   "cell_type": "code",
   "execution_count": 5,
   "id": "2ce079b4-726c-48cd-bc80-0cff3b830929",
   "metadata": {},
   "outputs": [],
   "source": [
    "plt.rcParams[\"figure.figsize\"] = 30, 25\n",
    "\n",
    "plt.rcParams[\"ytick.labelsize\"] = 20\n",
    "plt.rcParams[\"xtick.labelsize\"] = 20\n",
    "\n",
    "plt.rcParams[\"axes.grid\"] = False\n",
    "plt.rcParams[\"axes.labelsize\"] = 20\n",
    "plt.rcParams[\"axes.labelpad\"] = 16\n",
    "plt.rcParams[\"axes.xmargin\"] = 0.05\n",
    "plt.rcParams[\"axes.ymargin\"] = 0.05"
   ]
  },
  {
   "cell_type": "code",
   "execution_count": 6,
   "id": "5c1d6138-c247-462d-8217-49d1f9f14d54",
   "metadata": {},
   "outputs": [],
   "source": [
    "tf.random.set_seed(42)\n",
    "np.random.seed(42)"
   ]
  },
  {
   "cell_type": "code",
   "execution_count": 7,
   "id": "0327073a-ba4e-4061-bf34-9da5e1e812b4",
   "metadata": {},
   "outputs": [],
   "source": [
    "log_path = \"logs/\"\n",
    "log_file = \"ts_lstm.log\"\n",
    "\n",
    "logzero.logfile(log_path + log_file, maxBytes=1e6, backupCount=5, disableStderrLogger=True)\n",
    "logger.info(f\"{log_path}, {log_file}\\n\")"
   ]
  },
  {
   "cell_type": "code",
   "execution_count": 8,
   "id": "bfd78bbc-7068-4c84-8cae-210ff78a4e0b",
   "metadata": {},
   "outputs": [],
   "source": [
    "configs = None\n",
    "try:\n",
    "    with open(\"../configs/config.yml\", \"r\") as config_in:\n",
    "        configs = load(config_in, Loader=yaml.SafeLoader)\n",
    "        logger.info(f\"{configs}\\n\")\n",
    "except:\n",
    "    logger.error(f\"config file open failure.\")\n",
    "    exit(1)\n",
    "\n",
    "cfg_vars = configs[\"url_variables\"]\n",
    "logger.info(f\"variables: {cfg_vars}\\n\")\n",
    "\n",
    "years = configs[\"request_years\"]\n",
    "logger.info(f\"years: {years}\\n\")\n",
    "\n",
    "db_path = configs[\"file_paths\"][\"db_path\"]\n",
    "\n",
    "city = configs[\"location_info\"][\"city\"]\n",
    "state = configs[\"location_info\"][\"state\"]\n",
    "db_file = city + \"-\" + state + \".db\"\n",
    "\n",
    "db_table1 = configs[\"table_names\"][\"db_table1\"]\n",
    "db_table2 = configs[\"table_names\"][\"db_table2\"]\n",
    "\n",
    "data_units = configs[\"lstm_cfg\"][\"data_units\"]\n",
    "period = configs[\"lstm_cfg\"][\"period\"]\n",
    "periods_train = configs[\"lstm_cfg\"][\"periods_train\"]\n",
    "periods_val = configs[\"lstm_cfg\"][\"periods_val\"]\n",
    "periods_test = configs[\"lstm_cfg\"][\"periods_test\"]\n",
    "\n",
    "lower = configs[\"lstm_cfg\"][\"min_max_lower\"]\n",
    "upper = configs[\"lstm_cfg\"][\"min_max_upper\"]\n",
    "\n",
    "logger.info(f\"{db_path}, {db_file}\")\n",
    "\n",
    "nrows = configs[\"num_rows\"][0]\n",
    "logger.info(f\"number of rows: {nrows}\\n\")"
   ]
  },
  {
   "cell_type": "code",
   "execution_count": 9,
   "id": "4d95e81e-46ea-4551-9879-ffac16bc2dba",
   "metadata": {},
   "outputs": [],
   "source": [
    "conn = sqlite3.connect(db_path + db_file)\n",
    "cursor = conn.cursor()"
   ]
  },
  {
   "cell_type": "code",
   "execution_count": 10,
   "id": "f42b869f-583b-477c-8df1-b1b42360b79c",
   "metadata": {},
   "outputs": [
    {
     "name": "stdout",
     "output_type": "stream",
     "text": [
      "['91708']\n"
     ]
    }
   ],
   "source": [
    "cursor.execute(queries.select_distinct_zips)\n",
    "distinct_zipcodes = cursor.fetchall()\n",
    "distinct_zipcodes = [z[0] for z in distinct_zipcodes]\n",
    "logger.info(f\"distinct zip codes:\\n{distinct_zipcodes}\")\n",
    "print(distinct_zipcodes)"
   ]
  },
  {
   "cell_type": "code",
   "execution_count": 11,
   "id": "5b7f1aa4-1445-4b32-b052-0830972d8779",
   "metadata": {},
   "outputs": [],
   "source": [
    "zipcode_index = 0\n",
    "params = {\"zipcode\": distinct_zipcodes[zipcode_index]}\n",
    "\n",
    "select_nsr_rows = f\"\"\"\n",
    "SELECT date_time,\n",
    "-- year, month, day, \n",
    "-- zipcode,\n",
    "-- Clearsky_DHI, DHI,\n",
    "Clearsky_DNI, DNI,\n",
    "Clearsky_GHI, GHI,\n",
    "Temperature,\n",
    "Relative_Humidity,\n",
    "Precipitable_Water,\n",
    "-- Wind_Direction,\n",
    "Wind_Speed\n",
    "from nsrdb\n",
    "where zipcode = :zipcode\n",
    "-- and not (month = 2 and day = 29)\n",
    "-- and year = 2000\n",
    ";\n",
    "\"\"\"\n",
    "\n",
    "df = pd.read_sql(\n",
    "    select_nsr_rows,\n",
    "    conn,\n",
    "    params=params,\n",
    "    index_col=\"date_time\",\n",
    "    parse_dates=[\"date_time\"],\n",
    ")\n",
    "\n",
    "df.sort_index(axis=0, inplace=True)\n",
    "# df.head(5)"
   ]
  },
  {
   "cell_type": "code",
   "execution_count": 12,
   "id": "19c2b8c7-4bd4-4a31-905c-520714197f3b",
   "metadata": {},
   "outputs": [
    {
     "data": {
      "text/html": [
       "<div>\n",
       "<style scoped>\n",
       "    .dataframe tbody tr th:only-of-type {\n",
       "        vertical-align: middle;\n",
       "    }\n",
       "\n",
       "    .dataframe tbody tr th {\n",
       "        vertical-align: top;\n",
       "    }\n",
       "\n",
       "    .dataframe thead th {\n",
       "        text-align: right;\n",
       "    }\n",
       "</style>\n",
       "<table border=\"1\" class=\"dataframe\">\n",
       "  <thead>\n",
       "    <tr style=\"text-align: right;\">\n",
       "      <th></th>\n",
       "      <th>Clearsky_DNI</th>\n",
       "      <th>DNI</th>\n",
       "      <th>Clearsky_GHI</th>\n",
       "      <th>GHI</th>\n",
       "      <th>Temperature</th>\n",
       "      <th>Relative_Humidity</th>\n",
       "      <th>Precipitable_Water</th>\n",
       "      <th>Wind_Speed</th>\n",
       "    </tr>\n",
       "    <tr>\n",
       "      <th>date_time</th>\n",
       "      <th></th>\n",
       "      <th></th>\n",
       "      <th></th>\n",
       "      <th></th>\n",
       "      <th></th>\n",
       "      <th></th>\n",
       "      <th></th>\n",
       "      <th></th>\n",
       "    </tr>\n",
       "  </thead>\n",
       "  <tbody>\n",
       "    <tr>\n",
       "      <th>1998-01-01</th>\n",
       "      <td>293.458333</td>\n",
       "      <td>293.458333</td>\n",
       "      <td>142.541667</td>\n",
       "      <td>142.541667</td>\n",
       "      <td>15.416667</td>\n",
       "      <td>66.250417</td>\n",
       "      <td>1.320042</td>\n",
       "      <td>1.375000</td>\n",
       "    </tr>\n",
       "    <tr>\n",
       "      <th>1998-01-02</th>\n",
       "      <td>289.833333</td>\n",
       "      <td>55.583333</td>\n",
       "      <td>143.458333</td>\n",
       "      <td>61.666667</td>\n",
       "      <td>12.125000</td>\n",
       "      <td>93.799167</td>\n",
       "      <td>1.329208</td>\n",
       "      <td>2.245833</td>\n",
       "    </tr>\n",
       "    <tr>\n",
       "      <th>1998-01-03</th>\n",
       "      <td>300.625000</td>\n",
       "      <td>18.250000</td>\n",
       "      <td>144.291667</td>\n",
       "      <td>42.000000</td>\n",
       "      <td>11.208333</td>\n",
       "      <td>93.456667</td>\n",
       "      <td>1.365375</td>\n",
       "      <td>1.779167</td>\n",
       "    </tr>\n",
       "    <tr>\n",
       "      <th>1998-01-04</th>\n",
       "      <td>291.833333</td>\n",
       "      <td>65.916667</td>\n",
       "      <td>144.000000</td>\n",
       "      <td>47.875000</td>\n",
       "      <td>8.250000</td>\n",
       "      <td>94.297917</td>\n",
       "      <td>1.054083</td>\n",
       "      <td>2.008333</td>\n",
       "    </tr>\n",
       "    <tr>\n",
       "      <th>1998-01-05</th>\n",
       "      <td>344.250000</td>\n",
       "      <td>311.333333</td>\n",
       "      <td>154.666667</td>\n",
       "      <td>147.916667</td>\n",
       "      <td>6.041667</td>\n",
       "      <td>63.997917</td>\n",
       "      <td>0.403500</td>\n",
       "      <td>1.620833</td>\n",
       "    </tr>\n",
       "  </tbody>\n",
       "</table>\n",
       "</div>"
      ],
      "text/plain": [
       "            Clearsky_DNI         DNI  Clearsky_GHI         GHI  Temperature  \\\n",
       "date_time                                                                     \n",
       "1998-01-01    293.458333  293.458333    142.541667  142.541667    15.416667   \n",
       "1998-01-02    289.833333   55.583333    143.458333   61.666667    12.125000   \n",
       "1998-01-03    300.625000   18.250000    144.291667   42.000000    11.208333   \n",
       "1998-01-04    291.833333   65.916667    144.000000   47.875000     8.250000   \n",
       "1998-01-05    344.250000  311.333333    154.666667  147.916667     6.041667   \n",
       "\n",
       "            Relative_Humidity  Precipitable_Water  Wind_Speed  \n",
       "date_time                                                      \n",
       "1998-01-01          66.250417            1.320042    1.375000  \n",
       "1998-01-02          93.799167            1.329208    2.245833  \n",
       "1998-01-03          93.456667            1.365375    1.779167  \n",
       "1998-01-04          94.297917            1.054083    2.008333  \n",
       "1998-01-05          63.997917            0.403500    1.620833  "
      ]
     },
     "execution_count": 12,
     "metadata": {},
     "output_type": "execute_result"
    }
   ],
   "source": [
    "df_rsd = df.resample(\"D\").mean().reset_index(drop=False)\n",
    "df_rsd.set_index(\"date_time\", inplace=True)\n",
    "df_rsd.head()"
   ]
  },
  {
   "cell_type": "code",
   "execution_count": 13,
   "id": "105b681c-8e71-4060-b29d-6a43812d14bd",
   "metadata": {},
   "outputs": [
    {
     "data": {
      "text/html": [
       "<div>\n",
       "<style scoped>\n",
       "    .dataframe tbody tr th:only-of-type {\n",
       "        vertical-align: middle;\n",
       "    }\n",
       "\n",
       "    .dataframe tbody tr th {\n",
       "        vertical-align: top;\n",
       "    }\n",
       "\n",
       "    .dataframe thead th {\n",
       "        text-align: right;\n",
       "    }\n",
       "</style>\n",
       "<table border=\"1\" class=\"dataframe\">\n",
       "  <thead>\n",
       "    <tr style=\"text-align: right;\">\n",
       "      <th></th>\n",
       "      <th>Clearsky_DNI</th>\n",
       "      <th>DNI</th>\n",
       "      <th>Clearsky_GHI</th>\n",
       "      <th>GHI</th>\n",
       "      <th>Temperature</th>\n",
       "      <th>Relative_Humidity</th>\n",
       "      <th>Precipitable_Water</th>\n",
       "      <th>Wind_Speed</th>\n",
       "    </tr>\n",
       "    <tr>\n",
       "      <th>date_time</th>\n",
       "      <th></th>\n",
       "      <th></th>\n",
       "      <th></th>\n",
       "      <th></th>\n",
       "      <th></th>\n",
       "      <th></th>\n",
       "      <th></th>\n",
       "      <th></th>\n",
       "    </tr>\n",
       "  </thead>\n",
       "  <tbody>\n",
       "    <tr>\n",
       "      <th>1998-01-31</th>\n",
       "      <td>312.725806</td>\n",
       "      <td>193.256720</td>\n",
       "      <td>158.559140</td>\n",
       "      <td>116.268817</td>\n",
       "      <td>11.461022</td>\n",
       "      <td>74.901344</td>\n",
       "      <td>1.196043</td>\n",
       "      <td>1.408737</td>\n",
       "    </tr>\n",
       "    <tr>\n",
       "      <th>1998-02-28</th>\n",
       "      <td>330.165179</td>\n",
       "      <td>171.066964</td>\n",
       "      <td>201.436012</td>\n",
       "      <td>136.398810</td>\n",
       "      <td>10.007440</td>\n",
       "      <td>86.479226</td>\n",
       "      <td>1.425155</td>\n",
       "      <td>2.150149</td>\n",
       "    </tr>\n",
       "    <tr>\n",
       "      <th>1998-03-31</th>\n",
       "      <td>365.642473</td>\n",
       "      <td>219.232527</td>\n",
       "      <td>261.442204</td>\n",
       "      <td>187.193548</td>\n",
       "      <td>12.858871</td>\n",
       "      <td>76.266237</td>\n",
       "      <td>1.270946</td>\n",
       "      <td>1.910887</td>\n",
       "    </tr>\n",
       "    <tr>\n",
       "      <th>1998-04-30</th>\n",
       "      <td>384.641667</td>\n",
       "      <td>292.604167</td>\n",
       "      <td>313.873611</td>\n",
       "      <td>268.347222</td>\n",
       "      <td>13.668056</td>\n",
       "      <td>72.995972</td>\n",
       "      <td>1.137753</td>\n",
       "      <td>1.906944</td>\n",
       "    </tr>\n",
       "    <tr>\n",
       "      <th>1998-05-31</th>\n",
       "      <td>399.022849</td>\n",
       "      <td>244.490591</td>\n",
       "      <td>345.922043</td>\n",
       "      <td>257.693548</td>\n",
       "      <td>14.939516</td>\n",
       "      <td>79.635323</td>\n",
       "      <td>1.470833</td>\n",
       "      <td>2.055242</td>\n",
       "    </tr>\n",
       "  </tbody>\n",
       "</table>\n",
       "</div>"
      ],
      "text/plain": [
       "            Clearsky_DNI         DNI  Clearsky_GHI         GHI  Temperature  \\\n",
       "date_time                                                                     \n",
       "1998-01-31    312.725806  193.256720    158.559140  116.268817    11.461022   \n",
       "1998-02-28    330.165179  171.066964    201.436012  136.398810    10.007440   \n",
       "1998-03-31    365.642473  219.232527    261.442204  187.193548    12.858871   \n",
       "1998-04-30    384.641667  292.604167    313.873611  268.347222    13.668056   \n",
       "1998-05-31    399.022849  244.490591    345.922043  257.693548    14.939516   \n",
       "\n",
       "            Relative_Humidity  Precipitable_Water  Wind_Speed  \n",
       "date_time                                                      \n",
       "1998-01-31          74.901344            1.196043    1.408737  \n",
       "1998-02-28          86.479226            1.425155    2.150149  \n",
       "1998-03-31          76.266237            1.270946    1.910887  \n",
       "1998-04-30          72.995972            1.137753    1.906944  \n",
       "1998-05-31          79.635323            1.470833    2.055242  "
      ]
     },
     "execution_count": 13,
     "metadata": {},
     "output_type": "execute_result"
    }
   ],
   "source": [
    "df_rsm = df.resample(\"M\").mean().reset_index(drop=False)\n",
    "df_rsm.set_index(\"date_time\", inplace=True)\n",
    "df_rsm.head()"
   ]
  },
  {
   "cell_type": "code",
   "execution_count": 14,
   "id": "0cf3ebd3-60f1-4153-9e29-276ee2ad29d7",
   "metadata": {},
   "outputs": [
    {
     "name": "stdout",
     "output_type": "stream",
     "text": [
      "['Clearsky_DNI', 'DNI', 'Clearsky_GHI', 'GHI', 'Temperature', 'Relative_Humidity', 'Precipitable_Water', 'Wind_Speed'] \n",
      "\n",
      "period type: M, period: 12,\n",
      "periods_train: 16, periods_val: 5, periods_test: 2\n",
      "train_len: 192, validate_len: 60, test_len: 24\n"
     ]
    }
   ],
   "source": [
    "columns = df.columns.tolist()\n",
    "print(columns, \"\\n\")\n",
    "forecast_on_idx = 4\n",
    "\n",
    "if data_units == \"D\":\n",
    "    df_rs = df_rsd.copy()\n",
    "else:\n",
    "    df_rs = df_rsm.copy()\n",
    "\n",
    "train_len = period * periods_train\n",
    "val_len = period * periods_val\n",
    "test_len = period * periods_test\n",
    "\n",
    "val_end = train_len + val_len\n",
    "\n",
    "print(\n",
    "    f\"period type: {data_units}, period: {period},\\nperiods_train: {periods_train}, periods_val: {periods_val}, periods_test: {periods_test}\"\n",
    ")\n",
    "\n",
    "print(f\"train_len: {train_len}, validate_len: {val_len}, test_len: {test_len}\")"
   ]
  },
  {
   "cell_type": "code",
   "execution_count": 15,
   "id": "ed58fdec-afa8-433e-a95e-e549b478c48c",
   "metadata": {},
   "outputs": [],
   "source": [
    "df_lstm = df_rs[columns[forecast_on_idx]]\n",
    "# df_lstm.head(7)\n",
    "\n",
    "X = df_lstm.values\n",
    "# print(X)"
   ]
  },
  {
   "cell_type": "code",
   "execution_count": 16,
   "id": "6fc14b4b-9842-46fa-830a-5cefce664cce",
   "metadata": {},
   "outputs": [],
   "source": [
    "X_train, X_val, X_test = X[:train_len], X[train_len:val_end], X[val_end:]\n",
    "# print(X_train.shape, X_val.shape, X_test.shape)\n",
    "# print(X_test)"
   ]
  },
  {
   "cell_type": "code",
   "execution_count": 22,
   "id": "1f7c284d-994a-4031-b3fb-0ec1564add3c",
   "metadata": {},
   "outputs": [],
   "source": [
    "# dl_tools.persistence_forecast_plot(X_train, X_val)"
   ]
  },
  {
   "cell_type": "code",
   "execution_count": null,
   "id": "63573b8d-5648-4561-8e1c-fd1dcfcff40c",
   "metadata": {},
   "outputs": [],
   "source": [
    "scaler = MinMaxScaler(feature_range=(lower, upper))\n",
    "scaler = scaler.fit(X_train)\n",
    "X_train_scaled = scaler.transform(X_train)\n",
    "X_val_scaled = scaler.transform(X_val)\n",
    "X_test_scaled = scaler.transform(X_test)"
   ]
  },
  {
   "cell_type": "code",
   "execution_count": 17,
   "id": "808da2e2-8a46-4936-86ad-9084d48f752b",
   "metadata": {},
   "outputs": [],
   "source": [
    "# difference transform\n",
    "test_diff = dl_tools.difference(X_test, interval=1)\n",
    "# print(test_diff.values)\n",
    "\n",
    "# invert transform\n",
    "orig = dl_tools.inverse_difference(X_test, test_diff)\n",
    "# print(orig.values)"
   ]
  },
  {
   "cell_type": "code",
   "execution_count": 18,
   "id": "a352058d-7f39-41c1-8a1f-c058e02a1791",
   "metadata": {},
   "outputs": [],
   "source": [
    "df_test_sup = dl_tools.make_supervised(test_diff, lag=1)\n",
    "# df_test_sup"
   ]
  },
  {
   "cell_type": "code",
   "execution_count": null,
   "id": "2851705f-fe00-425b-85cc-752b514e9c63",
   "metadata": {},
   "outputs": [],
   "source": [
    "X, y = train[:, 0:-1], train[:, -1]\n",
    "X = X.reshape(X.shape[0], 1, X.shape[1])"
   ]
  },
  {
   "cell_type": "code",
   "execution_count": null,
   "id": "7e64cc07-4d88-4da7-87be-22bac927a3de",
   "metadata": {},
   "outputs": [],
   "source": [
    "model = Sequential()\n",
    "model.add(LSTM(neurons, batch_input_shape=(batch_size, X.shape[1], X.shape[2]), stateful=True))\n",
    "model.add(Dense(1))\n",
    "model.compile(loss='mean_squared_error', optimizer='adam')\n",
    "\n",
    "layer = LSTM(neurons, batch_input_shape=(batch_size, X.shape[1], X.shape[2]), stateful=True)"
   ]
  }
 ],
 "metadata": {
  "kernelspec": {
   "display_name": "Python 3 (ipykernel)",
   "language": "python",
   "name": "python3"
  },
  "language_info": {
   "codemirror_mode": {
    "name": "ipython",
    "version": 3
   },
   "file_extension": ".py",
   "mimetype": "text/x-python",
   "name": "python",
   "nbconvert_exporter": "python",
   "pygments_lexer": "ipython3",
   "version": "3.8.10"
  }
 },
 "nbformat": 4,
 "nbformat_minor": 5
}
