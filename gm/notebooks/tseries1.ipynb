{
 "cells": [
  {
   "cell_type": "code",
   "execution_count": null,
   "id": "70cc5794-ba29-42d5-a109-da7c3a28969d",
   "metadata": {},
   "outputs": [],
   "source": [
    "import os\n",
    "import site\n",
    "import sqlite3\n",
    "import sys\n",
    "from time import sleep\n",
    "\n",
    "import logzero\n",
    "import numpy as np\n",
    "import pandas as pd\n",
    "import yaml\n",
    "from logzero import logger\n",
    "from tqdm import tqdm\n",
    "from yaml import dump, load, safe_load"
   ]
  },
  {
   "cell_type": "code",
   "execution_count": null,
   "id": "ff27f40c-933e-40a2-8af0-0a341339cd48",
   "metadata": {},
   "outputs": [],
   "source": [
    "log_path = \"logs/\"\n",
    "log_file = \"tseries1.log\"\n",
    "\n",
    "logzero.logfile(log_path + log_file, maxBytes=1e6, backupCount=5, disableStderrLogger=True)\n",
    "logger.info(f\"{log_path}, {log_file}\\n\")"
   ]
  },
  {
   "cell_type": "code",
   "execution_count": null,
   "id": "25e3aed7-c9f0-48ff-be5d-ce70999b5c8d",
   "metadata": {},
   "outputs": [],
   "source": [
    "sys.path.append(\"../../../data/sql\")\n",
    "import queries"
   ]
  },
  {
   "cell_type": "code",
   "execution_count": null,
   "id": "336d9acf-7806-4e09-a1f8-b560a2a71f06",
   "metadata": {},
   "outputs": [],
   "source": [
    "configs = None\n",
    "try:\n",
    "    with open(\"../source/config.yml\", \"r\") as config_in:\n",
    "        configs = load(config_in, Loader=yaml.SafeLoader)\n",
    "        logger.info(f\"{configs}\\n\")\n",
    "except:\n",
    "    logger.error(f\"config file open failure.\")\n",
    "    exit(1)\n",
    "\n",
    "cfg_vars = configs[\"url_variables\"]\n",
    "logger.info(f\"variables: {cfg_vars}\\n\")\n",
    "\n",
    "years = configs[\"request_years\"]\n",
    "logger.info(f\"years: {years}\\n\")\n",
    "\n",
    "db_path = configs[\"file_locations\"][\"db_path\"]\n",
    "db_file = configs[\"file_locations\"][\"db_file\"]\n",
    "db_table1 = configs[\"file_locations\"][\"db_table1\"]\n",
    "db_table2 = configs[\"file_locations\"][\"db_table2\"]\n",
    "\n",
    "logger.info(f\"{db_path}, {db_file}\")\n",
    "\n",
    "nrows = configs[\"num_rows\"][0]\n",
    "logger.info(f\"number of rows: {nrows}\\n\")"
   ]
  },
  {
   "cell_type": "code",
   "execution_count": null,
   "id": "b9fc17b0-aae1-43b5-af55-b381790a6c17",
   "metadata": {},
   "outputs": [],
   "source": [
    "conn = sqlite3.connect(db_path + db_file)\n",
    "cursor = conn.cursor()\n",
    "get_nsr_rows = queries.select_nsr_rows\n",
    "year = 2020"
   ]
  },
  {
   "cell_type": "code",
   "execution_count": null,
   "id": "2488ae8a-66f2-4763-879f-c776c428e9be",
   "metadata": {},
   "outputs": [],
   "source": [
    "df = pd.read_sql(get_nsr_rows, conn, params={\"year\": year}, parse_dates=[\"date_time\"])"
   ]
  }
 ],
 "metadata": {
  "kernelspec": {
   "display_name": "Python 3 (ipykernel)",
   "language": "python",
   "name": "python3"
  },
  "language_info": {
   "codemirror_mode": {
    "name": "ipython",
    "version": 3
   },
   "file_extension": ".py",
   "mimetype": "text/x-python",
   "name": "python",
   "nbconvert_exporter": "python",
   "pygments_lexer": "ipython3",
   "version": "3.8.10"
  }
 },
 "nbformat": 4,
 "nbformat_minor": 5
}
