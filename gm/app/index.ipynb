{
 "cells": [
  {
   "cell_type": "code",
   "execution_count": 1,
   "id": "384b67ce-4625-4fa5-995f-a2c2f23f8372",
   "metadata": {},
   "outputs": [],
   "source": [
    "import dash\n",
    "import dash_bootstrap_components as dbc\n",
    "import dash_core_components as dcc\n",
    "import dash_html_components as html\n",
    "import logzero\n",
    "from app import app\n",
    "from apps import app1, app2\n",
    "from dash.dependencies import Input, Output\n",
    "from dash_table import DataTable\n",
    "from logzero import logger"
   ]
  },
  {
   "cell_type": "code",
   "execution_count": 2,
   "id": "3e0514ff-714a-4a29-9b21-2538ef36ef94",
   "metadata": {},
   "outputs": [],
   "source": [
    "log_path = \"logs/\"\n",
    "log_file = \"dashboard_app.log\"\n",
    "\n",
    "logzero.logfile(\n",
    "    log_path + log_file,\n",
    "    maxBytes=1e5,\n",
    "    backupCount=1,\n",
    "    disableStderrLogger=True,\n",
    ")\n",
    "logger.info(f\"{log_path}, {log_file}\\n\")"
   ]
  },
  {
   "cell_type": "code",
   "execution_count": 3,
   "id": "9d5d7433-a3bd-4c93-a264-89aee4f29235",
   "metadata": {},
   "outputs": [],
   "source": [
    "navbar_style = {\n",
    "    \"position\": \"fixed\",\n",
    "    \"top\": 70,\n",
    "    # \"padding\": \"4rem\",\n",
    "}\n",
    "\n",
    "app.layout = html.Div(\n",
    "    [\n",
    "        dcc.Location(id=\"url\", refresh=True),\n",
    "        dbc.Row(\n",
    "            [\n",
    "                dbc.Col(\n",
    "                    dbc.Nav(\n",
    "                        [\n",
    "                            dbc.NavLink(\n",
    "                                \"EDA\",\n",
    "                                href=\"/apps/app1\",\n",
    "                                active=\"exact\",\n",
    "                            ),\n",
    "                            dbc.NavLink(\n",
    "                                \"Data Trends\",\n",
    "                                href=\"/apps/app2\",\n",
    "                                active=\"exact\",\n",
    "                            ),\n",
    "                            dbc.NavLink(\n",
    "                                \"Forecasting\",\n",
    "                                href=\"/apps/app3\",\n",
    "                                active=\"exact\",\n",
    "                            ),\n",
    "                        ],\n",
    "                        vertical=True,\n",
    "                        pills=True,\n",
    "                        style=navbar_style,\n",
    "                    ),\n",
    "                    width=1,\n",
    "                ),\n",
    "                dbc.Col(\n",
    "                    [\n",
    "                        html.Div(\n",
    "                            id=\"page-content\",\n",
    "                            children=[],\n",
    "                        ),\n",
    "                    ],\n",
    "                    width=11,\n",
    "                ),\n",
    "            ]\n",
    "        ),\n",
    "    ],\n",
    ")\n",
    "\n",
    "\n",
    "@app.callback(\n",
    "    Output(\"page-content\", \"children\"),\n",
    "    Input(\"url\", \"pathname\"),\n",
    ")\n",
    "def display_page(pathname):\n",
    "    if pathname == \"/\":\n",
    "        return app1.layout_app1\n",
    "    if pathname == \"/apps/app1\":\n",
    "        return app1.layout_app1\n",
    "    elif pathname == \"/apps/app2\":\n",
    "        return app2.layout_app2\n",
    "    elif pathname == \"/apps/app3\":\n",
    "        return app3.layout_app3\n",
    "    else:\n",
    "        return dbc.Jumbotron(\n",
    "            [\n",
    "                html.H1(\"404: Content not found\"),\n",
    "                html.Hr(),\n",
    "                html.P(f\"path -> {pathname} not available\"),\n",
    "            ]\n",
    "        )"
   ]
  },
  {
   "cell_type": "code",
   "execution_count": 4,
   "id": "39a25792-b799-441a-8d65-d8e09a2023a1",
   "metadata": {},
   "outputs": [
    {
     "name": "stdout",
     "output_type": "stream",
     "text": [
      "Dash is running on http://192.168.64.164:8080/\n",
      "\n",
      " * Serving Flask app 'app' (lazy loading)\n",
      " * Environment: production\n",
      "\u001b[31m   WARNING: This is a development server. Do not use it in a production deployment.\u001b[0m\n",
      "\u001b[2m   Use a production WSGI server instead.\u001b[0m\n",
      " * Debug mode: on\n"
     ]
    }
   ],
   "source": [
    "if __name__ == \"__main__\":\n",
    "    app.run_server(\n",
    "        host=\"192.168.64.164\",\n",
    "        port=\"8080\",\n",
    "        use_reloader=False,\n",
    "        debug=True,\n",
    "    )"
   ]
  }
 ],
 "metadata": {
  "kernelspec": {
   "display_name": "Python 3 (ipykernel)",
   "language": "python",
   "name": "python3"
  },
  "language_info": {
   "codemirror_mode": {
    "name": "ipython",
    "version": 3
   },
   "file_extension": ".py",
   "mimetype": "text/x-python",
   "name": "python",
   "nbconvert_exporter": "python",
   "pygments_lexer": "ipython3",
   "version": "3.8.10"
  }
 },
 "nbformat": 4,
 "nbformat_minor": 5
}
