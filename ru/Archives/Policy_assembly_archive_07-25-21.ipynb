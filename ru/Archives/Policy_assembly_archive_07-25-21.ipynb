{
 "cells": [
  {
   "cell_type": "code",
   "execution_count": null,
   "metadata": {},
   "outputs": [],
   "source": [
    "import json\n",
    "import os\n",
    "import pickle\n",
    "import shutil\n",
    "import sqlite3\n",
    "from collections import defaultdict\n",
    "from datetime import datetime\n",
    "from time import sleep\n",
    "#import query\n",
    "import logzero\n",
    "import requests\n",
    "#import secret\n",
    "\n",
    "from logzero import logger\n",
    "from requests import get\n",
    "import calendar\n",
    "import regex as re\n",
    "import pandas as pd"
   ]
  },
  {
   "cell_type": "code",
   "execution_count": null,
   "metadata": {},
   "outputs": [],
   "source": [
    "with open(\"cfg.json\", \"r\") as jin:\n",
    "    cfg = json.load(jin)\n",
    "\n",
    "# rewrite to ensure formatting\n",
    "with open(\"cfg.json\", \"w\") as jout:\n",
    "    json.dump(cfg, jout, indent=4)"
   ]
  },
  {
   "cell_type": "code",
   "execution_count": null,
   "metadata": {},
   "outputs": [],
   "source": [
    "query_zip = \"\"\"\n",
    "SELECT *\n",
    "\n",
    "FROM program\n",
    "\n",
    "LEFT JOIN zipcode on program.state_id == zipcode.state_id\n",
    "\n",
    "WHERE is_entire_state == 1\n",
    "\"\"\"\n",
    "\n",
    "conn_proj = sqlite3.connect(cfg[\"db_dir\"] + cfg[\"db_dsire\"])\n",
    "cursor_proj = conn_proj.cursor()\n",
    "\n",
    "state_df = pd.read_sql_query(query_zip, conn_proj)\n",
    "    \n",
    "conn_proj.close"
   ]
  },
  {
   "cell_type": "code",
   "execution_count": null,
   "metadata": {},
   "outputs": [],
   "source": [
    "state_df.shape"
   ]
  },
  {
   "cell_type": "code",
   "execution_count": null,
   "metadata": {},
   "outputs": [],
   "source": [
    "query_city_zip = \"\"\"\n",
    "SELECT *\n",
    "\n",
    "FROM program_city\n",
    "\n",
    "LEFT JOIN program\n",
    "\n",
    "on program_city.program_id == program.id\n",
    "\n",
    "LEFT JOIN zipcode on program_city.city_id == zipcode.city_id\n",
    "\n",
    "WHERE is_entire_state == 0\n",
    "\"\"\"\n",
    "\n",
    "conn_proj = sqlite3.connect(cfg[\"db_dir\"] + cfg[\"db_dsire\"])\n",
    "cursor_proj = conn_proj.cursor()\n",
    "\n",
    "city_df = pd.read_sql_query(query_city_zip, conn_proj)\n",
    "    \n",
    "conn_proj.close"
   ]
  },
  {
   "cell_type": "code",
   "execution_count": null,
   "metadata": {},
   "outputs": [],
   "source": [
    "city_df.shape"
   ]
  },
  {
   "cell_type": "code",
   "execution_count": null,
   "metadata": {},
   "outputs": [],
   "source": [
    "query_county_zip = \"\"\"\n",
    "SELECT *\n",
    "\n",
    "FROM program_county\n",
    "\n",
    "LEFT JOIN program\n",
    "\n",
    "on program_county.program_id == program.id\n",
    "\n",
    "LEFT JOIN zipcode on program_county.county_id == zipcode.county_id\n",
    "\n",
    "WHERE is_entire_state == 0\n",
    "\"\"\"\n",
    "\n",
    "conn_proj = sqlite3.connect(cfg[\"db_dir\"] + cfg[\"db_dsire\"])\n",
    "cursor_proj = conn_proj.cursor()\n",
    "\n",
    "county_df = pd.read_sql_query(query_county_zip, conn_proj)\n",
    "    \n",
    "conn_proj.close"
   ]
  },
  {
   "cell_type": "code",
   "execution_count": null,
   "metadata": {},
   "outputs": [],
   "source": [
    "county_df.shape"
   ]
  },
  {
   "cell_type": "code",
   "execution_count": null,
   "metadata": {},
   "outputs": [],
   "source": [
    "query_utility_zip = \"\"\"\n",
    "SELECT *\n",
    "\n",
    "FROM program_utility\n",
    "\n",
    "LEFT JOIN program\n",
    "\n",
    "on program_utility.program_id == program.id\n",
    "\n",
    "LEFT JOIN utility_zipcode\n",
    "\n",
    "on program_utility.utility_id == utility_zipcode.utility_id\n",
    "\n",
    "LEFT JOIN zipcode on utility_zipcode.zipcode_id == zipcode.id\n",
    "\n",
    "WHERE is_entire_state == 0\n",
    "\"\"\"\n",
    "\n",
    "conn_proj = sqlite3.connect(cfg[\"db_dir\"] + cfg[\"db_dsire\"])\n",
    "cursor_proj = conn_proj.cursor()\n",
    "\n",
    "utility_df = pd.read_sql_query(query_utility_zip, conn_proj)\n",
    "    \n",
    "conn_proj.close"
   ]
  },
  {
   "cell_type": "code",
   "execution_count": null,
   "metadata": {},
   "outputs": [],
   "source": [
    "utility_df.shape"
   ]
  },
  {
   "cell_type": "code",
   "execution_count": null,
   "metadata": {},
   "outputs": [],
   "source": [
    "query_zip_zip = \"\"\"\n",
    "SELECT *\n",
    "\n",
    "FROM program_zipcode\n",
    "\n",
    "LEFT JOIN program\n",
    "\n",
    "on program_zipcode.program_id == program.id\n",
    "\n",
    "INNER JOIN zipcode on program_zipcode.zipcode_id == zipcode.id\n",
    "\n",
    "WHERE is_entire_state == 0\n",
    "\"\"\"\n",
    "\n",
    "conn_proj = sqlite3.connect(cfg[\"db_dir\"] + cfg[\"db_dsire\"])\n",
    "cursor_proj = conn_proj.cursor()\n",
    "\n",
    "zip_df = pd.read_sql_query(query_zip_zip, conn_proj)\n",
    "    \n",
    "conn_proj.close"
   ]
  },
  {
   "cell_type": "code",
   "execution_count": null,
   "metadata": {},
   "outputs": [],
   "source": [
    "zip_df.shape"
   ]
  },
  {
   "cell_type": "code",
   "execution_count": null,
   "metadata": {},
   "outputs": [],
   "source": [
    "county_df = county_df.loc[:,~county_df.columns.duplicated()]\n",
    "city_df = city_df.loc[:,~city_df.columns.duplicated()]\n",
    "state_df = state_df.loc[:,~state_df.columns.duplicated()]\n",
    "zip_df = zip_df.loc[:,~zip_df.columns.duplicated()]\n",
    "utility_df = utility_df.loc[:,~utility_df.columns.duplicated()]\n",
    "\n",
    "keep_cols = list(\n",
    "    set(zip_df.columns).intersection(\n",
    "    set(utility_df.columns)).intersection(\n",
    "    set(county_df.columns)).intersection(\n",
    "    set(city_df.columns)).intersection(\n",
    "    set(state_df.columns))\n",
    ")\n",
    "\n",
    "\n",
    "\n",
    "dsire_by_zip = pd.concat([zip_df[keep_cols],\n",
    "                          utility_df[keep_cols],\n",
    "                          county_df[keep_cols],\n",
    "                          city_df[keep_cols],\n",
    "                          state_df[keep_cols]])"
   ]
  },
  {
   "cell_type": "code",
   "execution_count": null,
   "metadata": {},
   "outputs": [],
   "source": [
    "query_tech = \"\"\"\n",
    "SELECT * \n",
    "\n",
    "FROM program_technology\n",
    "\n",
    "WHERE program_technology.technology_id == 7\n",
    "\"\"\"\n",
    "\n",
    "conn_proj = sqlite3.connect(cfg[\"db_dir\"] + cfg[\"db_dsire\"])\n",
    "cursor_proj = conn_proj.cursor()\n",
    "\n",
    "tech_df = pd.read_sql_query(query_tech, conn_proj)\n",
    "\n",
    "conn_proj.close"
   ]
  },
  {
   "cell_type": "code",
   "execution_count": null,
   "metadata": {},
   "outputs": [],
   "source": [
    "check_list = tech_df.program_id.to_list()"
   ]
  },
  {
   "cell_type": "code",
   "execution_count": null,
   "metadata": {},
   "outputs": [],
   "source": [
    "dsire_PV = dsire_by_zip[dsire_by_zip.id.isin(check_list)]"
   ]
  },
  {
   "cell_type": "code",
   "execution_count": null,
   "metadata": {},
   "outputs": [],
   "source": [
    "dsire_PV['start_date'] = dsire_PV.start_date.fillna(dsire_PV.created_ts)\n",
    "dsire_PV['end_date'] = dsire_PV.end_date.fillna(datetime.strptime(cfg[\"max_date\"], \"%d-%b-%Y (%H:%M:%S.%f)\"))\n",
    "diff_df = dsire_PV.dropna(subset = ['start_date', 'zipcode']).reset_index()\n",
    "diff_df['zipcode'] = diff_df.zipcode.apply(lambda n: str(int(n)).zfill(5))\n",
    "diff_df.head()"
   ]
  },
  {
   "cell_type": "code",
   "execution_count": null,
   "metadata": {},
   "outputs": [],
   "source": [
    "program_map_df = diff_df[['program_type_id','zipcode','start_date','end_date']]\n",
    "program_map_df['s_d'] = pd.to_datetime(program_map_df.start_date).apply(lambda d: d - datetime.strptime(cfg[\"min_date\"], \"%d-%b-%Y (%H:%M:%S.%f)\"))\n",
    "program_map_df['e_d'] = pd.to_datetime(program_map_df.end_date).apply(lambda d: d - datetime.strptime(cfg[\"min_date\"], \"%d-%b-%Y (%H:%M:%S.%f)\"))"
   ]
  },
  {
   "cell_type": "code",
   "execution_count": null,
   "metadata": {},
   "outputs": [],
   "source": [
    "program_map_df[\"s_d\"] = program_map_df.s_d.dt.days\n",
    "program_map_df[\"e_d\"] = program_map_df.e_d.dt.days\n",
    "program_map_df.head()"
   ]
  },
  {
   "cell_type": "code",
   "execution_count": null,
   "metadata": {},
   "outputs": [],
   "source": [
    "def keys_exists(element, *keys):\n",
    "    '''\n",
    "    Check if *keys (nested) exists in `element` (dict).\n",
    "    '''\n",
    "    if not isinstance(element, dict):\n",
    "        raise AttributeError('keys_exists() expects dict as first argument.')\n",
    "    if len(keys) == 0:\n",
    "        raise AttributeError('keys_exists() expects at least two arguments, one given.')\n",
    "\n",
    "    _element = element\n",
    "    for key in keys:\n",
    "        try:\n",
    "            _element = _element[key]\n",
    "        except KeyError:\n",
    "            return False\n",
    "    return True\n",
    "\n",
    "\n",
    "\n",
    "\n",
    "program_map = defaultdict(dict)\n",
    "    \n",
    "for a, b, c, d in zip(program_map_df.program_type_id,program_map_df.zipcode,program_map_df.s_d,program_map_df.e_d):\n",
    "    \n",
    "    if keys_exists(program_map, a, b):\n",
    "        program_map[a][b].append([c,d])\n",
    "    else:\n",
    "        program_map[a][b] = [[c,d]]"
   ]
  },
  {
   "cell_type": "code",
   "execution_count": null,
   "metadata": {},
   "outputs": [],
   "source": [
    "with open('../data/program_zip_dates.p', 'wb') as fp:\n",
    "    pickle.dump(program_map, fp, protocol=pickle.HIGHEST_PROTOCOL)"
   ]
  },
  {
   "cell_type": "code",
   "execution_count": null,
   "metadata": {},
   "outputs": [],
   "source": [
    "data_zips = []\n",
    "\n",
    "# open file and read the content in a list\n",
    "with open('../data/datazips.txt', 'r') as filehandle:\n",
    "    filecontents = filehandle.readlines()\n",
    "\n",
    "    for line in filecontents:\n",
    "        # remove linebreak which is the last character of the string\n",
    "        current_place = line[:-1]\n",
    "\n",
    "        # add item to the list\n",
    "        data_zips.append(current_place)\n",
    "        \n",
    "data_zips = sorted(data_zips)"
   ]
  },
  {
   "cell_type": "code",
   "execution_count": null,
   "metadata": {},
   "outputs": [],
   "source": [
    "diff_df['install_month'] = pd.to_datetime(diff_df.start_date).dt.strftime('%Y-%m')\n",
    "from pandas.tseries.offsets import MonthEnd\n",
    "diff_df['install_month'] = pd.to_datetime(diff_df['install_month']) + MonthEnd(1)\n",
    "\n",
    "\n",
    "diff_df['end_month'] = pd.to_datetime(diff_df.end_date).dt.strftime('%Y-%m')\n",
    "diff_df['end_month'] = pd.to_datetime(diff_df['end_month']) + MonthEnd(1)\n",
    "\n",
    "diff_df.head()"
   ]
  },
  {
   "cell_type": "code",
   "execution_count": null,
   "metadata": {},
   "outputs": [],
   "source": [
    "program_types = diff_df.program_type_id.unique()"
   ]
  },
  {
   "cell_type": "code",
   "execution_count": null,
   "metadata": {},
   "outputs": [],
   "source": [
    "program_dict = {}\n",
    "for p_id in program_types:\n",
    "    df = diff_df[diff_df.program_type_id == p_id]\n",
    "    ls = df.sta\n",
    "    \n",
    "    program_dict[p_id] = dict(zip(df.zipcode,df.start_date))\n",
    "    \n",
    "import pickle\n",
    "\n",
    "with open('../data/program_dates.p', 'wb') as fp:\n",
    "    pickle.dump(program_dict, fp, protocol=pickle.HIGHEST_PROTOCOL)"
   ]
  },
  {
   "cell_type": "code",
   "execution_count": null,
   "metadata": {},
   "outputs": [],
   "source": [
    "\n",
    "# policy_dict = {}\n",
    "# for zc in diff_df.zipcode.unique():\n",
    "#     df = diff_df[diff_df.zipcode == zc]\n",
    "#     for p_id in df.program_type_id.unique():\n",
    "#         sub = df[df.program_type_id == p_id]\n",
    "#         policy_dict[zc] = {p_id: (list(sub.start_date)[0], list(sub.end_date)[0])}\n",
    "        \n"
   ]
  },
  {
   "cell_type": "code",
   "execution_count": null,
   "metadata": {},
   "outputs": [],
   "source": [
    "#min_yr = diff_df.install_month.min().year\n",
    "#min_mo = diff_df.install_month.min().month\n",
    "min_yr = pd.to_datetime('1998-04-30 00:00:00').year\n",
    "min_mo = pd.to_datetime('1998-04-30 00:00:00').month\n",
    "\n",
    "diff_df['num_months'] = diff_df.install_month.apply(\n",
    "    lambda d: (d.year - min_yr) * 12 + (d.month - min_mo)\n",
    ")\n",
    "\n",
    "diff_df['num_end_months'] = diff_df.end_month.apply(\n",
    "    lambda d: (d.year - min_yr) * 12 + (d.month - min_mo)\n",
    ")\n",
    "\n",
    "diff_df_mo = diff_df[diff_df.num_months > 0]"
   ]
  },
  {
   "cell_type": "code",
   "execution_count": null,
   "metadata": {},
   "outputs": [],
   "source": [
    "#attempt to re-run above as dict comprehension to save time\n",
    "diff_df_mo['s_e'] = diff_df_mo.apply(lambda x: (x.num_months, x.num_end_months), axis=1)\n",
    "date_df = diff_df_mo.groupby(['zipcode','program_type_id']).s_e.apply(list).reset_index()\n",
    "\n",
    "date_df.head()"
   ]
  },
  {
   "cell_type": "code",
   "execution_count": null,
   "metadata": {},
   "outputs": [],
   "source": [
    "policy_dict = {}\n",
    "for zc in date_df.zipcode.unique():\n",
    "    df = date_df[date_df.zipcode == zc]\n",
    "    policy_dict[zc] = dict(zip(df.program_type_id, df.s_e))"
   ]
  },
  {
   "cell_type": "code",
   "execution_count": null,
   "metadata": {},
   "outputs": [],
   "source": [
    "policy_dict['91708']"
   ]
  },
  {
   "cell_type": "code",
   "execution_count": null,
   "metadata": {},
   "outputs": [],
   "source": [
    "diff_df_mo[(diff_df_mo.zipcode == '78241') & (diff_df_mo.program_type_id == 37)]"
   ]
  },
  {
   "cell_type": "code",
   "execution_count": null,
   "metadata": {},
   "outputs": [],
   "source": [
    "nm_df = date_df[date_df.program_type_id == 37]\n",
    "\n",
    "nm_df['earliest_instance'] = nm_df.s_e.apply(lambda s: min([x[0] for x in s]))\n",
    "\n",
    "nm_df.sort_values(by = 'earliest_instance', ascending = False)"
   ]
  },
  {
   "cell_type": "code",
   "execution_count": null,
   "metadata": {},
   "outputs": [],
   "source": [
    "nm_df['earliest_instance'] = nm_df['earliest_instance'].astype(float)"
   ]
  },
  {
   "cell_type": "code",
   "execution_count": null,
   "metadata": {},
   "outputs": [],
   "source": [
    "nm_df['zipcode'] = nm_df['zipcode'].astype('string')\n",
    "nm_df.head()"
   ]
  },
  {
   "cell_type": "code",
   "execution_count": null,
   "metadata": {},
   "outputs": [],
   "source": [
    "earliest_dict = {}\n",
    "for p_id in program_types:\n",
    "    p_df = date_df[date_df.program_type_id == p_id]\n",
    "    p_df['earliest_instance'] = p_df.s_e.apply(lambda s: min([x[0] for x in s]))\n",
    "    p_df['earliest_instance'] = p_df['earliest_instance'].astype(float)\n",
    "    p_df['zipcode'] = p_df['zipcode'].astype('string')\n",
    "    \n",
    "    earliest_dict[p_id] = dict(zip(p_df.zipcode,p_df.earliest_instance))\n",
    "    \n",
    "import pickle\n",
    "\n",
    "with open('../data/earliest_dates.p', 'wb') as fp:\n",
    "    pickle.dump(earliest_dict, fp, protocol=pickle.HIGHEST_PROTOCOL)"
   ]
  },
  {
   "cell_type": "code",
   "execution_count": null,
   "metadata": {},
   "outputs": [],
   "source": [
    "import json\n",
    "import plotly.express as px\n",
    "\n",
    "\n",
    "with open(\"../plotly_zips.geojson\") as f:\n",
    "    zips = json.load(f)\n",
    "\n",
    "fig = px.choropleth_mapbox(nm_df, geojson=zips, locations='zipcode', color='earliest_instance',\n",
    "                           color_continuous_scale=\"Viridis\",\n",
    "                           mapbox_style=\"carto-positron\",\n",
    "                           zoom=3, center = {\"lat\": 37.0902, \"lon\": -95.7129},\n",
    "                           opacity=0.5\n",
    "                          )\n",
    "\n",
    "\n",
    "fig.update_layout(margin={\"r\":0,\"t\":0,\"l\":0,\"b\":0})\n",
    "fig.show()"
   ]
  },
  {
   "cell_type": "code",
   "execution_count": null,
   "metadata": {},
   "outputs": [],
   "source": [
    "zips"
   ]
  },
  {
   "cell_type": "code",
   "execution_count": null,
   "metadata": {},
   "outputs": [],
   "source": [
    "diff_df_mo.to_pickle(\"../data/diff_df_mo.pkl\")"
   ]
  },
  {
   "cell_type": "code",
   "execution_count": null,
   "metadata": {},
   "outputs": [],
   "source": [
    "#split out db creation into new notebook\n",
    "\n",
    "\n",
    "#create dependencies for database\n",
    "#filter out territories and zips w/out install data\n",
    "\n",
    "\n",
    "#output new db with similarity connections for zip codes\n",
    "#for a given policy and zip code, include dates from prior policy implementation until next implementation\n",
    "## may need to filter out certain policy types\n",
    "\n",
    "#is it worthwhile to create a regression including policy columns?\n",
    "\n",
    "#establish zip codes of interest in cfg file\n",
    "#94025 - look at policy implementations prior to 2009\n",
    "\n",
    "#identify most similar by state\n",
    "\n",
    "import os\n",
    "os.chdir(\"../../solar-697/ru\")\n",
    "cwd = os.getcwd()  # Get the current working directory (cwd)\n",
    "files = os.listdir(cwd)  # Get all the files in that directory\n",
    "print(\"Files in %r: %s\" % (cwd, files))"
   ]
  },
  {
   "cell_type": "code",
   "execution_count": null,
   "metadata": {},
   "outputs": [],
   "source": [
    "diff_df.columns"
   ]
  },
  {
   "cell_type": "code",
   "execution_count": null,
   "metadata": {},
   "outputs": [],
   "source": []
  }
 ],
 "metadata": {
  "kernelspec": {
   "display_name": "Python 3",
   "language": "python",
   "name": "python3"
  },
  "language_info": {
   "codemirror_mode": {
    "name": "ipython",
    "version": 3
   },
   "file_extension": ".py",
   "mimetype": "text/x-python",
   "name": "python",
   "nbconvert_exporter": "python",
   "pygments_lexer": "ipython3",
   "version": "3.8.3"
  }
 },
 "nbformat": 4,
 "nbformat_minor": 4
}
