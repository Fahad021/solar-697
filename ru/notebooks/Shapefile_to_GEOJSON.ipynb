{
 "cells": [
  {
   "cell_type": "markdown",
   "metadata": {},
   "source": [
    "## This notebook serves as an explanation of how the source shapefile for zip codes was converted to the geojson format needed for exploratory visualizations and for additional data mapping (dict). The shapefile is large and may not fit within the repository"
   ]
  },
  {
   "cell_type": "code",
   "execution_count": null,
   "metadata": {},
   "outputs": [],
   "source": [
    "# import geopandas\n",
    "# import json\n",
    "\n",
    "# from geojson import dump\n",
    "\n",
    "# shp_file = geopandas.read_file('cb_2019_us_zcta510_500k.shp')\n",
    "# shp_file.to_file('zipcodes.geojson', driver='GeoJSON')\n",
    "\n",
    "\n",
    "# with open(\"zipcodes.geojson\") as f:\n",
    "#     zips = json.load(f)\n",
    "    \n",
    "# for i, feature in enumerate(zips[\"features\"]):\n",
    "#     zips[\"features\"][i][\"id\"] = feature[\"properties\"]['ZCTA5CE10']\n",
    "# zips[\"features\"][0]\n",
    "\n",
    "# with open(\"plotly_zips.geojson\", 'w') as outfile:\n",
    "#     dump(zips, outfile)"
   ]
  }
 ],
 "metadata": {
  "kernelspec": {
   "display_name": "Python 3",
   "language": "python",
   "name": "python3"
  },
  "language_info": {
   "codemirror_mode": {
    "name": "ipython",
    "version": 3
   },
   "file_extension": ".py",
   "mimetype": "text/x-python",
   "name": "python",
   "nbconvert_exporter": "python",
   "pygments_lexer": "ipython3",
   "version": "3.8.3"
  }
 },
 "nbformat": 4,
 "nbformat_minor": 4
}
