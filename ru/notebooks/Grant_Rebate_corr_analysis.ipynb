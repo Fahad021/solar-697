{
 "cells": [
  {
   "cell_type": "code",
   "execution_count": 1,
   "metadata": {},
   "outputs": [
    {
     "name": "stdout",
     "output_type": "stream",
     "text": [
      "xgboost 1.3.3\n"
     ]
    }
   ],
   "source": [
    "import pandas as pd\n",
    "import numpy as np\n",
    "import pickle\n",
    "import numpy as np\n",
    "from causalinference import CausalModel\n",
    "\n",
    "import xgboost\n",
    "print(\"xgboost\", xgboost.__version__)\n",
    "\n",
    "import sqlite3"
   ]
  },
  {
   "cell_type": "code",
   "execution_count": 5,
   "metadata": {},
   "outputs": [],
   "source": [
    "with open('../data/program_zip_dates.p', 'rb') as fp:\n",
    "    prog_map = pickle.load(fp)"
   ]
  },
  {
   "cell_type": "code",
   "execution_count": 2,
   "metadata": {},
   "outputs": [
    {
     "data": {
      "text/plain": [
       "<function Connection.close>"
      ]
     },
     "execution_count": 2,
     "metadata": {},
     "output_type": "execute_result"
    }
   ],
   "source": [
    "conn_proj = sqlite3.connect(\"../data/Berkeley.db\")\n",
    "cursor_proj = conn_proj.cursor()\n",
    "\n",
    "query_frame = \"\"\"\n",
    "SELECT *\n",
    "\n",
    "FROM installation\n",
    "\n",
    "\"\"\"\n",
    "\n",
    "\n",
    "df = pd.read_sql_query(query_frame, conn_proj)\n",
    "\n",
    "\n",
    "conn_proj.close"
   ]
  },
  {
   "cell_type": "code",
   "execution_count": 3,
   "metadata": {},
   "outputs": [
    {
     "data": {
      "text/html": [
       "<div>\n",
       "<style scoped>\n",
       "    .dataframe tbody tr th:only-of-type {\n",
       "        vertical-align: middle;\n",
       "    }\n",
       "\n",
       "    .dataframe tbody tr th {\n",
       "        vertical-align: top;\n",
       "    }\n",
       "\n",
       "    .dataframe thead th {\n",
       "        text-align: right;\n",
       "    }\n",
       "</style>\n",
       "<table border=\"1\" class=\"dataframe\">\n",
       "  <thead>\n",
       "    <tr style=\"text-align: right;\">\n",
       "      <th></th>\n",
       "      <th>month</th>\n",
       "      <th>zipcode</th>\n",
       "      <th>i_count</th>\n",
       "      <th>size</th>\n",
       "      <th>price</th>\n",
       "      <th>discount</th>\n",
       "    </tr>\n",
       "  </thead>\n",
       "  <tbody>\n",
       "    <tr>\n",
       "      <th>0</th>\n",
       "      <td>3.0</td>\n",
       "      <td>00501</td>\n",
       "      <td>0.0</td>\n",
       "      <td>0.0</td>\n",
       "      <td>11644.84</td>\n",
       "      <td>0.0</td>\n",
       "    </tr>\n",
       "    <tr>\n",
       "      <th>1</th>\n",
       "      <td>3.0</td>\n",
       "      <td>00831</td>\n",
       "      <td>0.0</td>\n",
       "      <td>0.0</td>\n",
       "      <td>11644.84</td>\n",
       "      <td>0.0</td>\n",
       "    </tr>\n",
       "    <tr>\n",
       "      <th>2</th>\n",
       "      <td>3.0</td>\n",
       "      <td>01001</td>\n",
       "      <td>0.0</td>\n",
       "      <td>0.0</td>\n",
       "      <td>11644.84</td>\n",
       "      <td>0.0</td>\n",
       "    </tr>\n",
       "    <tr>\n",
       "      <th>3</th>\n",
       "      <td>3.0</td>\n",
       "      <td>01002</td>\n",
       "      <td>0.0</td>\n",
       "      <td>0.0</td>\n",
       "      <td>11644.84</td>\n",
       "      <td>0.0</td>\n",
       "    </tr>\n",
       "    <tr>\n",
       "      <th>4</th>\n",
       "      <td>3.0</td>\n",
       "      <td>01004</td>\n",
       "      <td>0.0</td>\n",
       "      <td>0.0</td>\n",
       "      <td>11644.84</td>\n",
       "      <td>0.0</td>\n",
       "    </tr>\n",
       "  </tbody>\n",
       "</table>\n",
       "</div>"
      ],
      "text/plain": [
       "   month zipcode  i_count  size     price  discount\n",
       "0    3.0   00501      0.0   0.0  11644.84       0.0\n",
       "1    3.0   00831      0.0   0.0  11644.84       0.0\n",
       "2    3.0   01001      0.0   0.0  11644.84       0.0\n",
       "3    3.0   01002      0.0   0.0  11644.84       0.0\n",
       "4    3.0   01004      0.0   0.0  11644.84       0.0"
      ]
     },
     "execution_count": 3,
     "metadata": {},
     "output_type": "execute_result"
    }
   ],
   "source": [
    "keep_cols = ['size', 'price','discount']\n",
    "keep_cols_2 = ['p_type_31','p_type_32', 'p_type_33', 'p_type_37',\n",
    "             'p_type_46', 'p_type_50', 'p_type_78', 'p_type_87', 'p_type_88', 'p_type_92', 'p_type_86']\n",
    "\n",
    "g_2 = df.groupby(['month','zipcode'])[keep_cols].mean().reset_index()\n",
    "\n",
    "df['size'] = df['size'].astype('bool')\n",
    "grouped_df = df.groupby(['month','zipcode'])['size'].sum().reset_index().rename(\n",
    "    columns = {'size':'i_count'})\n",
    "\n",
    "\n",
    "grouped_df = grouped_df.merge(g_2, left_on=['zipcode','month'], right_on=['zipcode','month'])\n",
    "\n",
    "grouped_df.head()"
   ]
  },
  {
   "cell_type": "code",
   "execution_count": 9,
   "metadata": {},
   "outputs": [
    {
     "name": "stdout",
     "output_type": "stream",
     "text": [
      "p_type 87 correlation for -9.0 months is nan\n",
      "p_type 87 correlation for -8.0 months is nan\n",
      "p_type 87 correlation for -7.0 months is nan\n",
      "p_type 87 correlation for -6.0 months is nan\n",
      "p_type 87 correlation for -5.0 months is nan\n",
      "p_type 87 correlation for -4.0 months is nan\n",
      "p_type 87 correlation for -3.0 months is nan\n",
      "p_type 87 correlation for -2.0 months is nan\n",
      "p_type 87 correlation for -1.0 months is nan\n",
      "p_type 87 correlation for 0.0 months is nan\n",
      "p_type 87 correlation for 1.0 months is 0.033361370035194834\n",
      "p_type 87 correlation for 2.0 months is 0.023603180707108772\n",
      "p_type 87 correlation for 3.0 months is 0.011907651205182257\n",
      "p_type 87 correlation for 4.0 months is 0.010780145402491103\n",
      "p_type 87 correlation for 5.0 months is 0.00715989334125539\n",
      "p_type 87 correlation for 6.0 months is 0.0003942424352317307\n",
      "p_type 87 correlation for 7.0 months is -0.0036383705170894604\n",
      "p_type 87 correlation for 8.0 months is -0.003332278715692047\n",
      "p_type 87 correlation for 9.0 months is -0.001897344245220111\n",
      "p_type 88 correlation for -9.0 months is nan\n",
      "p_type 88 correlation for -8.0 months is nan\n",
      "p_type 88 correlation for -7.0 months is nan\n",
      "p_type 88 correlation for -6.0 months is nan\n",
      "p_type 88 correlation for -5.0 months is nan\n",
      "p_type 88 correlation for -4.0 months is nan\n",
      "p_type 88 correlation for -3.0 months is nan\n",
      "p_type 88 correlation for -2.0 months is nan\n",
      "p_type 88 correlation for -1.0 months is nan\n",
      "p_type 88 correlation for 0.0 months is nan\n",
      "p_type 88 correlation for 1.0 months is 0.00269820035304461\n",
      "p_type 88 correlation for 2.0 months is 0.019126160006848875\n",
      "p_type 88 correlation for 3.0 months is 0.026157672922562703\n",
      "p_type 88 correlation for 4.0 months is 0.033668345927090094\n",
      "p_type 88 correlation for 5.0 months is 0.04041440318533286\n",
      "p_type 88 correlation for 6.0 months is 0.04479408370234703\n",
      "p_type 88 correlation for 7.0 months is 0.04264489998426941\n",
      "p_type 88 correlation for 8.0 months is 0.04329162593144621\n",
      "p_type 88 correlation for 9.0 months is 0.043209198795350505\n"
     ]
    }
   ],
   "source": [
    "trial_df = grouped_df.copy()\n",
    "\n",
    "for program in [87,88]:\n",
    "    for num_mo in np.linspace(-9,9,19):\n",
    "        def in_effect(x):\n",
    "\n",
    "            z = x[0]\n",
    "            d = x[1]\n",
    "\n",
    "            p_type = program\n",
    "\n",
    "            output = -1\n",
    "\n",
    "            try:\n",
    "                items = []\n",
    "                for item in prog_map[p_type][z]:\n",
    "                    items.append(item[1])\n",
    "                    if output != 1:\n",
    "                        if item[1] <= d <= item[1] + num_mo:\n",
    "                            output = 1\n",
    "                        elif item[1] - num_mo <= d <= item[1]:\n",
    "                            output = 0\n",
    "                        #elif d == item[1]:\n",
    "                        #    output = .5\n",
    "                #if d < min(items):\n",
    "                #    output = 0\n",
    "\n",
    "\n",
    "            except:\n",
    "                output = -1\n",
    "\n",
    "            return output\n",
    "\n",
    "        trial_df['p_type_' + str(program)] = [in_effect(x) for x in zip(trial_df.zipcode,trial_df.month)]\n",
    "        corr_df = trial_df[['discount','p_type_' + str(program)]]\n",
    "        corr_df = corr_df[corr_df['p_type_' + str(program)] >= 0]\n",
    "        corr = corr_df['p_type_' + str(program)].corr(corr_df.discount)\n",
    "        print('p_type ' + str(program) + ' correlation for ' + str(num_mo) + ' months is ' + str(corr))"
   ]
  },
  {
   "cell_type": "code",
   "execution_count": 4,
   "metadata": {},
   "outputs": [
    {
     "data": {
      "text/plain": [
       "array([ 1.,  2.,  3.,  4.,  5.,  6.,  7.,  8.,  9., 10., 11., 12., 13.,\n",
       "       14., 15., 16., 17., 18.])"
      ]
     },
     "execution_count": 4,
     "metadata": {},
     "output_type": "execute_result"
    }
   ],
   "source": [
    "np.linspace(1,18,18)"
   ]
  },
  {
   "cell_type": "code",
   "execution_count": null,
   "metadata": {},
   "outputs": [],
   "source": []
  }
 ],
 "metadata": {
  "kernelspec": {
   "display_name": "Python 3",
   "language": "python",
   "name": "python3"
  },
  "language_info": {
   "codemirror_mode": {
    "name": "ipython",
    "version": 3
   },
   "file_extension": ".py",
   "mimetype": "text/x-python",
   "name": "python",
   "nbconvert_exporter": "python",
   "pygments_lexer": "ipython3",
   "version": "3.8.3"
  }
 },
 "nbformat": 4,
 "nbformat_minor": 4
}
