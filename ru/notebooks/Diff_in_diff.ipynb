{
 "cells": [
  {
   "cell_type": "code",
   "execution_count": 963,
   "metadata": {},
   "outputs": [],
   "source": [
    "import numpy as np\n",
    "import pandas as pd\n",
    "from scipy.stats import linregress\n",
    "import sqlite3\n",
    "import json\n",
    "import numpy as np\n",
    "import os\n",
    "import pickle\n",
    "import shutil\n",
    "import sqlite3\n",
    "from collections import defaultdict\n",
    "from datetime import datetime\n",
    "from time import sleep\n",
    "#import query\n",
    "import logzero\n",
    "import requests\n",
    "#import secret\n",
    "import warnings\n",
    "from pandas.core.common import SettingWithCopyWarning\n",
    "from logzero import logger\n",
    "from pandas.tseries.offsets import MonthEnd\n",
    "import random\n",
    "from requests import get\n",
    "import calendar\n",
    "import regex as re\n",
    "import pandas as pd\n",
    "warnings.simplefilter(action=\"ignore\", category=SettingWithCopyWarning)"
   ]
  },
  {
   "cell_type": "code",
   "execution_count": 965,
   "metadata": {},
   "outputs": [],
   "source": [
    "warnings.simplefilter(action=\"ignore\", category=SettingWithCopyWarning)\n",
    "\n",
    "with open(\"cfg.json\", \"r\") as jin:\n",
    "    cfg = json.load(jin)\n",
    "\n",
    "# rewrite to ensure formatting\n",
    "with open(\"cfg.json\", \"w\") as jout:\n",
    "    json.dump(cfg, jout, indent=4)"
   ]
  },
  {
   "cell_type": "code",
   "execution_count": 966,
   "metadata": {},
   "outputs": [
    {
     "data": {
      "text/plain": [
       "<function Connection.close>"
      ]
     },
     "execution_count": 966,
     "metadata": {},
     "output_type": "execute_result"
    }
   ],
   "source": [
    "query_c_grab = \"\"\"\n",
    "SELECT zipcode\n",
    "\n",
    "FROM g_df2\n",
    "\"\"\"\n",
    "\n",
    "conn_proj = sqlite3.connect(\"../data/Berkeley_2.db\")\n",
    "cursor_proj = conn_proj.cursor()\n",
    "\n",
    "df = pd.read_sql_query(query_c_grab, conn_proj)\n",
    "data_zips = df.zipcode.unique()\n",
    "\n",
    "conn_proj.close\n",
    "\n"
   ]
  },
  {
   "cell_type": "code",
   "execution_count": 967,
   "metadata": {},
   "outputs": [
    {
     "data": {
      "text/plain": [
       "<function Connection.close>"
      ]
     },
     "execution_count": 967,
     "metadata": {},
     "output_type": "execute_result"
    }
   ],
   "source": [
    "query_types = \"\"\"\n",
    "SELECT *\n",
    "\n",
    "FROM program_type\n",
    "\"\"\"\n",
    "\n",
    "conn_proj = sqlite3.connect(cfg[\"db_dir\"] + cfg[\"db_dsire\"])\n",
    "cursor_proj = conn_proj.cursor()\n",
    "\n",
    "program_types = pd.read_sql_query(query_types, conn_proj)\n",
    "    \n",
    "conn_proj.close"
   ]
  },
  {
   "cell_type": "code",
   "execution_count": 968,
   "metadata": {},
   "outputs": [
    {
     "data": {
      "text/plain": [
       "['Solar Access Law/Guideline',\n",
       " 'Green Building Incentive',\n",
       " 'Mandatory Utility Green Power Option',\n",
       " 'Performance-Based Incentive',\n",
       " 'Interconnection',\n",
       " 'Corporate Tax Credit',\n",
       " 'Corporate Tax Deduction',\n",
       " 'Solar/Wind Contractor Licensing',\n",
       " 'Corporate Depreciation',\n",
       " 'Equipment Certification',\n",
       " 'Generation Disclosure',\n",
       " 'Personal Tax Credit',\n",
       " 'Personal Tax Deduction',\n",
       " 'Personal Tax Exemption',\n",
       " 'Line Extension Analysis',\n",
       " 'Net Metering',\n",
       " 'Renewables Portfolio Standard',\n",
       " 'Industry Recruitment/Support',\n",
       " 'Solar/Wind Access Policy',\n",
       " 'Public Benefits Fund',\n",
       " 'Corporate Tax Exemption',\n",
       " 'Property Tax Assessment',\n",
       " 'Appliance/Equipment Efficiency Standards',\n",
       " 'Utility Rate Discount',\n",
       " 'Energy Standards for Public Buildings',\n",
       " 'Building Energy Code',\n",
       " 'Solar/Wind Permitting Standards',\n",
       " 'Other Incentive',\n",
       " 'Other Policy',\n",
       " 'PACE Financing',\n",
       " 'Property Tax Incentive',\n",
       " 'Green Power Purchasing',\n",
       " 'Leasing Program',\n",
       " 'Sales Tax Incentive',\n",
       " 'Energy Efficiency Resource Standard',\n",
       " 'Solar Renewable Energy Credit Program',\n",
       " 'Value of Solar Tariff',\n",
       " 'Grant Program',\n",
       " 'Rebate Program',\n",
       " 'Loan Program',\n",
       " 'Bond Program',\n",
       " 'Production Incentive',\n",
       " 'Feed-in Tariff',\n",
       " 'Energy Storage Target',\n",
       " 'Community Solar Rules']"
      ]
     },
     "execution_count": 968,
     "metadata": {},
     "output_type": "execute_result"
    }
   ],
   "source": [
    "programs = list(program_types.name)\n",
    "programs"
   ]
  },
  {
   "cell_type": "code",
   "execution_count": 969,
   "metadata": {},
   "outputs": [
    {
     "data": {
      "text/plain": [
       "32"
      ]
     },
     "execution_count": 969,
     "metadata": {},
     "output_type": "execute_result"
    }
   ],
   "source": [
    "# select type - map to id\n",
    "p_type = 'Personal Tax Deduction'\n",
    "\n",
    "def pol_map(p_type):\n",
    "    \n",
    "    query_type_ind = \"\"\"\n",
    "    SELECT id\n",
    "\n",
    "    FROM program_type\n",
    "    \n",
    "    WHERE program_type.name = ?\n",
    "    \"\"\"\n",
    "\n",
    "    conn_proj = sqlite3.connect(cfg[\"db_dir\"] + cfg[\"db_dsire\"])\n",
    "    cursor_proj = conn_proj.cursor()\n",
    "\n",
    "    program_code = pd.read_sql_query(query_type_ind, conn_proj,params = [p_type])\n",
    "    #program_code = cursor_proj.execute(query_type_ind, [programs[0]])\n",
    "    \n",
    "    conn_proj.close\n",
    "    return int(program_code.id)\n",
    "    \n",
    "\n",
    "val = pol_map(p_type)\n",
    "\n",
    "val"
   ]
  },
  {
   "cell_type": "code",
   "execution_count": 970,
   "metadata": {},
   "outputs": [],
   "source": [
    "### filter input month "
   ]
  },
  {
   "cell_type": "code",
   "execution_count": 971,
   "metadata": {},
   "outputs": [],
   "source": [
    "def zip_find(val):\n",
    "    query_zip_find = \"\"\"\n",
    "    SELECT zipcode\n",
    "\n",
    "    FROM programs_map\n",
    "    \n",
    "    WHERE programs_map.program_type_id = ?\n",
    "    \n",
    "    AND programs_map.nb_months >= 37\n",
    "    \"\"\"\n",
    "\n",
    "    conn_proj = sqlite3.connect(cfg[\"db_dir\"] + cfg[\"db_dsire\"])\n",
    "    cursor_proj = conn_proj.cursor()\n",
    "\n",
    "    zc = pd.read_sql_query(query_zip_find, conn_proj,params = [val])\n",
    "    #program_code = cursor_proj.execute(query_type_ind, [programs[0]])\n",
    "    \n",
    "    conn_proj.close\n",
    "    return list(zc.zipcode)\n",
    "\n",
    "all_zips = zip_find(val)"
   ]
  },
  {
   "cell_type": "code",
   "execution_count": 972,
   "metadata": {},
   "outputs": [],
   "source": [
    "a_zips = list(set(data_zips).intersection(set(all_zips)))\n"
   ]
  },
  {
   "cell_type": "code",
   "execution_count": 973,
   "metadata": {},
   "outputs": [
    {
     "name": "stdout",
     "output_type": "stream",
     "text": [
      "94024\n"
     ]
    }
   ],
   "source": [
    "zip_in = random.sample(a_zips,1)[0]\n",
    "print(zip_in)\n",
    "\n",
    "def zip_map(val, zip_in):\n",
    "    \n",
    "    query_zips_ind = \"\"\"\n",
    "    SELECT *\n",
    "\n",
    "    FROM programs_map\n",
    "    \n",
    "    WHERE programs_map.program_type_id = ? \n",
    "    AND programs_map.zipcode = ?\n",
    "    \n",
    "    \n",
    "    \"\"\"\n",
    "\n",
    "    conn_proj = sqlite3.connect(cfg[\"db_dir\"] + cfg[\"db_dsire\"])\n",
    "    cursor_proj = conn_proj.cursor()\n",
    "\n",
    "    df = pd.read_sql_query(query_zips_ind, conn_proj,params = [val, zip_in])\n",
    "    #program_code = cursor_proj.execute(query_type_ind, [programs[0]])\n",
    "    \n",
    "    conn_proj.close\n",
    "    return list(df.start_date)\n",
    "\n",
    "dates_in = zip_map(val, zip_in)"
   ]
  },
  {
   "cell_type": "code",
   "execution_count": 974,
   "metadata": {},
   "outputs": [
    {
     "data": {
      "text/plain": [
       "'2001-10-01 00:00:00'"
      ]
     },
     "execution_count": 974,
     "metadata": {},
     "output_type": "execute_result"
    }
   ],
   "source": [
    "dates_in[0]\n"
   ]
  },
  {
   "cell_type": "code",
   "execution_count": 975,
   "metadata": {},
   "outputs": [],
   "source": [
    "date_in = dates_in[-1]\n",
    "\n",
    "def zip_elim(val,date_in):\n",
    "       \n",
    "    query_zips_elim = \"\"\"\n",
    "    SELECT *\n",
    "\n",
    "    FROM programs_map\n",
    "    \n",
    "    WHERE programs_map.program_type_id = ? \n",
    "    AND programs_map.start_date = ?\n",
    "    \n",
    "    \"\"\"\n",
    "\n",
    "    conn_proj = sqlite3.connect(cfg[\"db_dir\"] + cfg[\"db_dsire\"])\n",
    "    cursor_proj = conn_proj.cursor()\n",
    "\n",
    "    df = pd.read_sql_query(query_zips_elim, conn_proj,params = [val, date_in])\n",
    "    #program_code = cursor_proj.execute(query_type_ind, [programs[0]])\n",
    "    \n",
    "    conn_proj.close\n",
    "    #df2 = df[df.zipcode != zip_in]\n",
    "    elim_zips = list(df.zipcode)\n",
    "    #e_zips = elim_zips.remove(zip_in)\n",
    "    month = df.nb_months.unique()[0]\n",
    "    \n",
    "    return elim_zips, month\n",
    "    \n",
    "elim_zips, month = zip_elim(val,date_in)"
   ]
  },
  {
   "cell_type": "code",
   "execution_count": 976,
   "metadata": {},
   "outputs": [],
   "source": [
    "fil_zips = elim_zips.copy()\n",
    "fil_zips.remove(zip_in)"
   ]
  },
  {
   "cell_type": "code",
   "execution_count": 977,
   "metadata": {},
   "outputs": [],
   "source": [
    "def date_grab(month,fil_zips, zip_in):\n",
    "    \n",
    "    \n",
    "    query_g_diff = \"\"\"\n",
    "    SELECT zipcode, price, NREL_PSM_2019, cost_electricity, rolling_slope\n",
    "\n",
    "    FROM g_df2\n",
    "    \n",
    "    WHERE g_df2.month = ? AND g_df2.zipcode NOT IN ({seq})\n",
    "\n",
    "    \"\"\".format(seq=','.join(['?']*len(fil_zips)))\n",
    "    \n",
    "    conn_proj = sqlite3.connect(\"../data/Berkeley_2.db\")\n",
    "    cursor_proj = conn_proj.cursor()\n",
    "\n",
    "    comp_df = pd.read_sql_query(query_g_diff, conn_proj, params = [float(month - 1)] + fil_zips)\n",
    "    comp_df['cost_electricity'] = comp_df['cost_electricity'].astype(float)\n",
    "    conn_proj.close\n",
    "    return comp_df\n",
    "comp_df = date_grab(month,elim_zips, zip_in)"
   ]
  },
  {
   "cell_type": "code",
   "execution_count": 978,
   "metadata": {},
   "outputs": [
    {
     "data": {
      "text/html": [
       "<div>\n",
       "<style scoped>\n",
       "    .dataframe tbody tr th:only-of-type {\n",
       "        vertical-align: middle;\n",
       "    }\n",
       "\n",
       "    .dataframe tbody tr th {\n",
       "        vertical-align: top;\n",
       "    }\n",
       "\n",
       "    .dataframe thead th {\n",
       "        text-align: right;\n",
       "    }\n",
       "</style>\n",
       "<table border=\"1\" class=\"dataframe\">\n",
       "  <thead>\n",
       "    <tr style=\"text-align: right;\">\n",
       "      <th></th>\n",
       "      <th>price</th>\n",
       "      <th>NREL_PSM_2019</th>\n",
       "      <th>cost_electricity</th>\n",
       "      <th>rolling_slope</th>\n",
       "    </tr>\n",
       "  </thead>\n",
       "  <tbody>\n",
       "    <tr>\n",
       "      <th>0</th>\n",
       "      <td>9993.61</td>\n",
       "      <td>7.118120</td>\n",
       "      <td>8.81</td>\n",
       "      <td>0.0</td>\n",
       "    </tr>\n",
       "    <tr>\n",
       "      <th>1</th>\n",
       "      <td>9993.61</td>\n",
       "      <td>7.487866</td>\n",
       "      <td>8.81</td>\n",
       "      <td>0.0</td>\n",
       "    </tr>\n",
       "    <tr>\n",
       "      <th>2</th>\n",
       "      <td>9993.61</td>\n",
       "      <td>7.265153</td>\n",
       "      <td>8.81</td>\n",
       "      <td>0.0</td>\n",
       "    </tr>\n",
       "    <tr>\n",
       "      <th>3</th>\n",
       "      <td>9993.61</td>\n",
       "      <td>7.242748</td>\n",
       "      <td>8.81</td>\n",
       "      <td>0.0</td>\n",
       "    </tr>\n",
       "    <tr>\n",
       "      <th>4</th>\n",
       "      <td>9993.61</td>\n",
       "      <td>7.297422</td>\n",
       "      <td>8.81</td>\n",
       "      <td>0.0</td>\n",
       "    </tr>\n",
       "  </tbody>\n",
       "</table>\n",
       "</div>"
      ],
      "text/plain": [
       "     price  NREL_PSM_2019  cost_electricity  rolling_slope\n",
       "0  9993.61       7.118120              8.81            0.0\n",
       "1  9993.61       7.487866              8.81            0.0\n",
       "2  9993.61       7.265153              8.81            0.0\n",
       "3  9993.61       7.242748              8.81            0.0\n",
       "4  9993.61       7.297422              8.81            0.0"
      ]
     },
     "execution_count": 978,
     "metadata": {},
     "output_type": "execute_result"
    }
   ],
   "source": [
    "\n",
    "s_df = comp_df.drop(columns = 'zipcode')\n",
    "s_df.head()"
   ]
  },
  {
   "cell_type": "code",
   "execution_count": 979,
   "metadata": {},
   "outputs": [
    {
     "data": {
      "text/html": [
       "<div>\n",
       "<style scoped>\n",
       "    .dataframe tbody tr th:only-of-type {\n",
       "        vertical-align: middle;\n",
       "    }\n",
       "\n",
       "    .dataframe tbody tr th {\n",
       "        vertical-align: top;\n",
       "    }\n",
       "\n",
       "    .dataframe thead th {\n",
       "        text-align: right;\n",
       "    }\n",
       "</style>\n",
       "<table border=\"1\" class=\"dataframe\">\n",
       "  <thead>\n",
       "    <tr style=\"text-align: right;\">\n",
       "      <th></th>\n",
       "      <th>zipcode</th>\n",
       "      <th>price</th>\n",
       "      <th>NREL_PSM_2019</th>\n",
       "      <th>cost_electricity</th>\n",
       "      <th>rolling_slope</th>\n",
       "    </tr>\n",
       "  </thead>\n",
       "  <tbody>\n",
       "  </tbody>\n",
       "</table>\n",
       "</div>"
      ],
      "text/plain": [
       "Empty DataFrame\n",
       "Columns: [zipcode, price, NREL_PSM_2019, cost_electricity, rolling_slope]\n",
       "Index: []"
      ]
     },
     "execution_count": 979,
     "metadata": {},
     "output_type": "execute_result"
    }
   ],
   "source": [
    "#index_in = comp_df[comp_df.zipcode == zip_in].index[0]\n",
    "comp_df[comp_df.zipcode == zip_in]"
   ]
  },
  {
   "cell_type": "code",
   "execution_count": 980,
   "metadata": {},
   "outputs": [],
   "source": [
    "\n",
    "\n",
    "from sklearn.preprocessing import StandardScaler\n",
    "scaled_features = StandardScaler().fit_transform(s_df.values)\n",
    "\n",
    "scaled_features_df = pd.DataFrame(scaled_features, index=s_df.index, columns=s_df.columns)\n",
    "\n",
    "df1 = scaled_features_df.iloc[index_in].to_frame().T\n",
    "df2 = scaled_features_df.iloc[lambda x: x.index != index_in]"
   ]
  },
  {
   "cell_type": "code",
   "execution_count": 981,
   "metadata": {},
   "outputs": [
    {
     "data": {
      "text/plain": [
       "'75205'"
      ]
     },
     "execution_count": 981,
     "metadata": {},
     "output_type": "execute_result"
    }
   ],
   "source": [
    "import scipy\n",
    "ary = scipy.spatial.distance.cdist(df2, df1, metric='euclidean')\n",
    "index_out = df2[ary==ary.min()].index[0]\n",
    "comp_zip = list(comp_df.iloc[index_out].to_frame().T.zipcode)[0]\n",
    "comp_zip"
   ]
  },
  {
   "cell_type": "code",
   "execution_count": 982,
   "metadata": {},
   "outputs": [],
   "source": [
    "def comp_grab(month,zip_in,comp_zip):\n",
    "    \n",
    "\n",
    "    query_c_grab = \"\"\"\n",
    "    SELECT zipcode, month, price, NREL_PSM_2019, cost_electricity, i_count\n",
    "\n",
    "    FROM g_df2\n",
    "    \n",
    "    WHERE g_df2.zipcode IN (?,?)\n",
    "\n",
    "    \"\"\"\n",
    "    \n",
    "    conn_proj = sqlite3.connect(\"../data/Berkeley_2.db\")\n",
    "    cursor_proj = conn_proj.cursor()\n",
    "\n",
    "    diffndiff_df = pd.read_sql_query(query_c_grab, conn_proj, params = [zip_in,comp_zip])\n",
    "    diffndiff_df['cost_electricity'] = diffndiff_df['cost_electricity'].astype(float)\n",
    "    \n",
    "    output = diffndiff_df[(diffndiff_df.month <= float(month + 12)) & (diffndiff_df.month >= float(month - 12))]\n",
    "    conn_proj.close\n",
    "    return output\n",
    "dd_df = comp_grab(month,zip_in,comp_zip)\n",
    "\n",
    "dd_df['sort_v'] = dd_df.zipcode.map({zip_in:0,comp_zip:1})\n",
    "dd_df = dd_df.sort_values(by = ['sort_v', 'month'])"
   ]
  },
  {
   "cell_type": "code",
   "execution_count": 983,
   "metadata": {},
   "outputs": [
    {
     "data": {
      "text/html": [
       "<div>\n",
       "<style scoped>\n",
       "    .dataframe tbody tr th:only-of-type {\n",
       "        vertical-align: middle;\n",
       "    }\n",
       "\n",
       "    .dataframe tbody tr th {\n",
       "        vertical-align: top;\n",
       "    }\n",
       "\n",
       "    .dataframe thead th {\n",
       "        text-align: right;\n",
       "    }\n",
       "</style>\n",
       "<table border=\"1\" class=\"dataframe\">\n",
       "  <thead>\n",
       "    <tr style=\"text-align: right;\">\n",
       "      <th></th>\n",
       "      <th>zipcode</th>\n",
       "      <th>month</th>\n",
       "      <th>price</th>\n",
       "      <th>NREL_PSM_2019</th>\n",
       "      <th>cost_electricity</th>\n",
       "      <th>i_count</th>\n",
       "      <th>sort_v</th>\n",
       "    </tr>\n",
       "  </thead>\n",
       "  <tbody>\n",
       "    <tr>\n",
       "      <th>1</th>\n",
       "      <td>94024</td>\n",
       "      <td>36.0</td>\n",
       "      <td>10304.460000</td>\n",
       "      <td>6.570772</td>\n",
       "      <td>10.89</td>\n",
       "      <td>0.0</td>\n",
       "      <td>0</td>\n",
       "    </tr>\n",
       "    <tr>\n",
       "      <th>3</th>\n",
       "      <td>94024</td>\n",
       "      <td>37.0</td>\n",
       "      <td>10265.300000</td>\n",
       "      <td>6.570772</td>\n",
       "      <td>11.14</td>\n",
       "      <td>0.0</td>\n",
       "      <td>0</td>\n",
       "    </tr>\n",
       "    <tr>\n",
       "      <th>5</th>\n",
       "      <td>94024</td>\n",
       "      <td>38.0</td>\n",
       "      <td>10226.230000</td>\n",
       "      <td>6.570772</td>\n",
       "      <td>11.29</td>\n",
       "      <td>0.0</td>\n",
       "      <td>0</td>\n",
       "    </tr>\n",
       "    <tr>\n",
       "      <th>7</th>\n",
       "      <td>94024</td>\n",
       "      <td>39.0</td>\n",
       "      <td>10187.250000</td>\n",
       "      <td>6.570772</td>\n",
       "      <td>11.14</td>\n",
       "      <td>0.0</td>\n",
       "      <td>0</td>\n",
       "    </tr>\n",
       "    <tr>\n",
       "      <th>9</th>\n",
       "      <td>94024</td>\n",
       "      <td>40.0</td>\n",
       "      <td>10148.350000</td>\n",
       "      <td>6.570772</td>\n",
       "      <td>11.97</td>\n",
       "      <td>0.0</td>\n",
       "      <td>0</td>\n",
       "    </tr>\n",
       "    <tr>\n",
       "      <th>11</th>\n",
       "      <td>94024</td>\n",
       "      <td>41.0</td>\n",
       "      <td>10109.540000</td>\n",
       "      <td>6.570772</td>\n",
       "      <td>12.87</td>\n",
       "      <td>0.0</td>\n",
       "      <td>0</td>\n",
       "    </tr>\n",
       "    <tr>\n",
       "      <th>13</th>\n",
       "      <td>94024</td>\n",
       "      <td>42.0</td>\n",
       "      <td>10070.810000</td>\n",
       "      <td>6.570772</td>\n",
       "      <td>13.05</td>\n",
       "      <td>0.0</td>\n",
       "      <td>0</td>\n",
       "    </tr>\n",
       "    <tr>\n",
       "      <th>15</th>\n",
       "      <td>94024</td>\n",
       "      <td>43.0</td>\n",
       "      <td>10032.170000</td>\n",
       "      <td>6.570772</td>\n",
       "      <td>12.80</td>\n",
       "      <td>0.0</td>\n",
       "      <td>0</td>\n",
       "    </tr>\n",
       "    <tr>\n",
       "      <th>17</th>\n",
       "      <td>94024</td>\n",
       "      <td>44.0</td>\n",
       "      <td>9993.610000</td>\n",
       "      <td>6.570772</td>\n",
       "      <td>12.87</td>\n",
       "      <td>0.0</td>\n",
       "      <td>0</td>\n",
       "    </tr>\n",
       "    <tr>\n",
       "      <th>19</th>\n",
       "      <td>94024</td>\n",
       "      <td>45.0</td>\n",
       "      <td>9835.089474</td>\n",
       "      <td>6.570772</td>\n",
       "      <td>12.49</td>\n",
       "      <td>1.0</td>\n",
       "      <td>0</td>\n",
       "    </tr>\n",
       "    <tr>\n",
       "      <th>21</th>\n",
       "      <td>94024</td>\n",
       "      <td>46.0</td>\n",
       "      <td>9900.816675</td>\n",
       "      <td>6.570772</td>\n",
       "      <td>12.12</td>\n",
       "      <td>1.0</td>\n",
       "      <td>0</td>\n",
       "    </tr>\n",
       "    <tr>\n",
       "      <th>23</th>\n",
       "      <td>94024</td>\n",
       "      <td>47.0</td>\n",
       "      <td>9878.460000</td>\n",
       "      <td>6.570772</td>\n",
       "      <td>12.26</td>\n",
       "      <td>0.0</td>\n",
       "      <td>0</td>\n",
       "    </tr>\n",
       "    <tr>\n",
       "      <th>25</th>\n",
       "      <td>94024</td>\n",
       "      <td>48.0</td>\n",
       "      <td>9840.250000</td>\n",
       "      <td>6.570772</td>\n",
       "      <td>13.03</td>\n",
       "      <td>0.0</td>\n",
       "      <td>0</td>\n",
       "    </tr>\n",
       "    <tr>\n",
       "      <th>27</th>\n",
       "      <td>94024</td>\n",
       "      <td>49.0</td>\n",
       "      <td>9802.130000</td>\n",
       "      <td>6.570772</td>\n",
       "      <td>12.58</td>\n",
       "      <td>0.0</td>\n",
       "      <td>0</td>\n",
       "    </tr>\n",
       "    <tr>\n",
       "      <th>29</th>\n",
       "      <td>94024</td>\n",
       "      <td>50.0</td>\n",
       "      <td>9764.090000</td>\n",
       "      <td>6.570772</td>\n",
       "      <td>12.58</td>\n",
       "      <td>0.0</td>\n",
       "      <td>0</td>\n",
       "    </tr>\n",
       "    <tr>\n",
       "      <th>31</th>\n",
       "      <td>94024</td>\n",
       "      <td>51.0</td>\n",
       "      <td>9726.140000</td>\n",
       "      <td>6.570772</td>\n",
       "      <td>12.05</td>\n",
       "      <td>0.0</td>\n",
       "      <td>0</td>\n",
       "    </tr>\n",
       "    <tr>\n",
       "      <th>33</th>\n",
       "      <td>94024</td>\n",
       "      <td>52.0</td>\n",
       "      <td>9548.504527</td>\n",
       "      <td>6.570772</td>\n",
       "      <td>12.82</td>\n",
       "      <td>2.0</td>\n",
       "      <td>0</td>\n",
       "    </tr>\n",
       "    <tr>\n",
       "      <th>35</th>\n",
       "      <td>94024</td>\n",
       "      <td>53.0</td>\n",
       "      <td>9655.258389</td>\n",
       "      <td>6.570772</td>\n",
       "      <td>12.87</td>\n",
       "      <td>1.0</td>\n",
       "      <td>0</td>\n",
       "    </tr>\n",
       "    <tr>\n",
       "      <th>37</th>\n",
       "      <td>94024</td>\n",
       "      <td>54.0</td>\n",
       "      <td>9599.642204</td>\n",
       "      <td>6.570772</td>\n",
       "      <td>13.28</td>\n",
       "      <td>1.0</td>\n",
       "      <td>0</td>\n",
       "    </tr>\n",
       "    <tr>\n",
       "      <th>39</th>\n",
       "      <td>94024</td>\n",
       "      <td>55.0</td>\n",
       "      <td>9575.180000</td>\n",
       "      <td>6.570772</td>\n",
       "      <td>12.92</td>\n",
       "      <td>0.0</td>\n",
       "      <td>0</td>\n",
       "    </tr>\n",
       "    <tr>\n",
       "      <th>41</th>\n",
       "      <td>94024</td>\n",
       "      <td>56.0</td>\n",
       "      <td>9486.426278</td>\n",
       "      <td>6.570772</td>\n",
       "      <td>11.61</td>\n",
       "      <td>2.0</td>\n",
       "      <td>0</td>\n",
       "    </tr>\n",
       "    <tr>\n",
       "      <th>43</th>\n",
       "      <td>94024</td>\n",
       "      <td>57.0</td>\n",
       "      <td>9443.810716</td>\n",
       "      <td>6.570772</td>\n",
       "      <td>11.98</td>\n",
       "      <td>1.0</td>\n",
       "      <td>0</td>\n",
       "    </tr>\n",
       "    <tr>\n",
       "      <th>0</th>\n",
       "      <td>75205</td>\n",
       "      <td>36.0</td>\n",
       "      <td>10304.460000</td>\n",
       "      <td>5.256601</td>\n",
       "      <td>7.68</td>\n",
       "      <td>0.0</td>\n",
       "      <td>1</td>\n",
       "    </tr>\n",
       "    <tr>\n",
       "      <th>2</th>\n",
       "      <td>75205</td>\n",
       "      <td>37.0</td>\n",
       "      <td>10265.300000</td>\n",
       "      <td>5.256601</td>\n",
       "      <td>8.02</td>\n",
       "      <td>0.0</td>\n",
       "      <td>1</td>\n",
       "    </tr>\n",
       "    <tr>\n",
       "      <th>4</th>\n",
       "      <td>75205</td>\n",
       "      <td>38.0</td>\n",
       "      <td>10226.230000</td>\n",
       "      <td>5.256601</td>\n",
       "      <td>8.39</td>\n",
       "      <td>0.0</td>\n",
       "      <td>1</td>\n",
       "    </tr>\n",
       "    <tr>\n",
       "      <th>6</th>\n",
       "      <td>75205</td>\n",
       "      <td>39.0</td>\n",
       "      <td>10187.250000</td>\n",
       "      <td>5.256601</td>\n",
       "      <td>8.52</td>\n",
       "      <td>0.0</td>\n",
       "      <td>1</td>\n",
       "    </tr>\n",
       "    <tr>\n",
       "      <th>8</th>\n",
       "      <td>75205</td>\n",
       "      <td>40.0</td>\n",
       "      <td>10148.350000</td>\n",
       "      <td>5.256601</td>\n",
       "      <td>8.91</td>\n",
       "      <td>0.0</td>\n",
       "      <td>1</td>\n",
       "    </tr>\n",
       "    <tr>\n",
       "      <th>10</th>\n",
       "      <td>75205</td>\n",
       "      <td>41.0</td>\n",
       "      <td>10109.540000</td>\n",
       "      <td>5.256601</td>\n",
       "      <td>9.63</td>\n",
       "      <td>0.0</td>\n",
       "      <td>1</td>\n",
       "    </tr>\n",
       "    <tr>\n",
       "      <th>12</th>\n",
       "      <td>75205</td>\n",
       "      <td>42.0</td>\n",
       "      <td>10070.810000</td>\n",
       "      <td>5.256601</td>\n",
       "      <td>9.55</td>\n",
       "      <td>0.0</td>\n",
       "      <td>1</td>\n",
       "    </tr>\n",
       "    <tr>\n",
       "      <th>14</th>\n",
       "      <td>75205</td>\n",
       "      <td>43.0</td>\n",
       "      <td>10032.170000</td>\n",
       "      <td>5.256601</td>\n",
       "      <td>9.53</td>\n",
       "      <td>0.0</td>\n",
       "      <td>1</td>\n",
       "    </tr>\n",
       "    <tr>\n",
       "      <th>16</th>\n",
       "      <td>75205</td>\n",
       "      <td>44.0</td>\n",
       "      <td>9993.610000</td>\n",
       "      <td>5.256601</td>\n",
       "      <td>9.27</td>\n",
       "      <td>0.0</td>\n",
       "      <td>1</td>\n",
       "    </tr>\n",
       "    <tr>\n",
       "      <th>18</th>\n",
       "      <td>75205</td>\n",
       "      <td>45.0</td>\n",
       "      <td>9955.140000</td>\n",
       "      <td>5.256601</td>\n",
       "      <td>9.11</td>\n",
       "      <td>0.0</td>\n",
       "      <td>1</td>\n",
       "    </tr>\n",
       "    <tr>\n",
       "      <th>20</th>\n",
       "      <td>75205</td>\n",
       "      <td>46.0</td>\n",
       "      <td>9916.760000</td>\n",
       "      <td>5.256601</td>\n",
       "      <td>8.40</td>\n",
       "      <td>0.0</td>\n",
       "      <td>1</td>\n",
       "    </tr>\n",
       "    <tr>\n",
       "      <th>22</th>\n",
       "      <td>75205</td>\n",
       "      <td>47.0</td>\n",
       "      <td>9878.460000</td>\n",
       "      <td>5.256601</td>\n",
       "      <td>8.23</td>\n",
       "      <td>0.0</td>\n",
       "      <td>1</td>\n",
       "    </tr>\n",
       "    <tr>\n",
       "      <th>24</th>\n",
       "      <td>75205</td>\n",
       "      <td>48.0</td>\n",
       "      <td>9840.250000</td>\n",
       "      <td>5.256601</td>\n",
       "      <td>8.11</td>\n",
       "      <td>0.0</td>\n",
       "      <td>1</td>\n",
       "    </tr>\n",
       "    <tr>\n",
       "      <th>26</th>\n",
       "      <td>75205</td>\n",
       "      <td>49.0</td>\n",
       "      <td>9802.130000</td>\n",
       "      <td>5.256601</td>\n",
       "      <td>7.98</td>\n",
       "      <td>0.0</td>\n",
       "      <td>1</td>\n",
       "    </tr>\n",
       "    <tr>\n",
       "      <th>28</th>\n",
       "      <td>75205</td>\n",
       "      <td>50.0</td>\n",
       "      <td>9764.090000</td>\n",
       "      <td>5.256601</td>\n",
       "      <td>7.79</td>\n",
       "      <td>0.0</td>\n",
       "      <td>1</td>\n",
       "    </tr>\n",
       "    <tr>\n",
       "      <th>30</th>\n",
       "      <td>75205</td>\n",
       "      <td>51.0</td>\n",
       "      <td>9726.140000</td>\n",
       "      <td>5.256601</td>\n",
       "      <td>7.98</td>\n",
       "      <td>0.0</td>\n",
       "      <td>1</td>\n",
       "    </tr>\n",
       "    <tr>\n",
       "      <th>32</th>\n",
       "      <td>75205</td>\n",
       "      <td>52.0</td>\n",
       "      <td>9688.270000</td>\n",
       "      <td>5.256601</td>\n",
       "      <td>8.15</td>\n",
       "      <td>0.0</td>\n",
       "      <td>1</td>\n",
       "    </tr>\n",
       "    <tr>\n",
       "      <th>34</th>\n",
       "      <td>75205</td>\n",
       "      <td>53.0</td>\n",
       "      <td>9650.490000</td>\n",
       "      <td>5.256601</td>\n",
       "      <td>8.50</td>\n",
       "      <td>0.0</td>\n",
       "      <td>1</td>\n",
       "    </tr>\n",
       "    <tr>\n",
       "      <th>36</th>\n",
       "      <td>75205</td>\n",
       "      <td>54.0</td>\n",
       "      <td>9612.790000</td>\n",
       "      <td>5.256601</td>\n",
       "      <td>8.49</td>\n",
       "      <td>0.0</td>\n",
       "      <td>1</td>\n",
       "    </tr>\n",
       "    <tr>\n",
       "      <th>38</th>\n",
       "      <td>75205</td>\n",
       "      <td>55.0</td>\n",
       "      <td>9575.180000</td>\n",
       "      <td>5.256601</td>\n",
       "      <td>8.07</td>\n",
       "      <td>0.0</td>\n",
       "      <td>1</td>\n",
       "    </tr>\n",
       "    <tr>\n",
       "      <th>40</th>\n",
       "      <td>75205</td>\n",
       "      <td>56.0</td>\n",
       "      <td>9537.660000</td>\n",
       "      <td>5.256601</td>\n",
       "      <td>8.04</td>\n",
       "      <td>0.0</td>\n",
       "      <td>1</td>\n",
       "    </tr>\n",
       "    <tr>\n",
       "      <th>42</th>\n",
       "      <td>75205</td>\n",
       "      <td>57.0</td>\n",
       "      <td>9500.220000</td>\n",
       "      <td>5.256601</td>\n",
       "      <td>7.51</td>\n",
       "      <td>0.0</td>\n",
       "      <td>1</td>\n",
       "    </tr>\n",
       "  </tbody>\n",
       "</table>\n",
       "</div>"
      ],
      "text/plain": [
       "   zipcode  month         price  NREL_PSM_2019  cost_electricity  i_count  \\\n",
       "1    94024   36.0  10304.460000       6.570772             10.89      0.0   \n",
       "3    94024   37.0  10265.300000       6.570772             11.14      0.0   \n",
       "5    94024   38.0  10226.230000       6.570772             11.29      0.0   \n",
       "7    94024   39.0  10187.250000       6.570772             11.14      0.0   \n",
       "9    94024   40.0  10148.350000       6.570772             11.97      0.0   \n",
       "11   94024   41.0  10109.540000       6.570772             12.87      0.0   \n",
       "13   94024   42.0  10070.810000       6.570772             13.05      0.0   \n",
       "15   94024   43.0  10032.170000       6.570772             12.80      0.0   \n",
       "17   94024   44.0   9993.610000       6.570772             12.87      0.0   \n",
       "19   94024   45.0   9835.089474       6.570772             12.49      1.0   \n",
       "21   94024   46.0   9900.816675       6.570772             12.12      1.0   \n",
       "23   94024   47.0   9878.460000       6.570772             12.26      0.0   \n",
       "25   94024   48.0   9840.250000       6.570772             13.03      0.0   \n",
       "27   94024   49.0   9802.130000       6.570772             12.58      0.0   \n",
       "29   94024   50.0   9764.090000       6.570772             12.58      0.0   \n",
       "31   94024   51.0   9726.140000       6.570772             12.05      0.0   \n",
       "33   94024   52.0   9548.504527       6.570772             12.82      2.0   \n",
       "35   94024   53.0   9655.258389       6.570772             12.87      1.0   \n",
       "37   94024   54.0   9599.642204       6.570772             13.28      1.0   \n",
       "39   94024   55.0   9575.180000       6.570772             12.92      0.0   \n",
       "41   94024   56.0   9486.426278       6.570772             11.61      2.0   \n",
       "43   94024   57.0   9443.810716       6.570772             11.98      1.0   \n",
       "0    75205   36.0  10304.460000       5.256601              7.68      0.0   \n",
       "2    75205   37.0  10265.300000       5.256601              8.02      0.0   \n",
       "4    75205   38.0  10226.230000       5.256601              8.39      0.0   \n",
       "6    75205   39.0  10187.250000       5.256601              8.52      0.0   \n",
       "8    75205   40.0  10148.350000       5.256601              8.91      0.0   \n",
       "10   75205   41.0  10109.540000       5.256601              9.63      0.0   \n",
       "12   75205   42.0  10070.810000       5.256601              9.55      0.0   \n",
       "14   75205   43.0  10032.170000       5.256601              9.53      0.0   \n",
       "16   75205   44.0   9993.610000       5.256601              9.27      0.0   \n",
       "18   75205   45.0   9955.140000       5.256601              9.11      0.0   \n",
       "20   75205   46.0   9916.760000       5.256601              8.40      0.0   \n",
       "22   75205   47.0   9878.460000       5.256601              8.23      0.0   \n",
       "24   75205   48.0   9840.250000       5.256601              8.11      0.0   \n",
       "26   75205   49.0   9802.130000       5.256601              7.98      0.0   \n",
       "28   75205   50.0   9764.090000       5.256601              7.79      0.0   \n",
       "30   75205   51.0   9726.140000       5.256601              7.98      0.0   \n",
       "32   75205   52.0   9688.270000       5.256601              8.15      0.0   \n",
       "34   75205   53.0   9650.490000       5.256601              8.50      0.0   \n",
       "36   75205   54.0   9612.790000       5.256601              8.49      0.0   \n",
       "38   75205   55.0   9575.180000       5.256601              8.07      0.0   \n",
       "40   75205   56.0   9537.660000       5.256601              8.04      0.0   \n",
       "42   75205   57.0   9500.220000       5.256601              7.51      0.0   \n",
       "\n",
       "    sort_v  \n",
       "1        0  \n",
       "3        0  \n",
       "5        0  \n",
       "7        0  \n",
       "9        0  \n",
       "11       0  \n",
       "13       0  \n",
       "15       0  \n",
       "17       0  \n",
       "19       0  \n",
       "21       0  \n",
       "23       0  \n",
       "25       0  \n",
       "27       0  \n",
       "29       0  \n",
       "31       0  \n",
       "33       0  \n",
       "35       0  \n",
       "37       0  \n",
       "39       0  \n",
       "41       0  \n",
       "43       0  \n",
       "0        1  \n",
       "2        1  \n",
       "4        1  \n",
       "6        1  \n",
       "8        1  \n",
       "10       1  \n",
       "12       1  \n",
       "14       1  \n",
       "16       1  \n",
       "18       1  \n",
       "20       1  \n",
       "22       1  \n",
       "24       1  \n",
       "26       1  \n",
       "28       1  \n",
       "30       1  \n",
       "32       1  \n",
       "34       1  \n",
       "36       1  \n",
       "38       1  \n",
       "40       1  \n",
       "42       1  "
      ]
     },
     "execution_count": 983,
     "metadata": {},
     "output_type": "execute_result"
    }
   ],
   "source": [
    "dd_df"
   ]
  },
  {
   "cell_type": "code",
   "execution_count": 984,
   "metadata": {},
   "outputs": [
    {
     "data": {
      "application/vnd.plotly.v1+json": {
       "config": {
        "plotlyServerURL": "https://plot.ly"
       },
       "data": [
        {
         "hovertemplate": "zipcode=94024<br>month=%{x}<br>i_count=%{y}<extra></extra>",
         "legendgroup": "94024",
         "line": {
          "color": "#636efa",
          "dash": "solid"
         },
         "mode": "lines",
         "name": "94024",
         "orientation": "v",
         "showlegend": true,
         "type": "scatter",
         "x": [
          36,
          37,
          38,
          39,
          40,
          41,
          42,
          43,
          44,
          45,
          46,
          47,
          48,
          49,
          50,
          51,
          52,
          53,
          54,
          55,
          56,
          57
         ],
         "xaxis": "x",
         "y": [
          0,
          0,
          0,
          0,
          0,
          0,
          0,
          0,
          0,
          1,
          1,
          0,
          0,
          0,
          0,
          0,
          2,
          1,
          1,
          0,
          2,
          1
         ],
         "yaxis": "y"
        },
        {
         "hovertemplate": "zipcode=75205<br>month=%{x}<br>i_count=%{y}<extra></extra>",
         "legendgroup": "75205",
         "line": {
          "color": "#EF553B",
          "dash": "solid"
         },
         "mode": "lines",
         "name": "75205",
         "orientation": "v",
         "showlegend": true,
         "type": "scatter",
         "x": [
          36,
          37,
          38,
          39,
          40,
          41,
          42,
          43,
          44,
          45,
          46,
          47,
          48,
          49,
          50,
          51,
          52,
          53,
          54,
          55,
          56,
          57
         ],
         "xaxis": "x",
         "y": [
          0,
          0,
          0,
          0,
          0,
          0,
          0,
          0,
          0,
          0,
          0,
          0,
          0,
          0,
          0,
          0,
          0,
          0,
          0,
          0,
          0,
          0
         ],
         "yaxis": "y"
        }
       ],
       "layout": {
        "annotations": [
         {
          "showarrow": false,
          "text": "Program Start: 94024",
          "x": 45,
          "xanchor": "right",
          "xref": "x",
          "y": 1,
          "yanchor": "top",
          "yref": "y domain"
         }
        ],
        "legend": {
         "title": {
          "text": "zipcode"
         },
         "tracegroupgap": 0
        },
        "margin": {
         "t": 60
        },
        "shapes": [
         {
          "line": {
           "dash": "dot"
          },
          "type": "line",
          "x0": 45,
          "x1": 45,
          "xref": "x",
          "y0": 0,
          "y1": 1,
          "yref": "y domain"
         }
        ],
        "template": {
         "data": {
          "bar": [
           {
            "error_x": {
             "color": "#2a3f5f"
            },
            "error_y": {
             "color": "#2a3f5f"
            },
            "marker": {
             "line": {
              "color": "#E5ECF6",
              "width": 0.5
             }
            },
            "type": "bar"
           }
          ],
          "barpolar": [
           {
            "marker": {
             "line": {
              "color": "#E5ECF6",
              "width": 0.5
             }
            },
            "type": "barpolar"
           }
          ],
          "carpet": [
           {
            "aaxis": {
             "endlinecolor": "#2a3f5f",
             "gridcolor": "white",
             "linecolor": "white",
             "minorgridcolor": "white",
             "startlinecolor": "#2a3f5f"
            },
            "baxis": {
             "endlinecolor": "#2a3f5f",
             "gridcolor": "white",
             "linecolor": "white",
             "minorgridcolor": "white",
             "startlinecolor": "#2a3f5f"
            },
            "type": "carpet"
           }
          ],
          "choropleth": [
           {
            "colorbar": {
             "outlinewidth": 0,
             "ticks": ""
            },
            "type": "choropleth"
           }
          ],
          "contour": [
           {
            "colorbar": {
             "outlinewidth": 0,
             "ticks": ""
            },
            "colorscale": [
             [
              0,
              "#0d0887"
             ],
             [
              0.1111111111111111,
              "#46039f"
             ],
             [
              0.2222222222222222,
              "#7201a8"
             ],
             [
              0.3333333333333333,
              "#9c179e"
             ],
             [
              0.4444444444444444,
              "#bd3786"
             ],
             [
              0.5555555555555556,
              "#d8576b"
             ],
             [
              0.6666666666666666,
              "#ed7953"
             ],
             [
              0.7777777777777778,
              "#fb9f3a"
             ],
             [
              0.8888888888888888,
              "#fdca26"
             ],
             [
              1,
              "#f0f921"
             ]
            ],
            "type": "contour"
           }
          ],
          "contourcarpet": [
           {
            "colorbar": {
             "outlinewidth": 0,
             "ticks": ""
            },
            "type": "contourcarpet"
           }
          ],
          "heatmap": [
           {
            "colorbar": {
             "outlinewidth": 0,
             "ticks": ""
            },
            "colorscale": [
             [
              0,
              "#0d0887"
             ],
             [
              0.1111111111111111,
              "#46039f"
             ],
             [
              0.2222222222222222,
              "#7201a8"
             ],
             [
              0.3333333333333333,
              "#9c179e"
             ],
             [
              0.4444444444444444,
              "#bd3786"
             ],
             [
              0.5555555555555556,
              "#d8576b"
             ],
             [
              0.6666666666666666,
              "#ed7953"
             ],
             [
              0.7777777777777778,
              "#fb9f3a"
             ],
             [
              0.8888888888888888,
              "#fdca26"
             ],
             [
              1,
              "#f0f921"
             ]
            ],
            "type": "heatmap"
           }
          ],
          "heatmapgl": [
           {
            "colorbar": {
             "outlinewidth": 0,
             "ticks": ""
            },
            "colorscale": [
             [
              0,
              "#0d0887"
             ],
             [
              0.1111111111111111,
              "#46039f"
             ],
             [
              0.2222222222222222,
              "#7201a8"
             ],
             [
              0.3333333333333333,
              "#9c179e"
             ],
             [
              0.4444444444444444,
              "#bd3786"
             ],
             [
              0.5555555555555556,
              "#d8576b"
             ],
             [
              0.6666666666666666,
              "#ed7953"
             ],
             [
              0.7777777777777778,
              "#fb9f3a"
             ],
             [
              0.8888888888888888,
              "#fdca26"
             ],
             [
              1,
              "#f0f921"
             ]
            ],
            "type": "heatmapgl"
           }
          ],
          "histogram": [
           {
            "marker": {
             "colorbar": {
              "outlinewidth": 0,
              "ticks": ""
             }
            },
            "type": "histogram"
           }
          ],
          "histogram2d": [
           {
            "colorbar": {
             "outlinewidth": 0,
             "ticks": ""
            },
            "colorscale": [
             [
              0,
              "#0d0887"
             ],
             [
              0.1111111111111111,
              "#46039f"
             ],
             [
              0.2222222222222222,
              "#7201a8"
             ],
             [
              0.3333333333333333,
              "#9c179e"
             ],
             [
              0.4444444444444444,
              "#bd3786"
             ],
             [
              0.5555555555555556,
              "#d8576b"
             ],
             [
              0.6666666666666666,
              "#ed7953"
             ],
             [
              0.7777777777777778,
              "#fb9f3a"
             ],
             [
              0.8888888888888888,
              "#fdca26"
             ],
             [
              1,
              "#f0f921"
             ]
            ],
            "type": "histogram2d"
           }
          ],
          "histogram2dcontour": [
           {
            "colorbar": {
             "outlinewidth": 0,
             "ticks": ""
            },
            "colorscale": [
             [
              0,
              "#0d0887"
             ],
             [
              0.1111111111111111,
              "#46039f"
             ],
             [
              0.2222222222222222,
              "#7201a8"
             ],
             [
              0.3333333333333333,
              "#9c179e"
             ],
             [
              0.4444444444444444,
              "#bd3786"
             ],
             [
              0.5555555555555556,
              "#d8576b"
             ],
             [
              0.6666666666666666,
              "#ed7953"
             ],
             [
              0.7777777777777778,
              "#fb9f3a"
             ],
             [
              0.8888888888888888,
              "#fdca26"
             ],
             [
              1,
              "#f0f921"
             ]
            ],
            "type": "histogram2dcontour"
           }
          ],
          "mesh3d": [
           {
            "colorbar": {
             "outlinewidth": 0,
             "ticks": ""
            },
            "type": "mesh3d"
           }
          ],
          "parcoords": [
           {
            "line": {
             "colorbar": {
              "outlinewidth": 0,
              "ticks": ""
             }
            },
            "type": "parcoords"
           }
          ],
          "pie": [
           {
            "automargin": true,
            "type": "pie"
           }
          ],
          "scatter": [
           {
            "marker": {
             "colorbar": {
              "outlinewidth": 0,
              "ticks": ""
             }
            },
            "type": "scatter"
           }
          ],
          "scatter3d": [
           {
            "line": {
             "colorbar": {
              "outlinewidth": 0,
              "ticks": ""
             }
            },
            "marker": {
             "colorbar": {
              "outlinewidth": 0,
              "ticks": ""
             }
            },
            "type": "scatter3d"
           }
          ],
          "scattercarpet": [
           {
            "marker": {
             "colorbar": {
              "outlinewidth": 0,
              "ticks": ""
             }
            },
            "type": "scattercarpet"
           }
          ],
          "scattergeo": [
           {
            "marker": {
             "colorbar": {
              "outlinewidth": 0,
              "ticks": ""
             }
            },
            "type": "scattergeo"
           }
          ],
          "scattergl": [
           {
            "marker": {
             "colorbar": {
              "outlinewidth": 0,
              "ticks": ""
             }
            },
            "type": "scattergl"
           }
          ],
          "scattermapbox": [
           {
            "marker": {
             "colorbar": {
              "outlinewidth": 0,
              "ticks": ""
             }
            },
            "type": "scattermapbox"
           }
          ],
          "scatterpolar": [
           {
            "marker": {
             "colorbar": {
              "outlinewidth": 0,
              "ticks": ""
             }
            },
            "type": "scatterpolar"
           }
          ],
          "scatterpolargl": [
           {
            "marker": {
             "colorbar": {
              "outlinewidth": 0,
              "ticks": ""
             }
            },
            "type": "scatterpolargl"
           }
          ],
          "scatterternary": [
           {
            "marker": {
             "colorbar": {
              "outlinewidth": 0,
              "ticks": ""
             }
            },
            "type": "scatterternary"
           }
          ],
          "surface": [
           {
            "colorbar": {
             "outlinewidth": 0,
             "ticks": ""
            },
            "colorscale": [
             [
              0,
              "#0d0887"
             ],
             [
              0.1111111111111111,
              "#46039f"
             ],
             [
              0.2222222222222222,
              "#7201a8"
             ],
             [
              0.3333333333333333,
              "#9c179e"
             ],
             [
              0.4444444444444444,
              "#bd3786"
             ],
             [
              0.5555555555555556,
              "#d8576b"
             ],
             [
              0.6666666666666666,
              "#ed7953"
             ],
             [
              0.7777777777777778,
              "#fb9f3a"
             ],
             [
              0.8888888888888888,
              "#fdca26"
             ],
             [
              1,
              "#f0f921"
             ]
            ],
            "type": "surface"
           }
          ],
          "table": [
           {
            "cells": {
             "fill": {
              "color": "#EBF0F8"
             },
             "line": {
              "color": "white"
             }
            },
            "header": {
             "fill": {
              "color": "#C8D4E3"
             },
             "line": {
              "color": "white"
             }
            },
            "type": "table"
           }
          ]
         },
         "layout": {
          "annotationdefaults": {
           "arrowcolor": "#2a3f5f",
           "arrowhead": 0,
           "arrowwidth": 1
          },
          "autotypenumbers": "strict",
          "coloraxis": {
           "colorbar": {
            "outlinewidth": 0,
            "ticks": ""
           }
          },
          "colorscale": {
           "diverging": [
            [
             0,
             "#8e0152"
            ],
            [
             0.1,
             "#c51b7d"
            ],
            [
             0.2,
             "#de77ae"
            ],
            [
             0.3,
             "#f1b6da"
            ],
            [
             0.4,
             "#fde0ef"
            ],
            [
             0.5,
             "#f7f7f7"
            ],
            [
             0.6,
             "#e6f5d0"
            ],
            [
             0.7,
             "#b8e186"
            ],
            [
             0.8,
             "#7fbc41"
            ],
            [
             0.9,
             "#4d9221"
            ],
            [
             1,
             "#276419"
            ]
           ],
           "sequential": [
            [
             0,
             "#0d0887"
            ],
            [
             0.1111111111111111,
             "#46039f"
            ],
            [
             0.2222222222222222,
             "#7201a8"
            ],
            [
             0.3333333333333333,
             "#9c179e"
            ],
            [
             0.4444444444444444,
             "#bd3786"
            ],
            [
             0.5555555555555556,
             "#d8576b"
            ],
            [
             0.6666666666666666,
             "#ed7953"
            ],
            [
             0.7777777777777778,
             "#fb9f3a"
            ],
            [
             0.8888888888888888,
             "#fdca26"
            ],
            [
             1,
             "#f0f921"
            ]
           ],
           "sequentialminus": [
            [
             0,
             "#0d0887"
            ],
            [
             0.1111111111111111,
             "#46039f"
            ],
            [
             0.2222222222222222,
             "#7201a8"
            ],
            [
             0.3333333333333333,
             "#9c179e"
            ],
            [
             0.4444444444444444,
             "#bd3786"
            ],
            [
             0.5555555555555556,
             "#d8576b"
            ],
            [
             0.6666666666666666,
             "#ed7953"
            ],
            [
             0.7777777777777778,
             "#fb9f3a"
            ],
            [
             0.8888888888888888,
             "#fdca26"
            ],
            [
             1,
             "#f0f921"
            ]
           ]
          },
          "colorway": [
           "#636efa",
           "#EF553B",
           "#00cc96",
           "#ab63fa",
           "#FFA15A",
           "#19d3f3",
           "#FF6692",
           "#B6E880",
           "#FF97FF",
           "#FECB52"
          ],
          "font": {
           "color": "#2a3f5f"
          },
          "geo": {
           "bgcolor": "white",
           "lakecolor": "white",
           "landcolor": "#E5ECF6",
           "showlakes": true,
           "showland": true,
           "subunitcolor": "white"
          },
          "hoverlabel": {
           "align": "left"
          },
          "hovermode": "closest",
          "mapbox": {
           "style": "light"
          },
          "paper_bgcolor": "white",
          "plot_bgcolor": "#E5ECF6",
          "polar": {
           "angularaxis": {
            "gridcolor": "white",
            "linecolor": "white",
            "ticks": ""
           },
           "bgcolor": "#E5ECF6",
           "radialaxis": {
            "gridcolor": "white",
            "linecolor": "white",
            "ticks": ""
           }
          },
          "scene": {
           "xaxis": {
            "backgroundcolor": "#E5ECF6",
            "gridcolor": "white",
            "gridwidth": 2,
            "linecolor": "white",
            "showbackground": true,
            "ticks": "",
            "zerolinecolor": "white"
           },
           "yaxis": {
            "backgroundcolor": "#E5ECF6",
            "gridcolor": "white",
            "gridwidth": 2,
            "linecolor": "white",
            "showbackground": true,
            "ticks": "",
            "zerolinecolor": "white"
           },
           "zaxis": {
            "backgroundcolor": "#E5ECF6",
            "gridcolor": "white",
            "gridwidth": 2,
            "linecolor": "white",
            "showbackground": true,
            "ticks": "",
            "zerolinecolor": "white"
           }
          },
          "shapedefaults": {
           "line": {
            "color": "#2a3f5f"
           }
          },
          "ternary": {
           "aaxis": {
            "gridcolor": "white",
            "linecolor": "white",
            "ticks": ""
           },
           "baxis": {
            "gridcolor": "white",
            "linecolor": "white",
            "ticks": ""
           },
           "bgcolor": "#E5ECF6",
           "caxis": {
            "gridcolor": "white",
            "linecolor": "white",
            "ticks": ""
           }
          },
          "title": {
           "x": 0.05
          },
          "xaxis": {
           "automargin": true,
           "gridcolor": "white",
           "linecolor": "white",
           "ticks": "",
           "title": {
            "standoff": 15
           },
           "zerolinecolor": "white",
           "zerolinewidth": 2
          },
          "yaxis": {
           "automargin": true,
           "gridcolor": "white",
           "linecolor": "white",
           "ticks": "",
           "title": {
            "standoff": 15
           },
           "zerolinecolor": "white",
           "zerolinewidth": 2
          }
         }
        },
        "xaxis": {
         "anchor": "y",
         "domain": [
          0,
          1
         ],
         "title": {
          "text": "month"
         }
        },
        "yaxis": {
         "anchor": "x",
         "domain": [
          0,
          1
         ],
         "title": {
          "text": "i_count"
         }
        }
       }
      },
      "text/html": [
       "<div>                            <div id=\"4a83a6dd-7dfa-4c87-a075-af4802eb2273\" class=\"plotly-graph-div\" style=\"height:525px; width:100%;\"></div>            <script type=\"text/javascript\">                require([\"plotly\"], function(Plotly) {                    window.PLOTLYENV=window.PLOTLYENV || {};                                    if (document.getElementById(\"4a83a6dd-7dfa-4c87-a075-af4802eb2273\")) {                    Plotly.newPlot(                        \"4a83a6dd-7dfa-4c87-a075-af4802eb2273\",                        [{\"hovertemplate\": \"zipcode=94024<br>month=%{x}<br>i_count=%{y}<extra></extra>\", \"legendgroup\": \"94024\", \"line\": {\"color\": \"#636efa\", \"dash\": \"solid\"}, \"mode\": \"lines\", \"name\": \"94024\", \"orientation\": \"v\", \"showlegend\": true, \"type\": \"scatter\", \"x\": [36.0, 37.0, 38.0, 39.0, 40.0, 41.0, 42.0, 43.0, 44.0, 45.0, 46.0, 47.0, 48.0, 49.0, 50.0, 51.0, 52.0, 53.0, 54.0, 55.0, 56.0, 57.0], \"xaxis\": \"x\", \"y\": [0.0, 0.0, 0.0, 0.0, 0.0, 0.0, 0.0, 0.0, 0.0, 1.0, 1.0, 0.0, 0.0, 0.0, 0.0, 0.0, 2.0, 1.0, 1.0, 0.0, 2.0, 1.0], \"yaxis\": \"y\"}, {\"hovertemplate\": \"zipcode=75205<br>month=%{x}<br>i_count=%{y}<extra></extra>\", \"legendgroup\": \"75205\", \"line\": {\"color\": \"#EF553B\", \"dash\": \"solid\"}, \"mode\": \"lines\", \"name\": \"75205\", \"orientation\": \"v\", \"showlegend\": true, \"type\": \"scatter\", \"x\": [36.0, 37.0, 38.0, 39.0, 40.0, 41.0, 42.0, 43.0, 44.0, 45.0, 46.0, 47.0, 48.0, 49.0, 50.0, 51.0, 52.0, 53.0, 54.0, 55.0, 56.0, 57.0], \"xaxis\": \"x\", \"y\": [0.0, 0.0, 0.0, 0.0, 0.0, 0.0, 0.0, 0.0, 0.0, 0.0, 0.0, 0.0, 0.0, 0.0, 0.0, 0.0, 0.0, 0.0, 0.0, 0.0, 0.0, 0.0], \"yaxis\": \"y\"}],                        {\"annotations\": [{\"showarrow\": false, \"text\": \"Program Start: 94024\", \"x\": 45, \"xanchor\": \"right\", \"xref\": \"x\", \"y\": 1, \"yanchor\": \"top\", \"yref\": \"y domain\"}], \"legend\": {\"title\": {\"text\": \"zipcode\"}, \"tracegroupgap\": 0}, \"margin\": {\"t\": 60}, \"shapes\": [{\"line\": {\"dash\": \"dot\"}, \"type\": \"line\", \"x0\": 45, \"x1\": 45, \"xref\": \"x\", \"y0\": 0, \"y1\": 1, \"yref\": \"y domain\"}], \"template\": {\"data\": {\"bar\": [{\"error_x\": {\"color\": \"#2a3f5f\"}, \"error_y\": {\"color\": \"#2a3f5f\"}, \"marker\": {\"line\": {\"color\": \"#E5ECF6\", \"width\": 0.5}}, \"type\": \"bar\"}], \"barpolar\": [{\"marker\": {\"line\": {\"color\": \"#E5ECF6\", \"width\": 0.5}}, \"type\": \"barpolar\"}], \"carpet\": [{\"aaxis\": {\"endlinecolor\": \"#2a3f5f\", \"gridcolor\": \"white\", \"linecolor\": \"white\", \"minorgridcolor\": \"white\", \"startlinecolor\": \"#2a3f5f\"}, \"baxis\": {\"endlinecolor\": \"#2a3f5f\", \"gridcolor\": \"white\", \"linecolor\": \"white\", \"minorgridcolor\": \"white\", \"startlinecolor\": \"#2a3f5f\"}, \"type\": \"carpet\"}], \"choropleth\": [{\"colorbar\": {\"outlinewidth\": 0, \"ticks\": \"\"}, \"type\": \"choropleth\"}], \"contour\": [{\"colorbar\": {\"outlinewidth\": 0, \"ticks\": \"\"}, \"colorscale\": [[0.0, \"#0d0887\"], [0.1111111111111111, \"#46039f\"], [0.2222222222222222, \"#7201a8\"], [0.3333333333333333, \"#9c179e\"], [0.4444444444444444, \"#bd3786\"], [0.5555555555555556, \"#d8576b\"], [0.6666666666666666, \"#ed7953\"], [0.7777777777777778, \"#fb9f3a\"], [0.8888888888888888, \"#fdca26\"], [1.0, \"#f0f921\"]], \"type\": \"contour\"}], \"contourcarpet\": [{\"colorbar\": {\"outlinewidth\": 0, \"ticks\": \"\"}, \"type\": \"contourcarpet\"}], \"heatmap\": [{\"colorbar\": {\"outlinewidth\": 0, \"ticks\": \"\"}, \"colorscale\": [[0.0, \"#0d0887\"], [0.1111111111111111, \"#46039f\"], [0.2222222222222222, \"#7201a8\"], [0.3333333333333333, \"#9c179e\"], [0.4444444444444444, \"#bd3786\"], [0.5555555555555556, \"#d8576b\"], [0.6666666666666666, \"#ed7953\"], [0.7777777777777778, \"#fb9f3a\"], [0.8888888888888888, \"#fdca26\"], [1.0, \"#f0f921\"]], \"type\": \"heatmap\"}], \"heatmapgl\": [{\"colorbar\": {\"outlinewidth\": 0, \"ticks\": \"\"}, \"colorscale\": [[0.0, \"#0d0887\"], [0.1111111111111111, \"#46039f\"], [0.2222222222222222, \"#7201a8\"], [0.3333333333333333, \"#9c179e\"], [0.4444444444444444, \"#bd3786\"], [0.5555555555555556, \"#d8576b\"], [0.6666666666666666, \"#ed7953\"], [0.7777777777777778, \"#fb9f3a\"], [0.8888888888888888, \"#fdca26\"], [1.0, \"#f0f921\"]], \"type\": \"heatmapgl\"}], \"histogram\": [{\"marker\": {\"colorbar\": {\"outlinewidth\": 0, \"ticks\": \"\"}}, \"type\": \"histogram\"}], \"histogram2d\": [{\"colorbar\": {\"outlinewidth\": 0, \"ticks\": \"\"}, \"colorscale\": [[0.0, \"#0d0887\"], [0.1111111111111111, \"#46039f\"], [0.2222222222222222, \"#7201a8\"], [0.3333333333333333, \"#9c179e\"], [0.4444444444444444, \"#bd3786\"], [0.5555555555555556, \"#d8576b\"], [0.6666666666666666, \"#ed7953\"], [0.7777777777777778, \"#fb9f3a\"], [0.8888888888888888, \"#fdca26\"], [1.0, \"#f0f921\"]], \"type\": \"histogram2d\"}], \"histogram2dcontour\": [{\"colorbar\": {\"outlinewidth\": 0, \"ticks\": \"\"}, \"colorscale\": [[0.0, \"#0d0887\"], [0.1111111111111111, \"#46039f\"], [0.2222222222222222, \"#7201a8\"], [0.3333333333333333, \"#9c179e\"], [0.4444444444444444, \"#bd3786\"], [0.5555555555555556, \"#d8576b\"], [0.6666666666666666, \"#ed7953\"], [0.7777777777777778, \"#fb9f3a\"], [0.8888888888888888, \"#fdca26\"], [1.0, \"#f0f921\"]], \"type\": \"histogram2dcontour\"}], \"mesh3d\": [{\"colorbar\": {\"outlinewidth\": 0, \"ticks\": \"\"}, \"type\": \"mesh3d\"}], \"parcoords\": [{\"line\": {\"colorbar\": {\"outlinewidth\": 0, \"ticks\": \"\"}}, \"type\": \"parcoords\"}], \"pie\": [{\"automargin\": true, \"type\": \"pie\"}], \"scatter\": [{\"marker\": {\"colorbar\": {\"outlinewidth\": 0, \"ticks\": \"\"}}, \"type\": \"scatter\"}], \"scatter3d\": [{\"line\": {\"colorbar\": {\"outlinewidth\": 0, \"ticks\": \"\"}}, \"marker\": {\"colorbar\": {\"outlinewidth\": 0, \"ticks\": \"\"}}, \"type\": \"scatter3d\"}], \"scattercarpet\": [{\"marker\": {\"colorbar\": {\"outlinewidth\": 0, \"ticks\": \"\"}}, \"type\": \"scattercarpet\"}], \"scattergeo\": [{\"marker\": {\"colorbar\": {\"outlinewidth\": 0, \"ticks\": \"\"}}, \"type\": \"scattergeo\"}], \"scattergl\": [{\"marker\": {\"colorbar\": {\"outlinewidth\": 0, \"ticks\": \"\"}}, \"type\": \"scattergl\"}], \"scattermapbox\": [{\"marker\": {\"colorbar\": {\"outlinewidth\": 0, \"ticks\": \"\"}}, \"type\": \"scattermapbox\"}], \"scatterpolar\": [{\"marker\": {\"colorbar\": {\"outlinewidth\": 0, \"ticks\": \"\"}}, \"type\": \"scatterpolar\"}], \"scatterpolargl\": [{\"marker\": {\"colorbar\": {\"outlinewidth\": 0, \"ticks\": \"\"}}, \"type\": \"scatterpolargl\"}], \"scatterternary\": [{\"marker\": {\"colorbar\": {\"outlinewidth\": 0, \"ticks\": \"\"}}, \"type\": \"scatterternary\"}], \"surface\": [{\"colorbar\": {\"outlinewidth\": 0, \"ticks\": \"\"}, \"colorscale\": [[0.0, \"#0d0887\"], [0.1111111111111111, \"#46039f\"], [0.2222222222222222, \"#7201a8\"], [0.3333333333333333, \"#9c179e\"], [0.4444444444444444, \"#bd3786\"], [0.5555555555555556, \"#d8576b\"], [0.6666666666666666, \"#ed7953\"], [0.7777777777777778, \"#fb9f3a\"], [0.8888888888888888, \"#fdca26\"], [1.0, \"#f0f921\"]], \"type\": \"surface\"}], \"table\": [{\"cells\": {\"fill\": {\"color\": \"#EBF0F8\"}, \"line\": {\"color\": \"white\"}}, \"header\": {\"fill\": {\"color\": \"#C8D4E3\"}, \"line\": {\"color\": \"white\"}}, \"type\": \"table\"}]}, \"layout\": {\"annotationdefaults\": {\"arrowcolor\": \"#2a3f5f\", \"arrowhead\": 0, \"arrowwidth\": 1}, \"autotypenumbers\": \"strict\", \"coloraxis\": {\"colorbar\": {\"outlinewidth\": 0, \"ticks\": \"\"}}, \"colorscale\": {\"diverging\": [[0, \"#8e0152\"], [0.1, \"#c51b7d\"], [0.2, \"#de77ae\"], [0.3, \"#f1b6da\"], [0.4, \"#fde0ef\"], [0.5, \"#f7f7f7\"], [0.6, \"#e6f5d0\"], [0.7, \"#b8e186\"], [0.8, \"#7fbc41\"], [0.9, \"#4d9221\"], [1, \"#276419\"]], \"sequential\": [[0.0, \"#0d0887\"], [0.1111111111111111, \"#46039f\"], [0.2222222222222222, \"#7201a8\"], [0.3333333333333333, \"#9c179e\"], [0.4444444444444444, \"#bd3786\"], [0.5555555555555556, \"#d8576b\"], [0.6666666666666666, \"#ed7953\"], [0.7777777777777778, \"#fb9f3a\"], [0.8888888888888888, \"#fdca26\"], [1.0, \"#f0f921\"]], \"sequentialminus\": [[0.0, \"#0d0887\"], [0.1111111111111111, \"#46039f\"], [0.2222222222222222, \"#7201a8\"], [0.3333333333333333, \"#9c179e\"], [0.4444444444444444, \"#bd3786\"], [0.5555555555555556, \"#d8576b\"], [0.6666666666666666, \"#ed7953\"], [0.7777777777777778, \"#fb9f3a\"], [0.8888888888888888, \"#fdca26\"], [1.0, \"#f0f921\"]]}, \"colorway\": [\"#636efa\", \"#EF553B\", \"#00cc96\", \"#ab63fa\", \"#FFA15A\", \"#19d3f3\", \"#FF6692\", \"#B6E880\", \"#FF97FF\", \"#FECB52\"], \"font\": {\"color\": \"#2a3f5f\"}, \"geo\": {\"bgcolor\": \"white\", \"lakecolor\": \"white\", \"landcolor\": \"#E5ECF6\", \"showlakes\": true, \"showland\": true, \"subunitcolor\": \"white\"}, \"hoverlabel\": {\"align\": \"left\"}, \"hovermode\": \"closest\", \"mapbox\": {\"style\": \"light\"}, \"paper_bgcolor\": \"white\", \"plot_bgcolor\": \"#E5ECF6\", \"polar\": {\"angularaxis\": {\"gridcolor\": \"white\", \"linecolor\": \"white\", \"ticks\": \"\"}, \"bgcolor\": \"#E5ECF6\", \"radialaxis\": {\"gridcolor\": \"white\", \"linecolor\": \"white\", \"ticks\": \"\"}}, \"scene\": {\"xaxis\": {\"backgroundcolor\": \"#E5ECF6\", \"gridcolor\": \"white\", \"gridwidth\": 2, \"linecolor\": \"white\", \"showbackground\": true, \"ticks\": \"\", \"zerolinecolor\": \"white\"}, \"yaxis\": {\"backgroundcolor\": \"#E5ECF6\", \"gridcolor\": \"white\", \"gridwidth\": 2, \"linecolor\": \"white\", \"showbackground\": true, \"ticks\": \"\", \"zerolinecolor\": \"white\"}, \"zaxis\": {\"backgroundcolor\": \"#E5ECF6\", \"gridcolor\": \"white\", \"gridwidth\": 2, \"linecolor\": \"white\", \"showbackground\": true, \"ticks\": \"\", \"zerolinecolor\": \"white\"}}, \"shapedefaults\": {\"line\": {\"color\": \"#2a3f5f\"}}, \"ternary\": {\"aaxis\": {\"gridcolor\": \"white\", \"linecolor\": \"white\", \"ticks\": \"\"}, \"baxis\": {\"gridcolor\": \"white\", \"linecolor\": \"white\", \"ticks\": \"\"}, \"bgcolor\": \"#E5ECF6\", \"caxis\": {\"gridcolor\": \"white\", \"linecolor\": \"white\", \"ticks\": \"\"}}, \"title\": {\"x\": 0.05}, \"xaxis\": {\"automargin\": true, \"gridcolor\": \"white\", \"linecolor\": \"white\", \"ticks\": \"\", \"title\": {\"standoff\": 15}, \"zerolinecolor\": \"white\", \"zerolinewidth\": 2}, \"yaxis\": {\"automargin\": true, \"gridcolor\": \"white\", \"linecolor\": \"white\", \"ticks\": \"\", \"title\": {\"standoff\": 15}, \"zerolinecolor\": \"white\", \"zerolinewidth\": 2}}}, \"xaxis\": {\"anchor\": \"y\", \"domain\": [0.0, 1.0], \"title\": {\"text\": \"month\"}}, \"yaxis\": {\"anchor\": \"x\", \"domain\": [0.0, 1.0], \"title\": {\"text\": \"i_count\"}}},                        {\"responsive\": true}                    ).then(function(){\n",
       "                            \n",
       "var gd = document.getElementById('4a83a6dd-7dfa-4c87-a075-af4802eb2273');\n",
       "var x = new MutationObserver(function (mutations, observer) {{\n",
       "        var display = window.getComputedStyle(gd).display;\n",
       "        if (!display || display === 'none') {{\n",
       "            console.log([gd, 'removed!']);\n",
       "            Plotly.purge(gd);\n",
       "            observer.disconnect();\n",
       "        }}\n",
       "}});\n",
       "\n",
       "// Listen for the removal of the full notebook cells\n",
       "var notebookContainer = gd.closest('#notebook-container');\n",
       "if (notebookContainer) {{\n",
       "    x.observe(notebookContainer, {childList: true});\n",
       "}}\n",
       "\n",
       "// Listen for the clearing of the current output cell\n",
       "var outputEl = gd.closest('.output');\n",
       "if (outputEl) {{\n",
       "    x.observe(outputEl, {childList: true});\n",
       "}}\n",
       "\n",
       "                        })                };                });            </script>        </div>"
      ]
     },
     "metadata": {},
     "output_type": "display_data"
    }
   ],
   "source": [
    "import plotly.express as px \n",
    "fig = px.line(dd_df, x='month', y='i_count', color='zipcode')\n",
    "fig.add_vline(x = month, line_dash = 'dot', annotation_text = 'Program Start: {}'.format(zip_in),annotation_position = 'top left')"
   ]
  },
  {
   "cell_type": "code",
   "execution_count": 985,
   "metadata": {},
   "outputs": [
    {
     "data": {
      "text/plain": [
       "True"
      ]
     },
     "execution_count": 985,
     "metadata": {},
     "output_type": "execute_result"
    }
   ],
   "source": [
    "zip_in in data_zips"
   ]
  },
  {
   "cell_type": "code",
   "execution_count": null,
   "metadata": {},
   "outputs": [],
   "source": []
  }
 ],
 "metadata": {
  "kernelspec": {
   "display_name": "Python 3",
   "language": "python",
   "name": "python3"
  },
  "language_info": {
   "codemirror_mode": {
    "name": "ipython",
    "version": 3
   },
   "file_extension": ".py",
   "mimetype": "text/x-python",
   "name": "python",
   "nbconvert_exporter": "python",
   "pygments_lexer": "ipython3",
   "version": "3.8.3"
  }
 },
 "nbformat": 4,
 "nbformat_minor": 4
}
