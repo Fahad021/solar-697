{
 "cells": [
  {
   "cell_type": "code",
   "execution_count": 20,
   "metadata": {},
   "outputs": [],
   "source": [
    "import json\n",
    "import os\n",
    "import shutil\n",
    "import sqlite3\n",
    "from datetime import datetime\n",
    "from time import sleep\n",
    "#import query\n",
    "import logzero\n",
    "import requests\n",
    "#import secret\n",
    "\n",
    "from logzero import logger\n",
    "from requests import get\n",
    "import calendar\n",
    "import regex as re\n",
    "import pandas as pd"
   ]
  },
  {
   "cell_type": "code",
   "execution_count": 21,
   "metadata": {},
   "outputs": [],
   "source": [
    "with open(\"cfg.json\", \"r\") as jin:\n",
    "    cfg = json.load(jin)\n",
    "\n",
    "# rewrite to ensure formatting\n",
    "with open(\"cfg.json\", \"w\") as jout:\n",
    "    json.dump(cfg, jout, indent=4)"
   ]
  },
  {
   "cell_type": "code",
   "execution_count": 22,
   "metadata": {},
   "outputs": [
    {
     "data": {
      "text/plain": [
       "<function Connection.close>"
      ]
     },
     "execution_count": 22,
     "metadata": {},
     "output_type": "execute_result"
    }
   ],
   "source": [
    "query_zip = \"\"\"\n",
    "SELECT *\n",
    "\n",
    "FROM program\n",
    "\n",
    "LEFT JOIN zipcode on program.state_id == zipcode.state_id\n",
    "\n",
    "WHERE is_entire_state == 1\n",
    "\"\"\"\n",
    "\n",
    "conn_proj = sqlite3.connect(cfg[\"db_dir\"] + cfg[\"db_dsire\"])\n",
    "cursor_proj = conn_proj.cursor()\n",
    "\n",
    "state_df = pd.read_sql_query(query_zip, conn_proj)\n",
    "    \n",
    "conn_proj.close"
   ]
  },
  {
   "cell_type": "code",
   "execution_count": 23,
   "metadata": {},
   "outputs": [
    {
     "data": {
      "text/plain": [
       "(1677080, 30)"
      ]
     },
     "execution_count": 23,
     "metadata": {},
     "output_type": "execute_result"
    }
   ],
   "source": [
    "state_df.shape"
   ]
  },
  {
   "cell_type": "code",
   "execution_count": 24,
   "metadata": {},
   "outputs": [
    {
     "data": {
      "text/plain": [
       "<function Connection.close>"
      ]
     },
     "execution_count": 24,
     "metadata": {},
     "output_type": "execute_result"
    }
   ],
   "source": [
    "query_city_zip = \"\"\"\n",
    "SELECT *\n",
    "\n",
    "FROM program_city\n",
    "\n",
    "LEFT JOIN program\n",
    "\n",
    "on program_city.program_id == program.id\n",
    "\n",
    "LEFT JOIN zipcode on program_city.city_id == zipcode.city_id\n",
    "\n",
    "WHERE is_entire_state == 0\n",
    "\"\"\"\n",
    "\n",
    "conn_proj = sqlite3.connect(cfg[\"db_dir\"] + cfg[\"db_dsire\"])\n",
    "cursor_proj = conn_proj.cursor()\n",
    "\n",
    "city_df = pd.read_sql_query(query_city_zip, conn_proj)\n",
    "    \n",
    "conn_proj.close"
   ]
  },
  {
   "cell_type": "code",
   "execution_count": 25,
   "metadata": {},
   "outputs": [
    {
     "data": {
      "text/plain": [
       "(14048, 32)"
      ]
     },
     "execution_count": 25,
     "metadata": {},
     "output_type": "execute_result"
    }
   ],
   "source": [
    "city_df.shape"
   ]
  },
  {
   "cell_type": "code",
   "execution_count": 26,
   "metadata": {},
   "outputs": [
    {
     "data": {
      "text/plain": [
       "<function Connection.close>"
      ]
     },
     "execution_count": 26,
     "metadata": {},
     "output_type": "execute_result"
    }
   ],
   "source": [
    "query_county_zip = \"\"\"\n",
    "SELECT *\n",
    "\n",
    "FROM program_county\n",
    "\n",
    "LEFT JOIN program\n",
    "\n",
    "on program_county.program_id == program.id\n",
    "\n",
    "LEFT JOIN zipcode on program_county.county_id == zipcode.county_id\n",
    "\n",
    "WHERE is_entire_state == 0\n",
    "\"\"\"\n",
    "\n",
    "conn_proj = sqlite3.connect(cfg[\"db_dir\"] + cfg[\"db_dsire\"])\n",
    "cursor_proj = conn_proj.cursor()\n",
    "\n",
    "county_df = pd.read_sql_query(query_county_zip, conn_proj)\n",
    "    \n",
    "conn_proj.close"
   ]
  },
  {
   "cell_type": "code",
   "execution_count": 27,
   "metadata": {},
   "outputs": [
    {
     "data": {
      "text/plain": [
       "(4889, 32)"
      ]
     },
     "execution_count": 27,
     "metadata": {},
     "output_type": "execute_result"
    }
   ],
   "source": [
    "county_df.shape"
   ]
  },
  {
   "cell_type": "code",
   "execution_count": 28,
   "metadata": {},
   "outputs": [
    {
     "data": {
      "text/plain": [
       "<function Connection.close>"
      ]
     },
     "execution_count": 28,
     "metadata": {},
     "output_type": "execute_result"
    }
   ],
   "source": [
    "query_utility_zip = \"\"\"\n",
    "SELECT *\n",
    "\n",
    "FROM program_utility\n",
    "\n",
    "LEFT JOIN program\n",
    "\n",
    "on program_utility.program_id == program.id\n",
    "\n",
    "LEFT JOIN utility_zipcode\n",
    "\n",
    "on program_utility.utility_id == utility_zipcode.utility_id\n",
    "\n",
    "LEFT JOIN zipcode on utility_zipcode.zipcode_id == zipcode.id\n",
    "\n",
    "WHERE is_entire_state == 0\n",
    "\"\"\"\n",
    "\n",
    "conn_proj = sqlite3.connect(cfg[\"db_dir\"] + cfg[\"db_dsire\"])\n",
    "cursor_proj = conn_proj.cursor()\n",
    "\n",
    "utility_df = pd.read_sql_query(query_utility_zip, conn_proj)\n",
    "    \n",
    "conn_proj.close"
   ]
  },
  {
   "cell_type": "code",
   "execution_count": 29,
   "metadata": {},
   "outputs": [
    {
     "data": {
      "text/plain": [
       "(434875, 34)"
      ]
     },
     "execution_count": 29,
     "metadata": {},
     "output_type": "execute_result"
    }
   ],
   "source": [
    "utility_df.shape"
   ]
  },
  {
   "cell_type": "code",
   "execution_count": 30,
   "metadata": {},
   "outputs": [
    {
     "data": {
      "text/plain": [
       "<function Connection.close>"
      ]
     },
     "execution_count": 30,
     "metadata": {},
     "output_type": "execute_result"
    }
   ],
   "source": [
    "query_zip_zip = \"\"\"\n",
    "SELECT *\n",
    "\n",
    "FROM program_zipcode\n",
    "\n",
    "LEFT JOIN program\n",
    "\n",
    "on program_zipcode.program_id == program.id\n",
    "\n",
    "INNER JOIN zipcode on program_zipcode.zipcode_id == zipcode.id\n",
    "\n",
    "WHERE is_entire_state == 0\n",
    "\"\"\"\n",
    "\n",
    "conn_proj = sqlite3.connect(cfg[\"db_dir\"] + cfg[\"db_dsire\"])\n",
    "cursor_proj = conn_proj.cursor()\n",
    "\n",
    "zip_df = pd.read_sql_query(query_zip_zip, conn_proj)\n",
    "    \n",
    "conn_proj.close"
   ]
  },
  {
   "cell_type": "code",
   "execution_count": 31,
   "metadata": {},
   "outputs": [
    {
     "data": {
      "text/plain": [
       "(36, 32)"
      ]
     },
     "execution_count": 31,
     "metadata": {},
     "output_type": "execute_result"
    }
   ],
   "source": [
    "zip_df.shape"
   ]
  },
  {
   "cell_type": "code",
   "execution_count": 32,
   "metadata": {},
   "outputs": [],
   "source": [
    "county_df = county_df.loc[:,~county_df.columns.duplicated()]\n",
    "city_df = city_df.loc[:,~city_df.columns.duplicated()]\n",
    "state_df = state_df.loc[:,~state_df.columns.duplicated()]\n",
    "zip_df = zip_df.loc[:,~zip_df.columns.duplicated()]\n",
    "utility_df = utility_df.loc[:,~utility_df.columns.duplicated()]\n",
    "\n",
    "keep_cols = list(\n",
    "    set(zip_df.columns).intersection(\n",
    "    set(utility_df.columns)).intersection(\n",
    "    set(county_df.columns)).intersection(\n",
    "    set(city_df.columns)).intersection(\n",
    "    set(state_df.columns))\n",
    ")\n",
    "\n",
    "\n",
    "\n",
    "dsire_by_zip = pd.concat([zip_df[keep_cols],\n",
    "                          utility_df[keep_cols],\n",
    "                          county_df[keep_cols],\n",
    "                          city_df[keep_cols],\n",
    "                          state_df[keep_cols]])"
   ]
  },
  {
   "cell_type": "code",
   "execution_count": 33,
   "metadata": {},
   "outputs": [
    {
     "data": {
      "text/plain": [
       "Index(['updated_ts', 'created_by_user_id', 'start_date_text', 'state_id',\n",
       "       'latitude', 'county_id', 'published', 'city_id', 'fromSir',\n",
       "       'implementing_sector_id', 'summary', 'websiteurl', 'budget',\n",
       "       'program_category_id', 'is_entire_state', 'end_date', 'zipcode',\n",
       "       'end_date_text', 'start_date', 'code', 'name', 'longitude',\n",
       "       'program_type_id', 'created_ts', 'additional_technologies', 'id',\n",
       "       'fundingsource', 'administrator'],\n",
       "      dtype='object')"
      ]
     },
     "execution_count": 33,
     "metadata": {},
     "output_type": "execute_result"
    }
   ],
   "source": [
    "dsire_by_zip.columns"
   ]
  },
  {
   "cell_type": "code",
   "execution_count": 34,
   "metadata": {},
   "outputs": [
    {
     "data": {
      "text/plain": [
       "<function Connection.close>"
      ]
     },
     "execution_count": 34,
     "metadata": {},
     "output_type": "execute_result"
    }
   ],
   "source": [
    "query_tech = \"\"\"\n",
    "SELECT * \n",
    "\n",
    "FROM program_technology\n",
    "\n",
    "WHERE program_technology.technology_id == 7\n",
    "\"\"\"\n",
    "\n",
    "conn_proj = sqlite3.connect(cfg[\"db_dir\"] + cfg[\"db_dsire\"])\n",
    "cursor_proj = conn_proj.cursor()\n",
    "\n",
    "tech_df = pd.read_sql_query(query_tech, conn_proj)\n",
    "\n",
    "conn_proj.close"
   ]
  },
  {
   "cell_type": "code",
   "execution_count": 35,
   "metadata": {},
   "outputs": [
    {
     "data": {
      "text/html": [
       "<div>\n",
       "<style scoped>\n",
       "    .dataframe tbody tr th:only-of-type {\n",
       "        vertical-align: middle;\n",
       "    }\n",
       "\n",
       "    .dataframe tbody tr th {\n",
       "        vertical-align: top;\n",
       "    }\n",
       "\n",
       "    .dataframe thead th {\n",
       "        text-align: right;\n",
       "    }\n",
       "</style>\n",
       "<table border=\"1\" class=\"dataframe\">\n",
       "  <thead>\n",
       "    <tr style=\"text-align: right;\">\n",
       "      <th></th>\n",
       "      <th>updated_ts</th>\n",
       "      <th>created_by_user_id</th>\n",
       "      <th>start_date_text</th>\n",
       "      <th>state_id</th>\n",
       "      <th>latitude</th>\n",
       "      <th>county_id</th>\n",
       "      <th>published</th>\n",
       "      <th>city_id</th>\n",
       "      <th>fromSir</th>\n",
       "      <th>implementing_sector_id</th>\n",
       "      <th>...</th>\n",
       "      <th>start_date</th>\n",
       "      <th>code</th>\n",
       "      <th>name</th>\n",
       "      <th>longitude</th>\n",
       "      <th>program_type_id</th>\n",
       "      <th>created_ts</th>\n",
       "      <th>additional_technologies</th>\n",
       "      <th>id</th>\n",
       "      <th>fundingsource</th>\n",
       "      <th>administrator</th>\n",
       "    </tr>\n",
       "  </thead>\n",
       "  <tbody>\n",
       "    <tr>\n",
       "      <th>0</th>\n",
       "      <td>2020-05-28 20:50:44</td>\n",
       "      <td>492</td>\n",
       "      <td>None</td>\n",
       "      <td>27</td>\n",
       "      <td>44.0</td>\n",
       "      <td>1680.0</td>\n",
       "      <td>1</td>\n",
       "      <td>17335.0</td>\n",
       "      <td>0</td>\n",
       "      <td>3</td>\n",
       "      <td>...</td>\n",
       "      <td>None</td>\n",
       "      <td>MN57F</td>\n",
       "      <td>Rochester Public Utilities - Commercial and In...</td>\n",
       "      <td>-92.0</td>\n",
       "      <td>88</td>\n",
       "      <td>2006-08-09 00:00:00</td>\n",
       "      <td>None</td>\n",
       "      <td>1946</td>\n",
       "      <td>None</td>\n",
       "      <td>Rochester Public Utilities</td>\n",
       "    </tr>\n",
       "    <tr>\n",
       "      <th>1</th>\n",
       "      <td>2019-05-13 13:45:11</td>\n",
       "      <td>534</td>\n",
       "      <td>None</td>\n",
       "      <td>54</td>\n",
       "      <td>39.0</td>\n",
       "      <td>247.0</td>\n",
       "      <td>1</td>\n",
       "      <td>6019.0</td>\n",
       "      <td>0</td>\n",
       "      <td>3</td>\n",
       "      <td>...</td>\n",
       "      <td>None</td>\n",
       "      <td>VA32F</td>\n",
       "      <td>Columbia Gas of Virginia - Home Savings Rebate...</td>\n",
       "      <td>-78.0</td>\n",
       "      <td>88</td>\n",
       "      <td>2010-05-06 00:00:00</td>\n",
       "      <td>None</td>\n",
       "      <td>4127</td>\n",
       "      <td>None</td>\n",
       "      <td>None</td>\n",
       "    </tr>\n",
       "    <tr>\n",
       "      <th>2</th>\n",
       "      <td>2019-05-13 13:45:11</td>\n",
       "      <td>534</td>\n",
       "      <td>None</td>\n",
       "      <td>54</td>\n",
       "      <td>39.0</td>\n",
       "      <td>249.0</td>\n",
       "      <td>1</td>\n",
       "      <td>6022.0</td>\n",
       "      <td>0</td>\n",
       "      <td>3</td>\n",
       "      <td>...</td>\n",
       "      <td>None</td>\n",
       "      <td>VA32F</td>\n",
       "      <td>Columbia Gas of Virginia - Home Savings Rebate...</td>\n",
       "      <td>-77.0</td>\n",
       "      <td>88</td>\n",
       "      <td>2010-05-06 00:00:00</td>\n",
       "      <td>None</td>\n",
       "      <td>4127</td>\n",
       "      <td>None</td>\n",
       "      <td>None</td>\n",
       "    </tr>\n",
       "    <tr>\n",
       "      <th>3</th>\n",
       "      <td>2019-05-13 13:45:11</td>\n",
       "      <td>534</td>\n",
       "      <td>None</td>\n",
       "      <td>54</td>\n",
       "      <td>39.0</td>\n",
       "      <td>250.0</td>\n",
       "      <td>1</td>\n",
       "      <td>6022.0</td>\n",
       "      <td>0</td>\n",
       "      <td>3</td>\n",
       "      <td>...</td>\n",
       "      <td>None</td>\n",
       "      <td>VA32F</td>\n",
       "      <td>Columbia Gas of Virginia - Home Savings Rebate...</td>\n",
       "      <td>-77.0</td>\n",
       "      <td>88</td>\n",
       "      <td>2010-05-06 00:00:00</td>\n",
       "      <td>None</td>\n",
       "      <td>4127</td>\n",
       "      <td>None</td>\n",
       "      <td>None</td>\n",
       "    </tr>\n",
       "    <tr>\n",
       "      <th>4</th>\n",
       "      <td>2019-05-13 13:45:11</td>\n",
       "      <td>534</td>\n",
       "      <td>None</td>\n",
       "      <td>54</td>\n",
       "      <td>39.0</td>\n",
       "      <td>249.0</td>\n",
       "      <td>1</td>\n",
       "      <td>6022.0</td>\n",
       "      <td>0</td>\n",
       "      <td>3</td>\n",
       "      <td>...</td>\n",
       "      <td>None</td>\n",
       "      <td>VA32F</td>\n",
       "      <td>Columbia Gas of Virginia - Home Savings Rebate...</td>\n",
       "      <td>-77.0</td>\n",
       "      <td>88</td>\n",
       "      <td>2010-05-06 00:00:00</td>\n",
       "      <td>None</td>\n",
       "      <td>4127</td>\n",
       "      <td>None</td>\n",
       "      <td>None</td>\n",
       "    </tr>\n",
       "  </tbody>\n",
       "</table>\n",
       "<p>5 rows × 28 columns</p>\n",
       "</div>"
      ],
      "text/plain": [
       "            updated_ts  created_by_user_id start_date_text  state_id  \\\n",
       "0  2020-05-28 20:50:44                 492            None        27   \n",
       "1  2019-05-13 13:45:11                 534            None        54   \n",
       "2  2019-05-13 13:45:11                 534            None        54   \n",
       "3  2019-05-13 13:45:11                 534            None        54   \n",
       "4  2019-05-13 13:45:11                 534            None        54   \n",
       "\n",
       "   latitude  county_id  published  city_id  fromSir  implementing_sector_id  \\\n",
       "0      44.0     1680.0          1  17335.0        0                       3   \n",
       "1      39.0      247.0          1   6019.0        0                       3   \n",
       "2      39.0      249.0          1   6022.0        0                       3   \n",
       "3      39.0      250.0          1   6022.0        0                       3   \n",
       "4      39.0      249.0          1   6022.0        0                       3   \n",
       "\n",
       "   ... start_date   code                                               name  \\\n",
       "0  ...       None  MN57F  Rochester Public Utilities - Commercial and In...   \n",
       "1  ...       None  VA32F  Columbia Gas of Virginia - Home Savings Rebate...   \n",
       "2  ...       None  VA32F  Columbia Gas of Virginia - Home Savings Rebate...   \n",
       "3  ...       None  VA32F  Columbia Gas of Virginia - Home Savings Rebate...   \n",
       "4  ...       None  VA32F  Columbia Gas of Virginia - Home Savings Rebate...   \n",
       "\n",
       "   longitude  program_type_id           created_ts  additional_technologies  \\\n",
       "0      -92.0               88  2006-08-09 00:00:00                     None   \n",
       "1      -78.0               88  2010-05-06 00:00:00                     None   \n",
       "2      -77.0               88  2010-05-06 00:00:00                     None   \n",
       "3      -77.0               88  2010-05-06 00:00:00                     None   \n",
       "4      -77.0               88  2010-05-06 00:00:00                     None   \n",
       "\n",
       "     id fundingsource               administrator  \n",
       "0  1946          None  Rochester Public Utilities  \n",
       "1  4127          None                        None  \n",
       "2  4127          None                        None  \n",
       "3  4127          None                        None  \n",
       "4  4127          None                        None  \n",
       "\n",
       "[5 rows x 28 columns]"
      ]
     },
     "execution_count": 35,
     "metadata": {},
     "output_type": "execute_result"
    }
   ],
   "source": [
    "check_list = tech_df.program_id.to_list()\n",
    "dsire_by_zip.head()"
   ]
  },
  {
   "cell_type": "code",
   "execution_count": 36,
   "metadata": {},
   "outputs": [
    {
     "data": {
      "text/plain": [
       "array([None, '2015-01-26 20:00:00', '2010-01-01 05:00:00',\n",
       "       '1997-01-26 21:59:32', '2012-10-01 04:00:00',\n",
       "       '1997-12-16 05:00:00', '2015-01-26 05:00:00',\n",
       "       '2007-01-01 00:00:00', '2010-08-12 04:00:00',\n",
       "       '2017-01-01 05:00:00', '2003-05-01 04:00:00',\n",
       "       '1999-01-26 05:00:00', '2004-10-01 00:00:00',\n",
       "       '2004-06-01 04:00:00', '2004-01-01 05:00:00',\n",
       "       '2015-01-26 20:05:00', '2015-09-05 00:00:00',\n",
       "       '2005-10-01 00:00:00', '2006-03-01 05:00:00',\n",
       "       '2005-12-01 00:00:00', '2006-01-01 05:00:00',\n",
       "       '2021-02-01 05:00:00', '2006-06-01 04:00:00',\n",
       "       '2006-07-01 04:00:00', '2007-01-01 05:00:00',\n",
       "       '2010-10-01 00:00:00', '2006-10-01 00:00:00',\n",
       "       '2008-01-25 05:00:00', '2007-09-01 04:00:00',\n",
       "       '2007-10-01 04:00:00', '2008-02-14 05:00:00',\n",
       "       '2013-05-29 04:00:00', '2008-01-09 00:00:00',\n",
       "       '2008-07-01 04:00:00', '2008-08-08 04:00:00',\n",
       "       '2011-01-01 00:00:00', '2008-12-15 00:00:00',\n",
       "       '2009-10-01 04:00:00', '2009-03-01 00:00:00',\n",
       "       '2009-01-01 00:00:00', '2009-03-01 05:00:00',\n",
       "       '2015-01-26 20:09:00', '2009-06-01 00:00:00',\n",
       "       '2009-07-06 00:00:00', '2010-07-01 04:00:00',\n",
       "       '2009-08-27 04:00:00', '2009-08-01 04:00:00',\n",
       "       '2009-07-01 04:00:00', '2009-09-23 00:00:00',\n",
       "       '2010-03-01 05:00:00', '2010-03-30 00:00:00',\n",
       "       '2010-06-15 00:00:00', '2012-01-01 05:00:00',\n",
       "       '2010-10-10 04:00:00', '2010-11-01 04:00:00',\n",
       "       '2010-06-01 04:00:00', '2011-03-15 00:00:00',\n",
       "       '2011-03-15 04:00:00', '2011-04-18 04:00:00',\n",
       "       '2009-09-01 04:00:00', '2011-07-01 04:00:00',\n",
       "       '2011-01-01 05:00:00', '2011-07-01 00:00:00',\n",
       "       '2011-07-13 04:00:00', '2012-01-17 05:00:00',\n",
       "       '2012-03-02 05:00:00', '2012-04-02 04:00:00',\n",
       "       '2012-10-01 00:00:00', '2012-05-01 04:00:00',\n",
       "       '2012-05-17 00:00:00', '2012-08-15 04:00:00',\n",
       "       '2013-01-08 05:00:00', '2013-02-01 05:00:00',\n",
       "       '2013-06-20 04:00:00', '2014-01-01 05:00:00',\n",
       "       '2015-01-01 05:00:00', '2006-08-10 00:00:00',\n",
       "       '2007-07-01 00:00:00', '2009-10-12 04:00:00',\n",
       "       '2010-04-19 00:00:00', '2009-05-05 04:00:00',\n",
       "       '2010-02-01 00:00:00', '2010-08-01 04:00:00',\n",
       "       '2007-12-11 05:00:00', '2008-08-05 04:00:00',\n",
       "       '2010-04-12 04:00:00', '2010-11-15 00:00:00',\n",
       "       '2005-12-01 05:00:00', '2011-04-04 04:00:00',\n",
       "       '2003-05-20 04:00:00', '2011-07-28 04:00:00',\n",
       "       '2011-06-21 00:00:00', '2012-01-18 05:00:00',\n",
       "       '2008-05-04 04:00:00', '1998-12-15 00:00:00',\n",
       "       '1976-01-01 05:00:00', '2005-02-28 05:00:00',\n",
       "       '2000-07-01 00:00:00', '1982-01-26 05:00:00',\n",
       "       '2004-09-24 04:00:00', '2000-05-09 04:00:00',\n",
       "       '2001-01-01 05:00:00', '2001-01-01 00:00:00',\n",
       "       '2005-01-01 00:00:00', '1995-01-01 05:00:00',\n",
       "       '1997-01-01 05:00:00', '2004-11-01 05:00:00',\n",
       "       '1979-01-26 05:00:00', '1975-01-26 05:00:00',\n",
       "       '2015-01-26 20:01:00', '1983-07-01 04:00:00',\n",
       "       '2007-07-01 04:00:00', '1978-01-01 05:00:00',\n",
       "       '1994-01-26 05:00:00', '1996-01-26 05:00:00',\n",
       "       '1987-09-28 00:00:00', '1989-01-26 05:00:00',\n",
       "       '1997-07-01 04:00:00', '2004-11-30 05:00:00',\n",
       "       '1983-01-01 05:00:00', '2005-01-19 05:00:00',\n",
       "       '2015-01-26 20:04:00', '2002-10-17 04:00:00',\n",
       "       '2004-12-30 00:00:00', '2004-09-01 04:00:00',\n",
       "       '2005-04-12 00:00:00', '1999-06-30 04:00:00',\n",
       "       '2002-01-01 05:00:00', '2006-08-31 04:00:00',\n",
       "       '2005-07-01 00:00:00', '1984-07-01 04:00:00',\n",
       "       '2008-01-01 05:00:00', '2003-10-01 00:00:00',\n",
       "       '2001-08-01 00:00:00', '2001-07-01 04:00:00',\n",
       "       '2003-01-01 05:00:00', '2015-01-26 20:02:00',\n",
       "       '2001-10-01 00:00:00', '2001-12-01 00:00:00',\n",
       "       '1986-01-26 05:00:00', '2002-07-01 04:00:00',\n",
       "       '1996-01-01 00:00:00', '2002-01-01 00:00:00',\n",
       "       '2003-07-01 00:00:00', '1996-07-01 00:00:00',\n",
       "       '2006-02-23 05:00:00', '2004-01-01 00:00:00',\n",
       "       '2015-02-04 00:00:00', '2004-07-01 00:00:00',\n",
       "       '2004-07-01 04:00:00', '2005-01-01 05:00:00',\n",
       "       '2005-11-24 05:00:00', '2004-06-29 04:00:00',\n",
       "       '2005-03-07 00:00:00', '2004-03-01 05:00:00',\n",
       "       '2005-06-15 04:00:00', '2005-06-15 00:00:00',\n",
       "       '2007-12-04 05:00:00', '2005-07-12 04:00:00',\n",
       "       '2005-07-15 04:00:00', '2009-01-01 05:00:00',\n",
       "       '2009-02-16 00:00:00', '2012-07-01 04:00:00',\n",
       "       '2005-07-21 00:00:00', '2006-05-12 04:00:00',\n",
       "       '2007-08-03 04:00:00', '2010-09-01 04:00:00',\n",
       "       '2007-04-04 04:00:00', '2006-07-14 04:00:00',\n",
       "       '2008-10-01 04:00:00', '2007-05-31 00:00:00',\n",
       "       '2005-05-25 04:00:00', '2008-04-01 04:00:00',\n",
       "       '2007-08-10 00:00:00', '2007-08-01 00:00:00',\n",
       "       '2007-05-25 00:00:00', '2006-08-08 00:00:00',\n",
       "       '2015-01-26 20:07:00', '2008-08-20 04:00:00',\n",
       "       '2008-07-01 00:00:00', '2009-05-23 04:00:00',\n",
       "       '2008-10-06 04:00:00', '2008-06-12 00:00:00',\n",
       "       '2015-01-26 20:08:00', '2006-01-01 00:00:00',\n",
       "       '2008-08-10 04:00:00', '2009-07-13 04:00:00',\n",
       "       '2006-07-12 04:00:00', '2009-02-17 05:00:00',\n",
       "       '2009-04-01 04:00:00', '2009-09-30 04:00:00',\n",
       "       '2009-07-01 00:00:00', '2009-05-12 04:00:00',\n",
       "       '2009-08-15 04:00:00', '2010-02-13 05:00:00',\n",
       "       '2009-10-16 04:00:00', '2009-05-28 04:00:00',\n",
       "       '2009-08-26 04:00:00', '2009-09-09 04:00:00',\n",
       "       '2009-05-22 00:00:00', '2009-11-06 05:00:00',\n",
       "       '2008-09-11 00:00:00', '2010-01-01 00:00:00',\n",
       "       '2010-03-22 00:00:00', '2010-03-24 04:00:00',\n",
       "       '2010-04-01 04:00:00', '2011-08-22 00:00:00',\n",
       "       '2010-12-31 05:00:00', '2010-06-01 00:00:00',\n",
       "       '2010-06-21 00:00:00', '2010-08-27 04:00:00',\n",
       "       '2015-01-26 20:10:00', '2010-09-30 00:00:00',\n",
       "       '2010-06-17 00:00:00', '2010-10-21 00:00:00',\n",
       "       '2010-10-12 04:00:00', '2011-05-23 04:00:00',\n",
       "       '2010-06-30 04:00:00', '2011-08-28 00:00:00',\n",
       "       '2011-09-01 04:00:00', '2012-06-01 00:00:00',\n",
       "       '2011-12-15 05:00:00', '2013-01-01 05:00:00',\n",
       "       '2013-10-07 04:00:00', '2012-07-25 04:00:00',\n",
       "       '2015-01-26 20:14:00', '2013-04-01 04:00:00',\n",
       "       '2014-04-01 04:00:00', '2013-07-01 04:00:00',\n",
       "       '2013-08-28 04:00:00', '2014-07-24 04:00:00',\n",
       "       '2013-12-19 05:00:00', '2014-12-01 05:00:00',\n",
       "       '2005-04-12 04:00:00', '2014-08-01 04:00:00',\n",
       "       '2008-06-01 04:00:00', '2015-01-22 05:00:00',\n",
       "       '2014-04-29 04:00:00', '2009-01-03 05:00:00',\n",
       "       '2015-07-01 04:00:00', '2015-05-04 04:00:00',\n",
       "       '2009-05-26 04:00:00', '2016-07-01 04:00:00',\n",
       "       '2015-09-02 04:00:00', '2002-03-01 05:00:00',\n",
       "       '2016-01-03 05:00:00', '2016-01-04 05:00:00',\n",
       "       '2016-01-21 05:00:00', '2016-06-27 04:00:00',\n",
       "       '2016-08-01 04:00:00', '2016-11-02 04:00:00',\n",
       "       '2016-11-30 05:00:00', '2016-11-06 04:00:00',\n",
       "       '2018-01-01 05:00:00', '2019-07-01 04:00:00',\n",
       "       '2018-11-26 05:00:00', '2020-04-01 04:00:00'], dtype=object)"
      ]
     },
     "execution_count": 36,
     "metadata": {},
     "output_type": "execute_result"
    }
   ],
   "source": [
    "dsire_PV = dsire_by_zip[dsire_by_zip.id.isin(check_list)]\n",
    "dsire_PV.start_date.unique()"
   ]
  },
  {
   "cell_type": "code",
   "execution_count": 37,
   "metadata": {},
   "outputs": [
    {
     "name": "stderr",
     "output_type": "stream",
     "text": [
      "<ipython-input-37-dca77c2a7bf5>:1: SettingWithCopyWarning: \n",
      "A value is trying to be set on a copy of a slice from a DataFrame.\n",
      "Try using .loc[row_indexer,col_indexer] = value instead\n",
      "\n",
      "See the caveats in the documentation: https://pandas.pydata.org/pandas-docs/stable/user_guide/indexing.html#returning-a-view-versus-a-copy\n",
      "  dsire_PV['start_date'] = dsire_PV.start_date.fillna(dsire_PV.created_ts)\n",
      "<ipython-input-37-dca77c2a7bf5>:2: SettingWithCopyWarning: \n",
      "A value is trying to be set on a copy of a slice from a DataFrame.\n",
      "Try using .loc[row_indexer,col_indexer] = value instead\n",
      "\n",
      "See the caveats in the documentation: https://pandas.pydata.org/pandas-docs/stable/user_guide/indexing.html#returning-a-view-versus-a-copy\n",
      "  dsire_PV['end_date'] = dsire_PV.end_date.fillna(datetime.strptime(cfg[\"max_date\"], \"%d-%b-%Y (%H:%M:%S.%f)\"))\n"
     ]
    },
    {
     "data": {
      "text/html": [
       "<div>\n",
       "<style scoped>\n",
       "    .dataframe tbody tr th:only-of-type {\n",
       "        vertical-align: middle;\n",
       "    }\n",
       "\n",
       "    .dataframe tbody tr th {\n",
       "        vertical-align: top;\n",
       "    }\n",
       "\n",
       "    .dataframe thead th {\n",
       "        text-align: right;\n",
       "    }\n",
       "</style>\n",
       "<table border=\"1\" class=\"dataframe\">\n",
       "  <thead>\n",
       "    <tr style=\"text-align: right;\">\n",
       "      <th></th>\n",
       "      <th>index</th>\n",
       "      <th>updated_ts</th>\n",
       "      <th>created_by_user_id</th>\n",
       "      <th>start_date_text</th>\n",
       "      <th>state_id</th>\n",
       "      <th>latitude</th>\n",
       "      <th>county_id</th>\n",
       "      <th>published</th>\n",
       "      <th>city_id</th>\n",
       "      <th>fromSir</th>\n",
       "      <th>...</th>\n",
       "      <th>start_date</th>\n",
       "      <th>code</th>\n",
       "      <th>name</th>\n",
       "      <th>longitude</th>\n",
       "      <th>program_type_id</th>\n",
       "      <th>created_ts</th>\n",
       "      <th>additional_technologies</th>\n",
       "      <th>id</th>\n",
       "      <th>fundingsource</th>\n",
       "      <th>administrator</th>\n",
       "    </tr>\n",
       "  </thead>\n",
       "  <tbody>\n",
       "    <tr>\n",
       "      <th>0</th>\n",
       "      <td>0</td>\n",
       "      <td>2004-11-22 00:00:00</td>\n",
       "      <td>534</td>\n",
       "      <td>None</td>\n",
       "      <td>7</td>\n",
       "      <td>40.0</td>\n",
       "      <td>2814.0</td>\n",
       "      <td>0</td>\n",
       "      <td>25521.0</td>\n",
       "      <td>0</td>\n",
       "      <td>...</td>\n",
       "      <td>2003-09-05 00:00:00</td>\n",
       "      <td>CO20R</td>\n",
       "      <td>Xcel Energy - Net Metering</td>\n",
       "      <td>-105.0</td>\n",
       "      <td>37</td>\n",
       "      <td>2003-09-05 00:00:00</td>\n",
       "      <td>None</td>\n",
       "      <td>9</td>\n",
       "      <td>None</td>\n",
       "      <td>None</td>\n",
       "    </tr>\n",
       "    <tr>\n",
       "      <th>1</th>\n",
       "      <td>1</td>\n",
       "      <td>2004-11-22 00:00:00</td>\n",
       "      <td>534</td>\n",
       "      <td>None</td>\n",
       "      <td>7</td>\n",
       "      <td>40.0</td>\n",
       "      <td>2814.0</td>\n",
       "      <td>0</td>\n",
       "      <td>25521.0</td>\n",
       "      <td>0</td>\n",
       "      <td>...</td>\n",
       "      <td>2003-09-05 00:00:00</td>\n",
       "      <td>CO20R</td>\n",
       "      <td>Xcel Energy - Net Metering</td>\n",
       "      <td>-105.0</td>\n",
       "      <td>37</td>\n",
       "      <td>2003-09-05 00:00:00</td>\n",
       "      <td>None</td>\n",
       "      <td>9</td>\n",
       "      <td>None</td>\n",
       "      <td>None</td>\n",
       "    </tr>\n",
       "    <tr>\n",
       "      <th>2</th>\n",
       "      <td>2</td>\n",
       "      <td>2004-11-22 00:00:00</td>\n",
       "      <td>534</td>\n",
       "      <td>None</td>\n",
       "      <td>7</td>\n",
       "      <td>40.0</td>\n",
       "      <td>2814.0</td>\n",
       "      <td>0</td>\n",
       "      <td>25521.0</td>\n",
       "      <td>0</td>\n",
       "      <td>...</td>\n",
       "      <td>2003-09-05 00:00:00</td>\n",
       "      <td>CO20R</td>\n",
       "      <td>Xcel Energy - Net Metering</td>\n",
       "      <td>-105.0</td>\n",
       "      <td>37</td>\n",
       "      <td>2003-09-05 00:00:00</td>\n",
       "      <td>None</td>\n",
       "      <td>9</td>\n",
       "      <td>None</td>\n",
       "      <td>None</td>\n",
       "    </tr>\n",
       "    <tr>\n",
       "      <th>3</th>\n",
       "      <td>3</td>\n",
       "      <td>2004-11-22 00:00:00</td>\n",
       "      <td>534</td>\n",
       "      <td>None</td>\n",
       "      <td>7</td>\n",
       "      <td>40.0</td>\n",
       "      <td>2814.0</td>\n",
       "      <td>0</td>\n",
       "      <td>25521.0</td>\n",
       "      <td>0</td>\n",
       "      <td>...</td>\n",
       "      <td>2003-09-05 00:00:00</td>\n",
       "      <td>CO20R</td>\n",
       "      <td>Xcel Energy - Net Metering</td>\n",
       "      <td>-105.0</td>\n",
       "      <td>37</td>\n",
       "      <td>2003-09-05 00:00:00</td>\n",
       "      <td>None</td>\n",
       "      <td>9</td>\n",
       "      <td>None</td>\n",
       "      <td>None</td>\n",
       "    </tr>\n",
       "    <tr>\n",
       "      <th>4</th>\n",
       "      <td>4</td>\n",
       "      <td>2004-11-22 00:00:00</td>\n",
       "      <td>534</td>\n",
       "      <td>None</td>\n",
       "      <td>7</td>\n",
       "      <td>40.0</td>\n",
       "      <td>2814.0</td>\n",
       "      <td>0</td>\n",
       "      <td>25521.0</td>\n",
       "      <td>0</td>\n",
       "      <td>...</td>\n",
       "      <td>2003-09-05 00:00:00</td>\n",
       "      <td>CO20R</td>\n",
       "      <td>Xcel Energy - Net Metering</td>\n",
       "      <td>-105.0</td>\n",
       "      <td>37</td>\n",
       "      <td>2003-09-05 00:00:00</td>\n",
       "      <td>None</td>\n",
       "      <td>9</td>\n",
       "      <td>None</td>\n",
       "      <td>None</td>\n",
       "    </tr>\n",
       "  </tbody>\n",
       "</table>\n",
       "<p>5 rows × 29 columns</p>\n",
       "</div>"
      ],
      "text/plain": [
       "   index           updated_ts  created_by_user_id start_date_text  state_id  \\\n",
       "0      0  2004-11-22 00:00:00                 534            None         7   \n",
       "1      1  2004-11-22 00:00:00                 534            None         7   \n",
       "2      2  2004-11-22 00:00:00                 534            None         7   \n",
       "3      3  2004-11-22 00:00:00                 534            None         7   \n",
       "4      4  2004-11-22 00:00:00                 534            None         7   \n",
       "\n",
       "   latitude  county_id  published  city_id  fromSir  ...           start_date  \\\n",
       "0      40.0     2814.0          0  25521.0        0  ...  2003-09-05 00:00:00   \n",
       "1      40.0     2814.0          0  25521.0        0  ...  2003-09-05 00:00:00   \n",
       "2      40.0     2814.0          0  25521.0        0  ...  2003-09-05 00:00:00   \n",
       "3      40.0     2814.0          0  25521.0        0  ...  2003-09-05 00:00:00   \n",
       "4      40.0     2814.0          0  25521.0        0  ...  2003-09-05 00:00:00   \n",
       "\n",
       "    code                        name longitude  program_type_id  \\\n",
       "0  CO20R  Xcel Energy - Net Metering    -105.0               37   \n",
       "1  CO20R  Xcel Energy - Net Metering    -105.0               37   \n",
       "2  CO20R  Xcel Energy - Net Metering    -105.0               37   \n",
       "3  CO20R  Xcel Energy - Net Metering    -105.0               37   \n",
       "4  CO20R  Xcel Energy - Net Metering    -105.0               37   \n",
       "\n",
       "            created_ts additional_technologies id fundingsource administrator  \n",
       "0  2003-09-05 00:00:00                    None  9          None          None  \n",
       "1  2003-09-05 00:00:00                    None  9          None          None  \n",
       "2  2003-09-05 00:00:00                    None  9          None          None  \n",
       "3  2003-09-05 00:00:00                    None  9          None          None  \n",
       "4  2003-09-05 00:00:00                    None  9          None          None  \n",
       "\n",
       "[5 rows x 29 columns]"
      ]
     },
     "execution_count": 37,
     "metadata": {},
     "output_type": "execute_result"
    }
   ],
   "source": [
    "dsire_PV['start_date'] = dsire_PV.start_date.fillna(dsire_PV.created_ts)\n",
    "dsire_PV['end_date'] = dsire_PV.end_date.fillna(datetime.strptime(cfg[\"max_date\"], \"%d-%b-%Y (%H:%M:%S.%f)\"))\n",
    "diff_df = dsire_PV.dropna(subset = ['start_date', 'zipcode']).reset_index()\n",
    "diff_df['zipcode'] = diff_df.zipcode.apply(lambda n: str(int(n)).zfill(5))\n",
    "diff_df.head()"
   ]
  },
  {
   "cell_type": "code",
   "execution_count": 39,
   "metadata": {},
   "outputs": [],
   "source": [
    "# import json\n",
    "# with open(\"../plotly_zips.geojson\") as f:\n",
    "#     zips = json.load(f)"
   ]
  },
  {
   "cell_type": "code",
   "execution_count": null,
   "metadata": {},
   "outputs": [],
   "source": [
    "# import pandas as pd\n",
    "# import plotly\n",
    "# import plotly.graph_objs as go\n",
    "# import plotly.offline as offline\n",
    "# from plotly.graph_objs import *\n",
    "# from plotly.offline import download_plotlyjs, init_notebook_mode, plot, iplot\n",
    "\n",
    "# init_notebook_mode(connected=True)"
   ]
  },
  {
   "cell_type": "markdown",
   "metadata": {},
   "source": [
    "### Create chloropleth of policy types over time\n",
    "\n",
    "Need to have Month and year ranging from first date to last for every zip code\n",
    "This will need to tally the number of programs within the zip code existing during that month\n",
    "Use start date - add 1 to that month and each month after (for policy count)\n",
    "Use end date - subtract 1 from that month and each month after (for policy count)\n",
    "\n",
    "If tracking other metrics, use different logic to aggregate, but accumulate per same logic pertaining to month"
   ]
  },
  {
   "cell_type": "code",
   "execution_count": null,
   "metadata": {},
   "outputs": [],
   "source": []
  },
  {
   "cell_type": "code",
   "execution_count": null,
   "metadata": {},
   "outputs": [],
   "source": [
    "# all_zips = [i['id'] for i in zips['features']]"
   ]
  },
  {
   "cell_type": "code",
   "execution_count": null,
   "metadata": {},
   "outputs": [],
   "source": [
    "# with open('../data/uszips.txt', 'w') as filehandle:\n",
    "#     filehandle.writelines(\"%s\\n\" % place for place in all_zips)"
   ]
  },
  {
   "cell_type": "code",
   "execution_count": 40,
   "metadata": {},
   "outputs": [
    {
     "data": {
      "text/plain": [
       "Index(['index', 'updated_ts', 'created_by_user_id', 'start_date_text',\n",
       "       'state_id', 'latitude', 'county_id', 'published', 'city_id', 'fromSir',\n",
       "       'implementing_sector_id', 'summary', 'websiteurl', 'budget',\n",
       "       'program_category_id', 'is_entire_state', 'end_date', 'zipcode',\n",
       "       'end_date_text', 'start_date', 'code', 'name', 'longitude',\n",
       "       'program_type_id', 'created_ts', 'additional_technologies', 'id',\n",
       "       'fundingsource', 'administrator'],\n",
       "      dtype='object')"
      ]
     },
     "execution_count": 40,
     "metadata": {},
     "output_type": "execute_result"
    }
   ],
   "source": [
    "diff_df.columns"
   ]
  },
  {
   "cell_type": "code",
   "execution_count": 41,
   "metadata": {},
   "outputs": [
    {
     "name": "stderr",
     "output_type": "stream",
     "text": [
      "<ipython-input-41-f75d12fb4149>:2: SettingWithCopyWarning: \n",
      "A value is trying to be set on a copy of a slice from a DataFrame.\n",
      "Try using .loc[row_indexer,col_indexer] = value instead\n",
      "\n",
      "See the caveats in the documentation: https://pandas.pydata.org/pandas-docs/stable/user_guide/indexing.html#returning-a-view-versus-a-copy\n",
      "  program_map_df['s_d'] = pd.to_datetime(program_map_df.start_date).apply(lambda d: d - datetime.strptime(cfg[\"min_date\"], \"%d-%b-%Y (%H:%M:%S.%f)\"))\n",
      "<ipython-input-41-f75d12fb4149>:3: SettingWithCopyWarning: \n",
      "A value is trying to be set on a copy of a slice from a DataFrame.\n",
      "Try using .loc[row_indexer,col_indexer] = value instead\n",
      "\n",
      "See the caveats in the documentation: https://pandas.pydata.org/pandas-docs/stable/user_guide/indexing.html#returning-a-view-versus-a-copy\n",
      "  program_map_df['e_d'] = pd.to_datetime(program_map_df.end_date).apply(lambda d: d - datetime.strptime(cfg[\"min_date\"], \"%d-%b-%Y (%H:%M:%S.%f)\"))\n"
     ]
    },
    {
     "data": {
      "text/html": [
       "<div>\n",
       "<style scoped>\n",
       "    .dataframe tbody tr th:only-of-type {\n",
       "        vertical-align: middle;\n",
       "    }\n",
       "\n",
       "    .dataframe tbody tr th {\n",
       "        vertical-align: top;\n",
       "    }\n",
       "\n",
       "    .dataframe thead th {\n",
       "        text-align: right;\n",
       "    }\n",
       "</style>\n",
       "<table border=\"1\" class=\"dataframe\">\n",
       "  <thead>\n",
       "    <tr style=\"text-align: right;\">\n",
       "      <th></th>\n",
       "      <th>program_type_id</th>\n",
       "      <th>zipcode</th>\n",
       "      <th>start_date</th>\n",
       "      <th>end_date</th>\n",
       "      <th>s_d</th>\n",
       "      <th>e_d</th>\n",
       "    </tr>\n",
       "  </thead>\n",
       "  <tbody>\n",
       "    <tr>\n",
       "      <th>0</th>\n",
       "      <td>37</td>\n",
       "      <td>80002</td>\n",
       "      <td>2003-09-05 00:00:00</td>\n",
       "      <td>2019-12-31 00:00:00</td>\n",
       "      <td>2044 days</td>\n",
       "      <td>8005 days</td>\n",
       "    </tr>\n",
       "    <tr>\n",
       "      <th>1</th>\n",
       "      <td>37</td>\n",
       "      <td>80003</td>\n",
       "      <td>2003-09-05 00:00:00</td>\n",
       "      <td>2019-12-31 00:00:00</td>\n",
       "      <td>2044 days</td>\n",
       "      <td>8005 days</td>\n",
       "    </tr>\n",
       "    <tr>\n",
       "      <th>2</th>\n",
       "      <td>37</td>\n",
       "      <td>80004</td>\n",
       "      <td>2003-09-05 00:00:00</td>\n",
       "      <td>2019-12-31 00:00:00</td>\n",
       "      <td>2044 days</td>\n",
       "      <td>8005 days</td>\n",
       "    </tr>\n",
       "    <tr>\n",
       "      <th>3</th>\n",
       "      <td>37</td>\n",
       "      <td>80005</td>\n",
       "      <td>2003-09-05 00:00:00</td>\n",
       "      <td>2019-12-31 00:00:00</td>\n",
       "      <td>2044 days</td>\n",
       "      <td>8005 days</td>\n",
       "    </tr>\n",
       "    <tr>\n",
       "      <th>4</th>\n",
       "      <td>37</td>\n",
       "      <td>80007</td>\n",
       "      <td>2003-09-05 00:00:00</td>\n",
       "      <td>2019-12-31 00:00:00</td>\n",
       "      <td>2044 days</td>\n",
       "      <td>8005 days</td>\n",
       "    </tr>\n",
       "  </tbody>\n",
       "</table>\n",
       "</div>"
      ],
      "text/plain": [
       "   program_type_id zipcode           start_date             end_date  \\\n",
       "0               37   80002  2003-09-05 00:00:00  2019-12-31 00:00:00   \n",
       "1               37   80003  2003-09-05 00:00:00  2019-12-31 00:00:00   \n",
       "2               37   80004  2003-09-05 00:00:00  2019-12-31 00:00:00   \n",
       "3               37   80005  2003-09-05 00:00:00  2019-12-31 00:00:00   \n",
       "4               37   80007  2003-09-05 00:00:00  2019-12-31 00:00:00   \n",
       "\n",
       "        s_d       e_d  \n",
       "0 2044 days 8005 days  \n",
       "1 2044 days 8005 days  \n",
       "2 2044 days 8005 days  \n",
       "3 2044 days 8005 days  \n",
       "4 2044 days 8005 days  "
      ]
     },
     "execution_count": 41,
     "metadata": {},
     "output_type": "execute_result"
    }
   ],
   "source": [
    "program_map_df = diff_df[['program_type_id','zipcode','start_date','end_date']]\n",
    "program_map_df['s_d'] = pd.to_datetime(program_map_df.start_date).apply(lambda d: d - datetime.strptime(cfg[\"min_date\"], \"%d-%b-%Y (%H:%M:%S.%f)\"))\n",
    "program_map_df['e_d'] = pd.to_datetime(program_map_df.end_date).apply(lambda d: d - datetime.strptime(cfg[\"min_date\"], \"%d-%b-%Y (%H:%M:%S.%f)\"))\n",
    "\n",
    "program_map_df.head()"
   ]
  },
  {
   "cell_type": "code",
   "execution_count": 43,
   "metadata": {},
   "outputs": [
    {
     "name": "stderr",
     "output_type": "stream",
     "text": [
      "<ipython-input-43-39fae3f67d15>:1: SettingWithCopyWarning: \n",
      "A value is trying to be set on a copy of a slice from a DataFrame.\n",
      "Try using .loc[row_indexer,col_indexer] = value instead\n",
      "\n",
      "See the caveats in the documentation: https://pandas.pydata.org/pandas-docs/stable/user_guide/indexing.html#returning-a-view-versus-a-copy\n",
      "  program_map_df[\"s_d\"] = program_map_df.s_d.dt.days\n",
      "<ipython-input-43-39fae3f67d15>:2: SettingWithCopyWarning: \n",
      "A value is trying to be set on a copy of a slice from a DataFrame.\n",
      "Try using .loc[row_indexer,col_indexer] = value instead\n",
      "\n",
      "See the caveats in the documentation: https://pandas.pydata.org/pandas-docs/stable/user_guide/indexing.html#returning-a-view-versus-a-copy\n",
      "  program_map_df[\"e_d\"] = program_map_df.e_d.dt.days\n"
     ]
    },
    {
     "data": {
      "text/html": [
       "<div>\n",
       "<style scoped>\n",
       "    .dataframe tbody tr th:only-of-type {\n",
       "        vertical-align: middle;\n",
       "    }\n",
       "\n",
       "    .dataframe tbody tr th {\n",
       "        vertical-align: top;\n",
       "    }\n",
       "\n",
       "    .dataframe thead th {\n",
       "        text-align: right;\n",
       "    }\n",
       "</style>\n",
       "<table border=\"1\" class=\"dataframe\">\n",
       "  <thead>\n",
       "    <tr style=\"text-align: right;\">\n",
       "      <th></th>\n",
       "      <th>program_type_id</th>\n",
       "      <th>zipcode</th>\n",
       "      <th>start_date</th>\n",
       "      <th>end_date</th>\n",
       "      <th>s_d</th>\n",
       "      <th>e_d</th>\n",
       "    </tr>\n",
       "  </thead>\n",
       "  <tbody>\n",
       "    <tr>\n",
       "      <th>0</th>\n",
       "      <td>37</td>\n",
       "      <td>80002</td>\n",
       "      <td>2003-09-05 00:00:00</td>\n",
       "      <td>2019-12-31 00:00:00</td>\n",
       "      <td>2044</td>\n",
       "      <td>8005</td>\n",
       "    </tr>\n",
       "    <tr>\n",
       "      <th>1</th>\n",
       "      <td>37</td>\n",
       "      <td>80003</td>\n",
       "      <td>2003-09-05 00:00:00</td>\n",
       "      <td>2019-12-31 00:00:00</td>\n",
       "      <td>2044</td>\n",
       "      <td>8005</td>\n",
       "    </tr>\n",
       "    <tr>\n",
       "      <th>2</th>\n",
       "      <td>37</td>\n",
       "      <td>80004</td>\n",
       "      <td>2003-09-05 00:00:00</td>\n",
       "      <td>2019-12-31 00:00:00</td>\n",
       "      <td>2044</td>\n",
       "      <td>8005</td>\n",
       "    </tr>\n",
       "    <tr>\n",
       "      <th>3</th>\n",
       "      <td>37</td>\n",
       "      <td>80005</td>\n",
       "      <td>2003-09-05 00:00:00</td>\n",
       "      <td>2019-12-31 00:00:00</td>\n",
       "      <td>2044</td>\n",
       "      <td>8005</td>\n",
       "    </tr>\n",
       "    <tr>\n",
       "      <th>4</th>\n",
       "      <td>37</td>\n",
       "      <td>80007</td>\n",
       "      <td>2003-09-05 00:00:00</td>\n",
       "      <td>2019-12-31 00:00:00</td>\n",
       "      <td>2044</td>\n",
       "      <td>8005</td>\n",
       "    </tr>\n",
       "  </tbody>\n",
       "</table>\n",
       "</div>"
      ],
      "text/plain": [
       "   program_type_id zipcode           start_date             end_date   s_d  \\\n",
       "0               37   80002  2003-09-05 00:00:00  2019-12-31 00:00:00  2044   \n",
       "1               37   80003  2003-09-05 00:00:00  2019-12-31 00:00:00  2044   \n",
       "2               37   80004  2003-09-05 00:00:00  2019-12-31 00:00:00  2044   \n",
       "3               37   80005  2003-09-05 00:00:00  2019-12-31 00:00:00  2044   \n",
       "4               37   80007  2003-09-05 00:00:00  2019-12-31 00:00:00  2044   \n",
       "\n",
       "    e_d  \n",
       "0  8005  \n",
       "1  8005  \n",
       "2  8005  \n",
       "3  8005  \n",
       "4  8005  "
      ]
     },
     "execution_count": 43,
     "metadata": {},
     "output_type": "execute_result"
    }
   ],
   "source": [
    "program_map_df[\"s_d\"] = program_map_df.s_d.dt.days\n",
    "program_map_df[\"e_d\"] = program_map_df.e_d.dt.days\n",
    "program_map_df.head()"
   ]
  },
  {
   "cell_type": "code",
   "execution_count": 49,
   "metadata": {},
   "outputs": [
    {
     "data": {
      "text/plain": [
       "program_type_id     int64\n",
       "zipcode            object\n",
       "start_date         object\n",
       "end_date           object\n",
       "s_d                 int64\n",
       "e_d                 int64\n",
       "dtype: object"
      ]
     },
     "execution_count": 49,
     "metadata": {},
     "output_type": "execute_result"
    }
   ],
   "source": [
    "program_map_df.dtypes"
   ]
  },
  {
   "cell_type": "code",
   "execution_count": 54,
   "metadata": {},
   "outputs": [
    {
     "data": {
      "text/plain": [
       "[[2044, 8005], [2512, 8005]]"
      ]
     },
     "execution_count": 54,
     "metadata": {},
     "output_type": "execute_result"
    }
   ],
   "source": [
    "def keys_exists(element, *keys):\n",
    "    '''\n",
    "    Check if *keys (nested) exists in `element` (dict).\n",
    "    '''\n",
    "    if not isinstance(element, dict):\n",
    "        raise AttributeError('keys_exists() expects dict as first argument.')\n",
    "    if len(keys) == 0:\n",
    "        raise AttributeError('keys_exists() expects at least two arguments, one given.')\n",
    "\n",
    "    _element = element\n",
    "    for key in keys:\n",
    "        try:\n",
    "            _element = _element[key]\n",
    "        except KeyError:\n",
    "            return False\n",
    "    return True\n",
    "\n",
    "\n",
    "\n",
    "from collections import defaultdict\n",
    "program_map = defaultdict(dict)\n",
    "\n",
    "# for p_id in program_map_df.program_type_id.unique():\n",
    "#     \"\"\"df = program_map_df[program_map_df.program_type_id == p_id]\n",
    "#     z_d = {}\n",
    "#     for z in df.zipcode.unique():\n",
    "#         df_2 = df[df.zipcode == z]\n",
    "#         z_d[z] = tuple(zip())\n",
    "#     ls = list(zip(df.s_d,df.e_d))\"\"\"\n",
    "    \n",
    "for a, b, c, d in zip(program_map_df.program_type_id,program_map_df.zipcode,program_map_df.s_d,program_map_df.e_d):\n",
    "    \n",
    "    if keys_exists(program_map, a, b):\n",
    "        program_map[a][b].append([c,d])\n",
    "    else:\n",
    "        program_map[a][b] = [[c,d]]\n",
    "    \n",
    "    \n",
    "program_map[37]['80002']"
   ]
  },
  {
   "cell_type": "code",
   "execution_count": 55,
   "metadata": {
    "collapsed": true
   },
   "outputs": [],
   "source": [
    "import pickle\n",
    "\n",
    "with open('../data/program_zip_dates.p', 'wb') as fp:\n",
    "    pickle.dump(program_map, fp, protocol=pickle.HIGHEST_PROTOCOL)"
   ]
  },
  {
   "cell_type": "code",
   "execution_count": null,
   "metadata": {},
   "outputs": [],
   "source": [
    "data_zips = []\n",
    "\n",
    "# open file and read the content in a list\n",
    "with open('../data/datazips.txt', 'r') as filehandle:\n",
    "    filecontents = filehandle.readlines()\n",
    "\n",
    "    for line in filecontents:\n",
    "        # remove linebreak which is the last character of the string\n",
    "        current_place = line[:-1]\n",
    "\n",
    "        # add item to the list\n",
    "        data_zips.append(current_place)\n",
    "        \n",
    "data_zips = sorted(data_zips)"
   ]
  },
  {
   "cell_type": "code",
   "execution_count": null,
   "metadata": {},
   "outputs": [],
   "source": [
    "diff_df['install_month'] = pd.to_datetime(diff_df.start_date).dt.strftime('%Y-%m')\n",
    "from pandas.tseries.offsets import MonthEnd\n",
    "diff_df['install_month'] = pd.to_datetime(diff_df['install_month']) + MonthEnd(1)\n",
    "\n",
    "\n",
    "diff_df['end_month'] = pd.to_datetime(diff_df.end_date).dt.strftime('%Y-%m')\n",
    "diff_df['end_month'] = pd.to_datetime(diff_df['end_month']) + MonthEnd(1)\n",
    "\n",
    "diff_df.head()"
   ]
  },
  {
   "cell_type": "code",
   "execution_count": null,
   "metadata": {},
   "outputs": [],
   "source": [
    "program_types = diff_df.program_type_id.unique()"
   ]
  },
  {
   "cell_type": "code",
   "execution_count": null,
   "metadata": {},
   "outputs": [],
   "source": [
    "program_dict = {}\n",
    "for p_id in program_types:\n",
    "    df = diff_df[diff_df.program_type_id == p_id]\n",
    "    ls = df.sta\n",
    "    \n",
    "    program_dict[p_id] = dict(zip(df.zipcode,df.start_date))\n",
    "    \n",
    "import pickle\n",
    "\n",
    "with open('../data/program_dates.p', 'wb') as fp:\n",
    "    pickle.dump(program_dict, fp, protocol=pickle.HIGHEST_PROTOCOL)"
   ]
  },
  {
   "cell_type": "code",
   "execution_count": null,
   "metadata": {},
   "outputs": [],
   "source": [
    "\n",
    "# policy_dict = {}\n",
    "# for zc in diff_df.zipcode.unique():\n",
    "#     df = diff_df[diff_df.zipcode == zc]\n",
    "#     for p_id in df.program_type_id.unique():\n",
    "#         sub = df[df.program_type_id == p_id]\n",
    "#         policy_dict[zc] = {p_id: (list(sub.start_date)[0], list(sub.end_date)[0])}\n",
    "        \n"
   ]
  },
  {
   "cell_type": "code",
   "execution_count": null,
   "metadata": {},
   "outputs": [],
   "source": [
    "#min_yr = diff_df.install_month.min().year\n",
    "#min_mo = diff_df.install_month.min().month\n",
    "min_yr = pd.to_datetime('1998-04-30 00:00:00').year\n",
    "min_mo = pd.to_datetime('1998-04-30 00:00:00').month\n",
    "\n",
    "diff_df['num_months'] = diff_df.install_month.apply(\n",
    "    lambda d: (d.year - min_yr) * 12 + (d.month - min_mo)\n",
    ")\n",
    "\n",
    "diff_df['num_end_months'] = diff_df.end_month.apply(\n",
    "    lambda d: (d.year - min_yr) * 12 + (d.month - min_mo)\n",
    ")\n",
    "\n",
    "diff_df_mo = diff_df[diff_df.num_months > 0]"
   ]
  },
  {
   "cell_type": "code",
   "execution_count": null,
   "metadata": {},
   "outputs": [],
   "source": [
    "#attempt to re-run above as dict comprehension to save time\n",
    "diff_df_mo['s_e'] = diff_df_mo.apply(lambda x: (x.num_months, x.num_end_months), axis=1)\n",
    "date_df = diff_df_mo.groupby(['zipcode','program_type_id']).s_e.apply(list).reset_index()\n",
    "\n",
    "date_df.head()"
   ]
  },
  {
   "cell_type": "code",
   "execution_count": null,
   "metadata": {},
   "outputs": [],
   "source": [
    "policy_dict = {}\n",
    "for zc in date_df.zipcode.unique():\n",
    "    df = date_df[date_df.zipcode == zc]\n",
    "    policy_dict[zc] = dict(zip(df.program_type_id, df.s_e))"
   ]
  },
  {
   "cell_type": "code",
   "execution_count": null,
   "metadata": {},
   "outputs": [],
   "source": [
    "policy_dict['91708']"
   ]
  },
  {
   "cell_type": "code",
   "execution_count": null,
   "metadata": {},
   "outputs": [],
   "source": [
    "diff_df_mo[(diff_df_mo.zipcode == '78241') & (diff_df_mo.program_type_id == 37)]"
   ]
  },
  {
   "cell_type": "code",
   "execution_count": null,
   "metadata": {},
   "outputs": [],
   "source": [
    "nm_df = date_df[date_df.program_type_id == 37]\n",
    "\n",
    "nm_df['earliest_instance'] = nm_df.s_e.apply(lambda s: min([x[0] for x in s]))\n",
    "\n",
    "nm_df.sort_values(by = 'earliest_instance', ascending = False)"
   ]
  },
  {
   "cell_type": "code",
   "execution_count": null,
   "metadata": {},
   "outputs": [],
   "source": [
    "nm_df['earliest_instance'] = nm_df['earliest_instance'].astype(float)"
   ]
  },
  {
   "cell_type": "code",
   "execution_count": null,
   "metadata": {},
   "outputs": [],
   "source": [
    "nm_df['zipcode'] = nm_df['zipcode'].astype('string')\n",
    "nm_df.head()"
   ]
  },
  {
   "cell_type": "code",
   "execution_count": null,
   "metadata": {},
   "outputs": [],
   "source": [
    "earliest_dict = {}\n",
    "for p_id in program_types:\n",
    "    p_df = date_df[date_df.program_type_id == p_id]\n",
    "    p_df['earliest_instance'] = p_df.s_e.apply(lambda s: min([x[0] for x in s]))\n",
    "    p_df['earliest_instance'] = p_df['earliest_instance'].astype(float)\n",
    "    p_df['zipcode'] = p_df['zipcode'].astype('string')\n",
    "    \n",
    "    earliest_dict[p_id] = dict(zip(p_df.zipcode,p_df.earliest_instance))\n",
    "    \n",
    "import pickle\n",
    "\n",
    "with open('../data/earliest_dates.p', 'wb') as fp:\n",
    "    pickle.dump(earliest_dict, fp, protocol=pickle.HIGHEST_PROTOCOL)"
   ]
  },
  {
   "cell_type": "code",
   "execution_count": null,
   "metadata": {},
   "outputs": [],
   "source": [
    "import json\n",
    "import plotly.express as px\n",
    "\n",
    "\n",
    "with open(\"../plotly_zips.geojson\") as f:\n",
    "    zips = json.load(f)\n",
    "\n",
    "fig = px.choropleth_mapbox(nm_df, geojson=zips, locations='zipcode', color='earliest_instance',\n",
    "                           color_continuous_scale=\"Viridis\",\n",
    "                           mapbox_style=\"carto-positron\",\n",
    "                           zoom=3, center = {\"lat\": 37.0902, \"lon\": -95.7129},\n",
    "                           opacity=0.5\n",
    "                          )\n",
    "\n",
    "\n",
    "fig.update_layout(margin={\"r\":0,\"t\":0,\"l\":0,\"b\":0})\n",
    "fig.show()"
   ]
  },
  {
   "cell_type": "code",
   "execution_count": null,
   "metadata": {},
   "outputs": [],
   "source": [
    "zips"
   ]
  },
  {
   "cell_type": "code",
   "execution_count": null,
   "metadata": {},
   "outputs": [],
   "source": [
    "diff_df_mo.to_pickle(\"../data/diff_df_mo.pkl\")"
   ]
  },
  {
   "cell_type": "code",
   "execution_count": null,
   "metadata": {},
   "outputs": [],
   "source": [
    "#split out db creation into new notebook\n",
    "\n",
    "\n",
    "#create dependencies for database\n",
    "#filter out territories and zips w/out install data\n",
    "\n",
    "\n",
    "#output new db with similarity connections for zip codes\n",
    "#for a given policy and zip code, include dates from prior policy implementation until next implementation\n",
    "## may need to filter out certain policy types\n",
    "\n",
    "#is it worthwhile to create a regression including policy columns?\n",
    "\n",
    "#establish zip codes of interest in cfg file\n",
    "#94025 - look at policy implementations prior to 2009\n",
    "\n",
    "#identify most similar by state\n",
    "\n",
    "import os\n",
    "os.chdir(\"../../solar-697/ru\")\n",
    "cwd = os.getcwd()  # Get the current working directory (cwd)\n",
    "files = os.listdir(cwd)  # Get all the files in that directory\n",
    "print(\"Files in %r: %s\" % (cwd, files))"
   ]
  },
  {
   "cell_type": "code",
   "execution_count": null,
   "metadata": {},
   "outputs": [],
   "source": [
    "diff_df.columns"
   ]
  },
  {
   "cell_type": "code",
   "execution_count": null,
   "metadata": {},
   "outputs": [],
   "source": []
  }
 ],
 "metadata": {
  "kernelspec": {
   "display_name": "Python 3",
   "language": "python",
   "name": "python3"
  }
 },
 "nbformat": 4,
 "nbformat_minor": 4
}
