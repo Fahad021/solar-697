{
 "cells": [
  {
   "cell_type": "code",
   "execution_count": 1,
   "metadata": {},
   "outputs": [],
   "source": [
    "import json\n",
    "import os\n",
    "import shutil\n",
    "import sqlite3\n",
    "from datetime import datetime\n",
    "from time import sleep\n",
    "#import query\n",
    "import logzero\n",
    "import requests\n",
    "#import secret\n",
    "\n",
    "from logzero import logger\n",
    "from requests import get\n",
    "import calendar\n",
    "import regex as re\n",
    "import pandas as pd"
   ]
  },
  {
   "cell_type": "code",
   "execution_count": 2,
   "metadata": {},
   "outputs": [],
   "source": [
    "with open(\"cfg.json\", \"r\") as jin:\n",
    "    cfg = json.load(jin)\n",
    "\n",
    "# rewrite to ensure formatting\n",
    "with open(\"cfg.json\", \"w\") as jout:\n",
    "    json.dump(cfg, jout, indent=4)"
   ]
  },
  {
   "cell_type": "code",
   "execution_count": 3,
   "metadata": {},
   "outputs": [],
   "source": [
    "conn_proj = sqlite3.connect(cfg[\"db_dir\"] + cfg[\"db_dsire\"])\n",
    "cursor_proj = conn_proj.cursor()"
   ]
  },
  {
   "cell_type": "code",
   "execution_count": 9,
   "metadata": {},
   "outputs": [],
   "source": [
    "def db_populate():\n",
    "    path = cfg[\"policy_data_dir\"]\n",
    "    \n",
    "    empty_returns = []\n",
    "    conn_proj = sqlite3.connect(cfg[\"db_dir\"] + cfg[\"db_dsire\"])\n",
    "    cursor_proj = conn_proj.cursor()\n",
    "    \n",
    "    for root, dirs, files in os.walk(path):\n",
    "        for filename in files:\n",
    "            if \".csv\" in filename:\n",
    "                #print(filename)\n",
    "                try:\n",
    "                    d_f = pd.read_csv(path + filename)\n",
    "                    d_f.to_sql(filename[:-4], conn_proj, if_exists=\"replace\", index=False)\n",
    "                    conn_proj.commit\n",
    "                except Exception as e: \n",
    "                    empty_returns.append(filename)\n",
    "    \n",
    "    \"\"\"issue_ids = {}\n",
    "    for eia_id in empty_returns:\n",
    "        cursor_proj.execute(query.fetch_eia_proj_info, {\"eia_id_prob\": eia_id})\n",
    "        eia_info = cursor_proj.fetchall()\n",
    "        issue_ids[eia_id] = eia_info\n",
    "    \n",
    "    logger.info(\n",
    "        \"EIA query errors formatted(site: proj_cap, tbn_state, proj_year)\"\n",
    "        + str(issue_ids)\n",
    "    )\n",
    "    logger.info(\"\\n\")\"\"\"\n",
    "    conn_proj.close\n",
    "    return empty_returns"
   ]
  },
  {
   "cell_type": "code",
   "execution_count": 10,
   "metadata": {},
   "outputs": [],
   "source": [
    "empty_returns = db_populate()"
   ]
  },
  {
   "cell_type": "code",
   "execution_count": null,
   "metadata": {},
   "outputs": [],
   "source": []
  }
 ],
 "metadata": {
  "kernelspec": {
   "display_name": "Python 3",
   "language": "python",
   "name": "python3"
  },
  "language_info": {
   "codemirror_mode": {
    "name": "ipython",
    "version": 3
   },
   "file_extension": ".py",
   "mimetype": "text/x-python",
   "name": "python",
   "nbconvert_exporter": "python",
   "pygments_lexer": "ipython3",
   "version": "3.8.3"
  }
 },
 "nbformat": 4,
 "nbformat_minor": 4
}
