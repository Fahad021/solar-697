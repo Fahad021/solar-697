{
 "cells": [
  {
   "cell_type": "code",
   "execution_count": 1,
   "metadata": {},
   "outputs": [],
   "source": [
    "import pandas as pd\n",
    "from statsmodels.tsa.arima.model import ARIMA\n",
    "import warnings\n",
    "warnings.filterwarnings(\"ignore\")"
   ]
  },
  {
   "cell_type": "code",
   "execution_count": 2,
   "metadata": {},
   "outputs": [],
   "source": [
    "df1 = pd.read_csv(r'TTS_LBNL_public_file_19-Oct-2020_p1.csv') \n",
    "df2 = pd.read_csv(r'TTS_LBNL_public_file_19-Oct-2020_p2.csv',encoding=\"ISO-8859-1\") \n",
    "df = df1.append(df2)"
   ]
  },
  {
   "cell_type": "code",
   "execution_count": 3,
   "metadata": {},
   "outputs": [],
   "source": [
    "install_df = df[['installation_date','system_size_DC','total_installed_price','rebate_or_grant','zip_code', 'city', 'state','utility_service_territory']]\n",
    "install_df['installation_date'] = pd.to_datetime(install_df['installation_date'])\n",
    "install_df['year'] = pd.DatetimeIndex(install_df['installation_date']).year\n",
    "install_df = install_df[install_df.total_installed_price != -9999]\n",
    "install_df = install_df.groupby(['year','state']).agg({'total_installed_price':'mean'})\n",
    "install_df = pd.pivot_table(install_df, values='total_installed_price', index=['year'], columns=['state'])\n",
    "install_df = install_df.apply(lambda x: x.fillna(x.mean()),axis=0)"
   ]
  },
  {
   "cell_type": "code",
   "execution_count": 4,
   "metadata": {},
   "outputs": [],
   "source": [
    "zip_codes = pd.read_csv(r'zip_code_database.csv') \n",
    "zip_codes[\"zip\"] = zip_codes[\"zip\"].astype(str)"
   ]
  },
  {
   "cell_type": "code",
   "execution_count": 5,
   "metadata": {},
   "outputs": [],
   "source": [
    "tot_sales_by_state = pd.read_excel (r'Sales to Ultimate Customers (Megawatthours) by State.xlsx')"
   ]
  },
  {
   "cell_type": "code",
   "execution_count": 6,
   "metadata": {},
   "outputs": [],
   "source": [
    "avg_cost_by_state = pd.read_excel (r'Average Price (Cents per kilowatthour) by State.xlsx')"
   ]
  },
  {
   "cell_type": "code",
   "execution_count": 7,
   "metadata": {},
   "outputs": [],
   "source": [
    "res_sales_df = pd.pivot_table(tot_sales_by_state, values='Residential', index=['State'], columns=['Year']).T"
   ]
  },
  {
   "cell_type": "code",
   "execution_count": 8,
   "metadata": {},
   "outputs": [],
   "source": [
    "res_avg_cost_df = pd.pivot_table(avg_cost_by_state, values='Residential', index=['State'], columns=['Year']).T"
   ]
  },
  {
   "cell_type": "code",
   "execution_count": 9,
   "metadata": {},
   "outputs": [],
   "source": [
    "def predict_install_cost():\n",
    "    df = pd.DataFrame()\n",
    "    states = install_df.columns\n",
    "\n",
    "    for state in states:\n",
    "        x = install_df[state]\n",
    "        for i in range(11):\n",
    "            model = ARIMA(x, order=(1, 1, 1))\n",
    "            model_fit = model.fit()\n",
    "            yhat = model_fit.predict(len(x), len(x), typ='levels')\n",
    "            x = x.append(yhat)\n",
    "            y = pd.Series(x, name=state).to_frame()\n",
    "        df = df.join(y, how='outer')\n",
    "    df.rename(index={22: '2020'}, inplace=True)\n",
    "    df.rename(index={23: '2021'}, inplace=True)\n",
    "    df.rename(index={24: '2022'}, inplace=True)\n",
    "    df.rename(index={25: '2023'}, inplace=True)\n",
    "    df.rename(index={26: '2024'}, inplace=True)\n",
    "    df.rename(index={27: '2025'}, inplace=True)\n",
    "    df.rename(index={28: '2026'}, inplace=True)\n",
    "    df.rename(index={29: '2027'}, inplace=True)\n",
    "    df.rename(index={30: '2028'}, inplace=True)\n",
    "    df.rename(index={31: '2029'}, inplace=True)\n",
    "    df.rename(index={32: '2030'}, inplace=True)\n",
    "    \n",
    "    df = df.round(2).T\n",
    "    df['Rank'] = df['2030'].rank()\n",
    "    df['Weight Score'] = df['Rank']*.3\n",
    "\n",
    "    return df.sort_values('Rank', ascending=True).reset_index()"
   ]
  },
  {
   "cell_type": "code",
   "execution_count": 10,
   "metadata": {},
   "outputs": [],
   "source": [
    "def predict_usage(sector_df):\n",
    "    df = pd.DataFrame()\n",
    "    states = sector_df.columns\n",
    "\n",
    "    for state in states:\n",
    "        x = sector_df[state]\n",
    "        for i in range(11):\n",
    "            model = ARIMA(x, order=(1, 1, 5))\n",
    "            model_fit = model.fit()\n",
    "            yhat = model_fit.predict(len(x), len(x), typ='levels')\n",
    "            x = x.append(yhat)\n",
    "            y = pd.Series(x, name=state).to_frame()\n",
    "        df = df.join(y, how='outer')\n",
    "    df.rename(index={30: '2020'}, inplace=True)\n",
    "    df.rename(index={31: '2021'}, inplace=True)\n",
    "    df.rename(index={32: '2022'}, inplace=True)\n",
    "    df.rename(index={33: '2023'}, inplace=True)\n",
    "    df.rename(index={34: '2024'}, inplace=True)\n",
    "    df.rename(index={35: '2025'}, inplace=True)\n",
    "    df.rename(index={36: '2026'}, inplace=True)\n",
    "    df.rename(index={37: '2027'}, inplace=True)\n",
    "    df.rename(index={38: '2028'}, inplace=True)\n",
    "    df.rename(index={39: '2029'}, inplace=True)\n",
    "    df.rename(index={40: '2030'}, inplace=True)\n",
    "    \n",
    "    df = df.round(2).T\n",
    "    df['Rank'] = df['2030'].rank()\n",
    "    df['Weight Score'] = df['Rank']*.2\n",
    "\n",
    "    return df.sort_values('Rank', ascending=True).reset_index()"
   ]
  },
  {
   "cell_type": "code",
   "execution_count": 11,
   "metadata": {},
   "outputs": [],
   "source": [
    "def predict_cost(sector_df):\n",
    "    df = pd.DataFrame()\n",
    "    states = sector_df.columns\n",
    "\n",
    "    for state in states:\n",
    "        x = sector_df[state]\n",
    "        for i in range(11):\n",
    "            model = ARIMA(x, order=(1, 1, 5))\n",
    "            model_fit = model.fit()\n",
    "            yhat = model_fit.predict(len(x), len(x), typ='levels')\n",
    "            x = x.append(yhat)\n",
    "            y = pd.Series(x, name=state).to_frame()\n",
    "        df = df.join(y, how='outer')\n",
    "    df.rename(index={30: '2020'}, inplace=True)\n",
    "    df.rename(index={31: '2021'}, inplace=True)\n",
    "    df.rename(index={32: '2022'}, inplace=True)\n",
    "    df.rename(index={33: '2023'}, inplace=True)\n",
    "    df.rename(index={34: '2024'}, inplace=True)\n",
    "    df.rename(index={35: '2025'}, inplace=True)\n",
    "    df.rename(index={36: '2026'}, inplace=True)\n",
    "    df.rename(index={37: '2027'}, inplace=True)\n",
    "    df.rename(index={38: '2028'}, inplace=True)\n",
    "    df.rename(index={39: '2029'}, inplace=True)\n",
    "    df.rename(index={40: '2030'}, inplace=True)\n",
    "    \n",
    "    df = df.round(2).T\n",
    "    df['Rank'] = df['2030'].rank(ascending=False)\n",
    "    df['Weight Score'] = df['Rank']*.5\n",
    "\n",
    "    return df.sort_values('Rank', ascending=True).reset_index()"
   ]
  },
  {
   "cell_type": "code",
   "execution_count": 12,
   "metadata": {},
   "outputs": [],
   "source": [
    "def map_zip(zip_codes):\n",
    "    if len(zip_codes) == 3:\n",
    "        return \"00\"+zip_codes\n",
    "    elif len(zip_codes) == 4:\n",
    "        return \"0\"+zip_codes\n",
    "    else:\n",
    "        return zip_codes"
   ]
  },
  {
   "cell_type": "code",
   "execution_count": 13,
   "metadata": {},
   "outputs": [],
   "source": [
    "res_sales_prediction = predict_usage(res_sales_df)\n",
    "res_cost_prediction = predict_cost(res_avg_cost_df)\n",
    "installation_cost = predict_install_cost()"
   ]
  },
  {
   "cell_type": "code",
   "execution_count": 14,
   "metadata": {},
   "outputs": [],
   "source": [
    "zip_codes[\"Zip Codes\"] = zip_codes[\"zip\"].apply(lambda zip_codes: map_zip(zip_codes))\n",
    "zip_codes = zip_codes[['Zip Codes','primary_city','state','latitude','longitude']]"
   ]
  },
  {
   "cell_type": "code",
   "execution_count": 49,
   "metadata": {},
   "outputs": [],
   "source": [
    "economic_df1 = zip_codes.merge(installation_cost, how='left', left_on='state', right_on='index')\n",
    "economic_df1 = economic_df1[['Zip Codes','primary_city','state','latitude','longitude','Rank','Weight Score']]\n",
    "economic_df1 = economic_df1.rename({'Rank':'Installation Cost Rank', 'Weight Score':'Installation Cost Weighted Score'}, axis=1)\n",
    "\n",
    "economic_df2 = economic_df1.merge(res_cost_prediction, how='left', left_on='state', right_on='index')\n",
    "economic_df2 = economic_df2[['Zip Codes','primary_city','state','latitude','longitude','Installation Cost Rank','Installation Cost Weighted Score','Rank','Weight Score']]\n",
    "economic_df2 = economic_df2.rename({'Rank':'Energy Cost Rank', 'Weight Score':'Energy Cost Weighted Score'}, axis=1)\n",
    "\n",
    "economic_df = economic_df2.merge(res_sales_prediction, how='left', left_on='state', right_on='index')\n",
    "economic_df = economic_df[['Zip Codes','primary_city','state','latitude','longitude','Installation Cost Rank','Installation Cost Weighted Score','Energy Cost Rank','Energy Cost Weighted Score','Rank','Weight Score']]\n",
    "economic_df = economic_df.rename({'Rank':'Energy Usage Rank', 'Weight Score':'Energy Usage Weighted Score'}, axis=1)"
   ]
  },
  {
   "cell_type": "code",
   "execution_count": 50,
   "metadata": {},
   "outputs": [],
   "source": [
    "not_state = ['AA', 'AE', 'AP', 'GU', 'PW', 'FM', 'MP', 'MH', 'AS', 'PR', 'VI']\n",
    "economic_df = economic_df[~economic_df['state'].isin(not_state)]"
   ]
  },
  {
   "cell_type": "code",
   "execution_count": 51,
   "metadata": {},
   "outputs": [],
   "source": [
    "economic_df['Installation Cost Rank'].fillna((economic_df['Installation Cost Rank'].quantile(0.75)), inplace=True)\n",
    "economic_df['Installation Cost Weighted Score'].fillna((economic_df['Installation Cost Weighted Score'].quantile(0.75)), inplace=True)"
   ]
  },
  {
   "cell_type": "code",
   "execution_count": 57,
   "metadata": {},
   "outputs": [],
   "source": [
    "economic_df['Total Rank'] = economic_df[['Installation Cost Rank', 'Energy Cost Rank', 'Energy Usage Rank']].mean(axis=1)\n",
    "economic_df['Total Weighted Score'] = economic_df[['Installation Cost Weighted Score', 'Energy Cost Weighted Score', 'Energy Usage Weighted Score']].sum(axis=1)\n",
    "economic_df = economic_df.sort_values('Total Weighted Score', ascending=True).round(2)"
   ]
  },
  {
   "cell_type": "code",
   "execution_count": 59,
   "metadata": {},
   "outputs": [],
   "source": [
    "#installation_cost.to_csv('installation_cost.csv')\n",
    "#res_sales_prediction.to_csv('residential_energy_usage.csv')\n",
    "#res_cost_prediction.to_csv('residential_energy_cost.csv')\n",
    "economic_df.to_csv('economic_ranking_dataframe.csv')"
   ]
  },
  {
   "cell_type": "code",
   "execution_count": null,
   "metadata": {},
   "outputs": [],
   "source": []
  }
 ],
 "metadata": {
  "kernelspec": {
   "display_name": "Python 3",
   "language": "python",
   "name": "python3"
  },
  "language_info": {
   "codemirror_mode": {
    "name": "ipython",
    "version": 3
   },
   "file_extension": ".py",
   "mimetype": "text/x-python",
   "name": "python",
   "nbconvert_exporter": "python",
   "pygments_lexer": "ipython3",
   "version": "3.8.3"
  }
 },
 "nbformat": 4,
 "nbformat_minor": 4
}
