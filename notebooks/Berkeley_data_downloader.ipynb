{
 "cells": [
  {
   "cell_type": "markdown",
   "metadata": {},
   "source": [
    "This downloader currently works for firefox.\n",
    "\n",
    "This cell provides the location where the geckodriver needs to be located. The geckodriver can be downloaded from here: https://github.com/mozilla/geckodriver/releases\n",
    "\n",
    "Selenium must be installed within the active env of the same name."
   ]
  },
  {
   "cell_type": "code",
   "execution_count": 1,
   "metadata": {},
   "outputs": [
    {
     "data": {
      "text/plain": [
       "'/Users/networkadministrator/opt/anaconda3/envs/app697/bin'"
      ]
     },
     "execution_count": 1,
     "metadata": {},
     "output_type": "execute_result"
    }
   ],
   "source": [
    "\n",
    "import os\n",
    "import sys\n",
    "os.path.dirname(sys.executable)\n"
   ]
  },
  {
   "cell_type": "code",
   "execution_count": 3,
   "metadata": {},
   "outputs": [],
   "source": [
    "\n",
    "import zipfile\n",
    "from selenium import webdriver\n",
    "from selenium.webdriver.firefox.options import Options\n"
   ]
  },
  {
   "cell_type": "code",
   "execution_count": 12,
   "metadata": {},
   "outputs": [],
   "source": [
    "\n",
    "cwd = os.getcwd()\n",
    "cwd\n",
    "\n",
    "os.chdir('../data')\n",
    "\n",
    "nwd = os.getcwd()\n",
    "nwd\n",
    "\n",
    "os.chdir('../notebooks')\n",
    "\n"
   ]
  },
  {
   "cell_type": "code",
   "execution_count": 13,
   "metadata": {},
   "outputs": [
    {
     "name": "stdout",
     "output_type": "stream",
     "text": [
      "done\n"
     ]
    }
   ],
   "source": [
    "try:\n",
    "\n",
    "    options = Options()\n",
    "    options.set_preference(\"browser.download.folderList\",2)\n",
    "    options.set_preference(\"browser.download.manager.showWhenStarting\", False)\n",
    "    options.set_preference(\"browser.download.dir\",nwd)\n",
    "    options.set_preference(\"browser.helperApps.neverAsk.saveToDisk\", \"application/octet-stream,application/zip\")\n",
    "    driver = webdriver.Firefox(executable_path = '/Applications/WebScraping/geckodriver', options=options)\n",
    "    driver.set_page_load_timeout(15)\n",
    "    driver.get(\"https://emp.lbl.gov/sites/default/files/lbnl_publicdatafile_dpv_2020_update.zip\");\n",
    "    #driver.find_element_by_id(\"https://emp.lbl.gov/sites/default/files/lbnl_publicdatafile_dpv_2020_update.zip\").click()\n",
    "    print('done')\n",
    "\n",
    "except:\n",
    "    #intentional timeout error\n",
    "    print(\"done\")\n",
    "    driver.close()"
   ]
  },
  {
   "cell_type": "code",
   "execution_count": 14,
   "metadata": {},
   "outputs": [],
   "source": [
    "\n",
    "with zipfile.ZipFile(nwd + \"/lbnl_publicdatafile_dpv_2020_update.zip\", 'r') as zip_ref:\n",
    "    zip_ref.extractall(nwd)"
   ]
  },
  {
   "cell_type": "code",
   "execution_count": null,
   "metadata": {},
   "outputs": [],
   "source": []
  }
 ],
 "metadata": {
  "kernelspec": {
   "display_name": "Python 3",
   "language": "python",
   "name": "python3"
  },
  "language_info": {
   "codemirror_mode": {
    "name": "ipython",
    "version": 3
   },
   "file_extension": ".py",
   "mimetype": "text/x-python",
   "name": "python",
   "nbconvert_exporter": "python",
   "pygments_lexer": "ipython3",
   "version": "3.8.10"
  }
 },
 "nbformat": 4,
 "nbformat_minor": 4
}
