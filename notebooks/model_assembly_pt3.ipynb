{
 "cells": [
  {
   "cell_type": "code",
   "execution_count": 43,
   "metadata": {},
   "outputs": [],
   "source": [
    "import datetime\n",
    "import json\n",
    "import numpy as np\n",
    "import pandas as pd\n",
    "import pickle\n",
    "import sqlite3\n",
    "import warnings\n",
    "\n",
    "\n",
    "\n",
    "from pandas.core.common import SettingWithCopyWarning\n",
    "from pandas.tseries.offsets import MonthEnd\n",
    "from scipy.stats import linregress\n",
    "\n",
    "warnings.simplefilter(action=\"ignore\", category=SettingWithCopyWarning)"
   ]
  },
  {
   "cell_type": "code",
   "execution_count": 31,
   "metadata": {},
   "outputs": [],
   "source": [
    "with open(\"cfg.json\", \"r\") as jin:\n",
    "    cfg = json.load(jin)\n",
    "\n",
    "# rewrite to ensure formatting\n",
    "with open(\"cfg.json\", \"w\") as jout:\n",
    "    json.dump(cfg, jout, indent=4)"
   ]
  },
  {
   "cell_type": "code",
   "execution_count": 32,
   "metadata": {},
   "outputs": [],
   "source": [
    "conn_proj = sqlite3.connect(cfg[\"db_dir\"] + cfg[\"install_db\"])\n",
    "cursor_proj = conn_proj.cursor()\n",
    "\n",
    "query_g = \"\"\"\n",
    "SELECT *\n",
    "\n",
    "FROM grouped_df\n",
    "\n",
    "\"\"\"\n",
    "\n",
    "\n",
    "g_df = pd.read_sql_query(query_g, conn_proj)"
   ]
  },
  {
   "cell_type": "code",
   "execution_count": 34,
   "metadata": {},
   "outputs": [],
   "source": [
    "def get_slope(array):\n",
    "    y = np.array(array)\n",
    "    x = np.arange(len(y))\n",
    "    slope, intercept, r_value, p_value, std_err = linregress(x,y)\n",
    "    return slope"
   ]
  },
  {
   "cell_type": "code",
   "execution_count": 35,
   "metadata": {},
   "outputs": [],
   "source": [
    "g_df = g_df.sort_values(by = 'month')\n",
    "\n",
    "g_df['rolling_slope'] = g_df.groupby(\n",
    "    'zipcode')['count_per_home'].rolling(window=6,min_periods=6).apply(\n",
    "    get_slope, raw=False).reset_index(0, drop=True)"
   ]
  },
  {
   "cell_type": "markdown",
   "metadata": {},
   "source": [
    "The following cells update the electricity price with monthly values"
   ]
  },
  {
   "cell_type": "code",
   "execution_count": 20,
   "metadata": {},
   "outputs": [],
   "source": [
    "elec = pd.read_csv(cfg[\"data_dir\"] + cfg[\"monthly_e_price\"])\n",
    "\n",
    "elec['description'] = elec.description.apply(lambda x: x.split(': ')[-1])"
   ]
  },
  {
   "cell_type": "code",
   "execution_count": 21,
   "metadata": {},
   "outputs": [
    {
     "data": {
      "text/plain": [
       "<function Connection.close>"
      ]
     },
     "execution_count": 21,
     "metadata": {},
     "output_type": "execute_result"
    }
   ],
   "source": [
    "query_zip_state = \"\"\"\n",
    "SELECT *\n",
    "\n",
    "FROM zipcode\n",
    "\n",
    "LEFT JOIN state on zipcode.state_id == state.id\n",
    "\n",
    "\"\"\"\n",
    "\n",
    "conn_proj = sqlite3.connect(cfg[\"db_dir\"] + cfg[\"db_dsire\"])\n",
    "cursor_proj = conn_proj.cursor()\n",
    "\n",
    "zip_state_df = pd.read_sql_query(query_zip_state, conn_proj)\n",
    "    \n",
    "conn_proj.close"
   ]
  },
  {
   "cell_type": "code",
   "execution_count": 22,
   "metadata": {},
   "outputs": [],
   "source": [
    "zip_state_df['zipcode'] = zip_state_df['zipcode'].apply(lambda a: str(a).zfill(5))"
   ]
  },
  {
   "cell_type": "code",
   "execution_count": 23,
   "metadata": {},
   "outputs": [],
   "source": [
    "zip_rates = zip_state_df.merge(elec, left_on = 'name', right_on = 'description', how = 'left')"
   ]
  },
  {
   "cell_type": "code",
   "execution_count": 24,
   "metadata": {},
   "outputs": [],
   "source": [
    "min_mo = datetime.strptime(cfg[\"min_date\"],\"%d-%b-%Y (%H:%M:%S.%f)\") + MonthEnd(1)"
   ]
  },
  {
   "cell_type": "code",
   "execution_count": 44,
   "metadata": {},
   "outputs": [],
   "source": [
    "ddict = {}\n",
    "\n",
    "for col in zip_rates.columns:\n",
    "    try:\n",
    "        col_name = datetime.datetime.strptime(col, '%b %Y') + MonthEnd(1)\n",
    "        month = int(round((col_name - min_mo)/np.timedelta64(1, 'M'),0))\n",
    "        ddict[month] = dict(zip(zip_rates.zipcode,zip_rates[col]))\n",
    "    except:\n",
    "        pass"
   ]
  },
  {
   "cell_type": "code",
   "execution_count": 46,
   "metadata": {},
   "outputs": [],
   "source": [
    "def price_map(x):\n",
    "    try:\n",
    "        m = x[0]\n",
    "        z = x[1]\n",
    "        \n",
    "        return ddict[m][z]\n",
    "    except:\n",
    "        return np.nan"
   ]
  },
  {
   "cell_type": "code",
   "execution_count": 47,
   "metadata": {},
   "outputs": [],
   "source": [
    "g_df['cost_electricity'] = [price_map(x) for x in zip(g_df.month,g_df.zipcode)]\n",
    "g_df = g_df.dropna()"
   ]
  },
  {
   "cell_type": "code",
   "execution_count": 49,
   "metadata": {},
   "outputs": [
    {
     "data": {
      "text/plain": [
       "<function Connection.commit>"
      ]
     },
     "execution_count": 49,
     "metadata": {},
     "output_type": "execute_result"
    }
   ],
   "source": [
    "conn_proj = sqlite3.connect(cfg[\"db_dir\"] + cfg[\"install_db\"])\n",
    "cursor_proj = conn_proj.cursor()\n",
    "\n",
    "g_df.to_sql(\"g_df2\", conn_proj, if_exists=\"replace\", index=False)\n",
    "\n",
    "conn_proj.commit"
   ]
  },
  {
   "cell_type": "code",
   "execution_count": null,
   "metadata": {},
   "outputs": [],
   "source": []
  }
 ],
 "metadata": {
  "kernelspec": {
   "display_name": "Python 3",
   "language": "python",
   "name": "python3"
  },
  "language_info": {
   "codemirror_mode": {
    "name": "ipython",
    "version": 3
   },
   "file_extension": ".py",
   "mimetype": "text/x-python",
   "name": "python",
   "nbconvert_exporter": "python",
   "pygments_lexer": "ipython3",
   "version": "3.8.10"
  }
 },
 "nbformat": 4,
 "nbformat_minor": 4
}
