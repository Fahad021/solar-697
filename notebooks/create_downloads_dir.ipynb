{
 "cells": [
  {
   "cell_type": "markdown",
   "id": "d4a10b6b-e5fa-459f-865c-8920ae16c92d",
   "metadata": {},
   "source": [
    "### README - create_download_dir.ipynb"
   ]
  },
  {
   "cell_type": "markdown",
   "id": "37b1d37f-9172-4529-9c09-e329e9ab2b50",
   "metadata": {
    "tags": []
   },
   "source": [
    "This notebook simply creates a download folder structure that is ignored by the git repository.  \n",
    "If your local repo does not have a downloads directory, this notebook will create it for you.  \n",
    "The default path and name, per the config.yml, is '/repo_root/downloads/'"
   ]
  },
  {
   "cell_type": "code",
   "execution_count": 1,
   "id": "799da0b3-871b-43dd-acef-4df9c6042b01",
   "metadata": {},
   "outputs": [],
   "source": [
    "import os\n",
    "import sys\n",
    "\n",
    "import logzero\n",
    "import yaml\n",
    "from logzero import logger"
   ]
  },
  {
   "cell_type": "code",
   "execution_count": 2,
   "id": "c3f57c9a-a907-43fb-83f0-1666b8b823ce",
   "metadata": {},
   "outputs": [],
   "source": [
    "log_path = \"logs/\"\n",
    "log_file = \"create_download_dir.log\"\n",
    "\n",
    "logzero.logfile(log_path + log_file, maxBytes=1e5, backupCount=1, disableStderrLogger=True)\n",
    "\n",
    "logger.info(f\"{log_path}, {log_file}\")\n",
    "logger.info(sys.path)"
   ]
  },
  {
   "cell_type": "code",
   "execution_count": 3,
   "id": "f3dadb44-2c26-47b4-b14c-1fb1d0250554",
   "metadata": {},
   "outputs": [],
   "source": [
    "try:\n",
    "    with open(\"../source/config.yml\", \"r\") as config_in:\n",
    "        configs = yaml.load(config_in, Loader=yaml.SafeLoader)\n",
    "        logger.info(configs)\n",
    "except:\n",
    "    logger.error(f\"config file open failure.\")\n",
    "    exit(1)"
   ]
  },
  {
   "cell_type": "code",
   "execution_count": 4,
   "id": "70f0b8b5-55c4-46cf-8db6-062be9bc2b33",
   "metadata": {},
   "outputs": [
    {
     "name": "stdout",
     "output_type": "stream",
     "text": [
      "created downloads directory structure\n"
     ]
    }
   ],
   "source": [
    "downloads_dir = os.path.isdir(configs[\"file_paths\"][\"downloads_path\"])\n",
    "\n",
    "if not downloads_dir:\n",
    "    try:\n",
    "        os.makedirs(configs[\"file_paths\"][\"downloads_path\"])\n",
    "        os.makedirs(configs[\"file_paths\"][\"downloads_path_db\"])\n",
    "        os.makedirs(configs[\"file_paths\"][\"downloads_path_zips\"])\n",
    "        os.makedirs(configs[\"file_paths\"][\"downloads_path_raw\"])\n",
    "        logger.info(f\"created downloads directory structure\")\n",
    "        print(f\"created downloads directory structure\")\n",
    "    except:\n",
    "        print(\"Error creating downloads directory structure\")\n",
    "else:\n",
    "    logger.info(f\"directory {configs['file_paths']['downloads_path']} present\")\n",
    "    print(f\"directory {configs['file_paths']['downloads_path']} present\")"
   ]
  },
  {
   "cell_type": "code",
   "execution_count": null,
   "id": "2919e190-051c-45c1-99cb-5828e8b094b0",
   "metadata": {},
   "outputs": [],
   "source": []
  }
 ],
 "metadata": {
  "kernelspec": {
   "display_name": "Python 3 (ipykernel)",
   "language": "python",
   "name": "python3"
  },
  "language_info": {
   "codemirror_mode": {
    "name": "ipython",
    "version": 3
   },
   "file_extension": ".py",
   "mimetype": "text/x-python",
   "name": "python",
   "nbconvert_exporter": "python",
   "pygments_lexer": "ipython3",
   "version": "3.8.10"
  }
 },
 "nbformat": 4,
 "nbformat_minor": 5
}
