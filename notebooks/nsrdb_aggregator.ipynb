{
 "cells": [
  {
   "cell_type": "markdown",
   "id": "e9e3686d-4829-4253-b39f-dfd5d6a03066",
   "metadata": {},
   "source": [
    "### README - nsrdb_aggregator.ipynb"
   ]
  },
  {
   "cell_type": "markdown",
   "id": "efbfe47e-137d-4cd3-ba4e-4e977191d256",
   "metadata": {},
   "source": [
    "This notebook is the final in the series. Its purpose is to created an aggregated database from the raw download files in ../downloads/raw/. This notebooks should run without alteration to configs, and produce a city_state_M.db aggregated database. Note the \"M\" is for monthly but future iterations could include daily or weekly aggregations. These changes would occur in the [config.yml](../source/config.yml) aggregation section."
   ]
  },
  {
   "cell_type": "code",
   "execution_count": 1,
   "id": "8f75a151-807b-4ccc-a7f1-9f735317e667",
   "metadata": {
    "tags": []
   },
   "outputs": [],
   "source": [
    "import glob\n",
    "import os\n",
    "import site\n",
    "import sqlite3\n",
    "import sys\n",
    "\n",
    "import logzero\n",
    "import numpy as np\n",
    "import pandas as pd\n",
    "import yaml\n",
    "from logzero import logger\n",
    "from tqdm import tqdm\n",
    "from tqdm.notebook import tqdm as tqdm_nb\n",
    "from yaml import dump, load, safe_load"
   ]
  },
  {
   "cell_type": "code",
   "execution_count": 2,
   "id": "03ebae6f-c7d2-4aab-9b92-2ba92352e55c",
   "metadata": {},
   "outputs": [],
   "source": [
    "sys.path.append(\"../source\")\n",
    "import queries"
   ]
  },
  {
   "cell_type": "code",
   "execution_count": 3,
   "id": "df7ea666-17e0-4f2e-8c27-85f599650937",
   "metadata": {},
   "outputs": [],
   "source": [
    "log_path = \"logs/\"\n",
    "log_file = \"nsrdb_aggregator.log\"\n",
    "\n",
    "logzero.logfile(log_path + log_file, maxBytes=1e5, backupCount=5, disableStderrLogger=True)\n",
    "logger.info(f\"{log_path}, {log_file}\\n\")"
   ]
  },
  {
   "cell_type": "code",
   "execution_count": 4,
   "id": "54798d9e-ad6f-48a0-ae8f-fb98a9ecd9b4",
   "metadata": {},
   "outputs": [],
   "source": [
    "configs = None\n",
    "try:\n",
    "    with open(\"../source/config.yml\", \"r\") as config_in:\n",
    "        configs = load(config_in, Loader=yaml.SafeLoader)\n",
    "        logger.info(f\"{configs}\\n\")\n",
    "except:\n",
    "    logger.error(f\"config file open failure.\")\n",
    "    exit(1)\n",
    "\n",
    "zip_db_path = configs[\"file_paths\"][\"zip_db_path\"]\n",
    "db1_path = configs[\"file_paths\"][\"downloads_path_db\"]\n",
    "data_path = configs[\"file_paths\"][\"downloads_path_zips\"]\n",
    "csv_path = configs[\"file_paths\"][\"downloads_path_raw\"]\n",
    "\n",
    "period = configs[\"aggregation\"][\"period\"]\n",
    "city = configs[\"location_info\"][\"city\"]\n",
    "state = configs[\"location_info\"][\"state\"]\n",
    "\n",
    "db1_file = city + \"_\" + state + \"_\" + period + \".db\"\n",
    "zip_db_file = configs[\"file_names\"][\"zip_db_file\"]\n",
    "\n",
    "logger.info(f\"{db1_path}, {db1_file}\")\n",
    "\n",
    "zip_import = configs[\"zip_import\"][True]\n",
    "logger.info(f\"zip_import: {zip_import}\\n\")\n",
    "\n",
    "nrows = configs[\"num_rows\"][0]\n",
    "logger.info(f\"number of rows: {nrows}\\n\")"
   ]
  },
  {
   "cell_type": "code",
   "execution_count": 5,
   "id": "1dd7a919-d08c-437c-ad7c-b29fbaac7453",
   "metadata": {},
   "outputs": [],
   "source": [
    "nsrdb_conv = \"nsrdb_?????_????.csv\"\n",
    "nsrdb_meta_conv = \"nsrdb_meta_?????_????.csv\"\n",
    "\n",
    "\n",
    "def get_csv_files(csv_path, name_conv):\n",
    "    files = [file.split(\"/\")[-1] for file in glob.glob(csv_path + name_conv)]\n",
    "    return sorted(files)\n",
    "\n",
    "\n",
    "nsrdb_files = get_csv_files(csv_path, nsrdb_conv)\n",
    "nsrdb_meta_files = get_csv_files(csv_path, nsrdb_meta_conv)"
   ]
  },
  {
   "cell_type": "code",
   "execution_count": 6,
   "id": "a48fdadf-0cab-493d-92df-d802a46185fc",
   "metadata": {},
   "outputs": [
    {
     "name": "stdout",
     "output_type": "stream",
     "text": [
      "../downloads/raw/\n",
      "../downloads/db/ city_state_M.db\n",
      "2 2\n",
      "['nsrdb_12019_2020.csv', 'nsrdb_12027_2020.csv']\n",
      "['nsrdb_meta_12019_2020.csv', 'nsrdb_meta_12027_2020.csv']\n"
     ]
    }
   ],
   "source": [
    "print(csv_path)\n",
    "print(db1_path, db1_file)\n",
    "print(len(nsrdb_files), len(nsrdb_meta_files))\n",
    "print(nsrdb_files[:3])\n",
    "print(nsrdb_meta_files[:3])"
   ]
  },
  {
   "cell_type": "code",
   "execution_count": 7,
   "id": "e0c0856c-1a82-44d0-9212-b85c00bcfade",
   "metadata": {},
   "outputs": [],
   "source": [
    "# establish db connection and cursor\n",
    "conn = sqlite3.connect(db1_path + db1_file)\n",
    "cursor = conn.cursor()"
   ]
  },
  {
   "cell_type": "code",
   "execution_count": 8,
   "id": "39ecb794-ec4f-42d7-a321-f39a11faf359",
   "metadata": {},
   "outputs": [],
   "source": [
    "cursor.execute(queries.create_table_monthly_nsrdb)\n",
    "conn.commit()\n",
    "\n",
    "cursor.execute(queries.create_table_geo_zipcodes)\n",
    "conn.commit()"
   ]
  },
  {
   "cell_type": "code",
   "execution_count": 9,
   "id": "ca3a0fde-af4f-4384-beea-55d7b79c8404",
   "metadata": {},
   "outputs": [],
   "source": [
    "# params = {\"path\": db_path, \"db_file2\": db_file2}\n",
    "# need to test for existance of records in the db\n",
    "# and skip the import if so\n",
    "if zip_import:\n",
    "    cursor.execute(\"\"\"ATTACH DATABASE '../data/db/geo_zipcodes.db' AS gzc_db;\"\"\")\n",
    "    cursor.execute(\"\"\"INSERT INTO 'geo_zipcodes' SELECT * FROM gzc_db.geo_zipcodes;\"\"\")\n",
    "    conn.commit()\n",
    "    cursor.execute(\"DETACH gzc_db\")"
   ]
  },
  {
   "cell_type": "markdown",
   "id": "c49d88db-749d-4a53-9bb4-8fe3cd0de857",
   "metadata": {},
   "source": [
    "### Download link information\n",
    "https://developer.nrel.gov/docs/solar/nsrdb/psm3-download/"
   ]
  },
  {
   "cell_type": "code",
   "execution_count": 10,
   "id": "3f0c192b-a931-4e3a-8036-e015e9b7adba",
   "metadata": {
    "tags": []
   },
   "outputs": [],
   "source": [
    "cols = [\n",
    "    \"date_time\",\n",
    "    \"zipcode\",\n",
    "    \"location_id\",\n",
    "    \"Year\",\n",
    "    \"Month\",\n",
    "    \"Day\",\n",
    "    \"Hour\",\n",
    "    \"Temperature\",\n",
    "    \"Clearsky_DHI\",\n",
    "    \"Clearsky_DNI\",\n",
    "    \"Clearsky_GHI\",\n",
    "    \"Cloud_Type\",\n",
    "    \"Dew_Point\",\n",
    "    \"DHI\",\n",
    "    \"DNI\",\n",
    "    \"Fill_Flag\",\n",
    "    \"GHI\",\n",
    "    \"Relative_Humidity\",\n",
    "    \"Solar_Zenith_Angle\",\n",
    "    \"Surface_Albedo\",\n",
    "    \"Pressure\",\n",
    "    \"Precipitable_Water\",\n",
    "    \"Wind_Direction\",\n",
    "    \"Wind_Speed\",\n",
    "    \"Global_Horizontal_UV_Irradiance_(280-400nm)\",\n",
    "    \"Global_Horizontal_UV_Irradiance_(295-385nm)\",\n",
    "]\n",
    "cols = [\n",
    "    \"date_time\",\n",
    "    \"zipcode\",\n",
    "    \"location_id\",\n",
    "    \"Temperature\",\n",
    "    \"Clearsky_DHI\",\n",
    "    \"Clearsky_DNI\",\n",
    "    \"Clearsky_GHI\",\n",
    "    \"Dew_Point\",\n",
    "    \"DHI\",\n",
    "    \"DNI\",\n",
    "    \"GHI\",\n",
    "    \"Relative_Humidity\",\n",
    "    \"Pressure\",\n",
    "    \"Precipitable_Water\",\n",
    "    \"Wind_Speed\",\n",
    "    \"Global_Horizontal_UV_Irradiance_(280-400nm)\",\n",
    "    \"Global_Horizontal_UV_Irradiance_(295-385nm)\",\n",
    "]"
   ]
  },
  {
   "cell_type": "code",
   "execution_count": 11,
   "id": "6620ae97-2837-4597-b025-6ad30050e92e",
   "metadata": {},
   "outputs": [
    {
     "data": {
      "application/vnd.jupyter.widget-view+json": {
       "model_id": "e8a6b0ef83aa40659b60b1b2056b7fad",
       "version_major": 2,
       "version_minor": 0
      },
      "text/plain": [
       "  0%|          | 0/2 [00:00<?, ?it/s]"
      ]
     },
     "metadata": {},
     "output_type": "display_data"
    }
   ],
   "source": [
    "debug = False\n",
    "\n",
    "for file in tqdm_nb(nsrdb_files):\n",
    "    df = pd.read_csv(csv_path + file, parse_dates=True, usecols=cols)\n",
    "    df[\"date_time\"] = pd.to_datetime(df[\"date_time\"])\n",
    "\n",
    "    df = df.set_index(\"date_time\").resample(period).mean()\n",
    "    df = df.round(decimals=5).reset_index(drop=False, inplace=False)\n",
    "    df.rename(\n",
    "        {\n",
    "            \"Global_Horizontal_UV_Irradiance_(280-400nm)\": \"GHI_UV_wd\",\n",
    "            \"Global_Horizontal_UV_Irradiance_(295-385nm)\": \"GHI_UV_nw\",\n",
    "        },\n",
    "        axis=1,\n",
    "        inplace=True,\n",
    "    )\n",
    "\n",
    "    df[\"zipcode\"] = df[\"zipcode\"].astype(\"int64\")\n",
    "    df[\"zipcode\"] = df[\"zipcode\"].astype(\"object\")\n",
    "    df[\"location_id\"] = df[\"location_id\"].astype(\"int64\")\n",
    "\n",
    "    if debug:\n",
    "        display(df)\n",
    "\n",
    "    df.to_sql(\"nsrdb\", conn, if_exists=\"append\", index=False, method=\"multi\")"
   ]
  },
  {
   "cell_type": "code",
   "execution_count": 12,
   "id": "d9f739ff-23fb-4b82-baaf-98e942341122",
   "metadata": {},
   "outputs": [],
   "source": [
    "conn.commit()\n",
    "conn.close()"
   ]
  },
  {
   "cell_type": "code",
   "execution_count": null,
   "id": "8c487d69-9a8f-46d9-894b-87fd0b6237ff",
   "metadata": {},
   "outputs": [],
   "source": []
  }
 ],
 "metadata": {
  "kernelspec": {
   "display_name": "Python 3 (ipykernel)",
   "language": "python",
   "name": "python3"
  },
  "language_info": {
   "codemirror_mode": {
    "name": "ipython",
    "version": 3
   },
   "file_extension": ".py",
   "mimetype": "text/x-python",
   "name": "python",
   "nbconvert_exporter": "python",
   "pygments_lexer": "ipython3",
   "version": "3.8.10"
  }
 },
 "nbformat": 4,
 "nbformat_minor": 5
}
