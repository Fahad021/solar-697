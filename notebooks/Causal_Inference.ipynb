{
 "cells": [
  {
   "cell_type": "code",
   "execution_count": 1,
   "metadata": {},
   "outputs": [],
   "source": [
    "import json\n",
    "import numpy as np\n",
    "import pandas as pd\n",
    "import pickle\n",
    "import plotly.express as px\n",
    "import sqlite3\n",
    "import statsmodels.formula.api as smf\n",
    "import warnings\n",
    "\n",
    "\n",
    "from causalinference import CausalModel\n",
    "from pandas.core.common import SettingWithCopyWarning\n",
    "\n",
    "\n",
    "warnings.simplefilter(action=\"ignore\", category=SettingWithCopyWarning)"
   ]
  },
  {
   "cell_type": "code",
   "execution_count": 2,
   "metadata": {},
   "outputs": [],
   "source": [
    "with open(\"cfg.json\", \"r\") as jin:\n",
    "    cfg = json.loads(jin.read())\n",
    "\n",
    "# rewrite to ensure formatting\n",
    "with open(\"cfg.json\", \"w\") as jout:\n",
    "    json.dump(cfg, jout, indent=4)"
   ]
  },
  {
   "cell_type": "code",
   "execution_count": 3,
   "metadata": {},
   "outputs": [],
   "source": [
    "conn_proj = sqlite3.connect(cfg[\"db_dir\"] + cfg[\"install_db\"])\n",
    "cursor_proj = conn_proj.cursor()\n",
    "\n",
    "query_g = \"\"\"\n",
    "SELECT *\n",
    "\n",
    "FROM g_df2\n",
    "\n",
    "\"\"\"\n",
    "\n",
    "\n",
    "g_df = pd.read_sql_query(query_g, conn_proj)\n",
    "g_df['cost_electricity'] = g_df['cost_electricity'].astype(float)"
   ]
  },
  {
   "cell_type": "code",
   "execution_count": 4,
   "metadata": {},
   "outputs": [],
   "source": [
    "g_df2 = g_df[['count_per_home','NREL_PSM_2019','cost_electricity',\n",
    "              'price','p_type_31','p_type_32','p_type_33','p_type_37',\n",
    "              'p_type_46','p_type_50','p_type_78','p_type_87','p_type_88','p_type_92','p_type_86']]"
   ]
  },
  {
   "cell_type": "code",
   "execution_count": 5,
   "metadata": {},
   "outputs": [],
   "source": [
    "cols_eval = ['p_type_31','p_type_32', 'p_type_33', 'p_type_37',\n",
    "             'p_type_46', 'p_type_50', 'p_type_78', 'p_type_92', 'p_type_86']\n",
    "\n",
    "cols_rebate = ['p_type_87', 'p_type_88']\n",
    "\n",
    "treatment_dict = {}"
   ]
  },
  {
   "cell_type": "code",
   "execution_count": 6,
   "metadata": {},
   "outputs": [
    {
     "name": "stdout",
     "output_type": "stream",
     "text": [
      "                            OLS Regression Results                            \n",
      "==============================================================================\n",
      "Dep. Variable:         count_per_home   R-squared:                       0.073\n",
      "Model:                            OLS   Adj. R-squared:                  0.073\n",
      "Method:                 Least Squares   F-statistic:                     4639.\n",
      "Date:                Sun, 22 Aug 2021   Prob (F-statistic):               0.00\n",
      "Time:                        20:23:28   Log-Likelihood:             1.1017e+07\n",
      "No. Observations:             1718436   AIC:                        -2.203e+07\n",
      "Df Residuals:                 1718423   BIC:                        -2.203e+07\n",
      "Df Model:                          12                                         \n",
      "Covariance Type:                  HC1                                         \n",
      "====================================================================================\n",
      "                       coef    std err          t      P>|t|      [0.025      0.975]\n",
      "------------------------------------------------------------------------------------\n",
      "Intercept        -7.238e-05   3.41e-06    -21.212      0.000   -7.91e-05   -6.57e-05\n",
      "NREL_PSM_2019     2.158e-05   3.85e-07     55.989      0.000    2.08e-05    2.23e-05\n",
      "cost_electricity  1.221e-05   1.59e-07     76.915      0.000    1.19e-05    1.25e-05\n",
      "price            -1.685e-08   1.67e-10   -100.728      0.000   -1.72e-08   -1.65e-08\n",
      "p_type_31         1.595e-05   7.63e-07     20.895      0.000    1.45e-05    1.74e-05\n",
      "p_type_32         3.588e-05   1.41e-06     25.381      0.000    3.31e-05    3.86e-05\n",
      "p_type_37        -5.022e-05   5.56e-07    -90.260      0.000   -5.13e-05   -4.91e-05\n",
      "p_type_46        -4.798e-05   9.14e-07    -52.482      0.000   -4.98e-05   -4.62e-05\n",
      "p_type_78          2.52e-05   4.84e-07     52.025      0.000    2.42e-05    2.61e-05\n",
      "p_type_87         1.737e-07   3.22e-06      0.054      0.957   -6.14e-06    6.48e-06\n",
      "p_type_88        -4.129e-05   6.66e-07    -62.022      0.000   -4.26e-05      -4e-05\n",
      "p_type_92            0.0001   1.27e-06     93.496      0.000       0.000       0.000\n",
      "p_type_86         5.043e-06   2.82e-06      1.790      0.073   -4.79e-07    1.06e-05\n",
      "==============================================================================\n",
      "Omnibus:                  4764399.131   Durbin-Watson:                   1.797\n",
      "Prob(Omnibus):                  0.000   Jarque-Bera (JB):    1127001058586.071\n",
      "Skew:                          34.775   Prob(JB):                         0.00\n",
      "Kurtosis:                    3969.746   Cond. No.                     1.24e+05\n",
      "==============================================================================\n",
      "\n",
      "Warnings:\n",
      "[1] Standard Errors are heteroscedasticity robust (HC1)\n",
      "[2] The condition number is large, 1.24e+05. This might indicate that there are\n",
      "strong multicollinearity or other numerical problems.\n"
     ]
    }
   ],
   "source": [
    "\n",
    "\n",
    "\n",
    "g_df2 = g_df.copy()\n",
    "for col in cols_eval:\n",
    "    g_df2[col] = g_df2[col].replace({0:1})\n",
    "    g_df2[col] = g_df2[col].replace({-1:0})\n",
    "for col in cols_rebate:\n",
    "    g_df2[col] = g_df2[col].replace({0:-1})\n",
    "    g_df2[col] = g_df2[col].replace({-1:0})\n",
    "reg = smf.ols('count_per_home ~ NREL_PSM_2019 + cost_electricity + price + p_type_31 + p_type_32 + p_type_37 + p_type_46 + p_type_78+ p_type_87+ p_type_88 + p_type_92 + p_type_86', data = g_df2).fit()\n",
    "\n",
    "ols_robust2_1 = reg.get_robustcov_results(cov_type= 'HC1')\n",
    "\n",
    "print(ols_robust2_1.summary())"
   ]
  },
  {
   "cell_type": "code",
   "execution_count": 7,
   "metadata": {},
   "outputs": [],
   "source": [
    "with open(cfg[\"data_dir\"] + cfg[\"p_dates\"], 'rb') as fp:\n",
    "    prog_map = pickle.load(fp)"
   ]
  },
  {
   "cell_type": "markdown",
   "metadata": {},
   "source": [
    "The current dataframe is too large to complete locally. The following cell grabs a condensed section of the data immediately surrounding the program initialization dates for evaluation."
   ]
  },
  {
   "cell_type": "code",
   "execution_count": 8,
   "metadata": {},
   "outputs": [
    {
     "name": "stdout",
     "output_type": "stream",
     "text": [
      "31 complete\n",
      "32 complete\n",
      "33 complete\n",
      "37 complete\n",
      "46 complete\n",
      "50 complete\n",
      "78 complete\n",
      "92 complete\n",
      "86 complete\n"
     ]
    }
   ],
   "source": [
    "g_df3 = g_df.copy()\n",
    "\n",
    "for program in [31,32,33,37,46,50,78,92,86]:\n",
    "    \n",
    "    def in_effect(x):\n",
    "        \n",
    "        z = x[0]\n",
    "        d = x[1]\n",
    "        \n",
    "        p_type = program\n",
    "\n",
    "        output = 0\n",
    "\n",
    "        try:\n",
    "            items = []\n",
    "            for item in prog_map[p_type][z]:\n",
    "                items.append(item[1])\n",
    "                if output != 1:\n",
    "                    \n",
    "                    if item[1] <= d <= (item[1] + 6):\n",
    "                        output = 1\n",
    "                    elif (item[1] - 6) <= d <= item[1]:\n",
    "                        output = -1\n",
    "                    \n",
    "            if d < min(items):\n",
    "                output = -1\n",
    "\n",
    "        except:\n",
    "            output = 0\n",
    "        \n",
    "        return output\n",
    "    \n",
    "    g_df3['p_type_' + str(program)] = [in_effect(x) for x in zip(g_df3.zipcode,g_df3.month)]\n",
    "    print(str(program) + ' complete')"
   ]
  },
  {
   "cell_type": "code",
   "execution_count": 9,
   "metadata": {},
   "outputs": [
    {
     "name": "stdout",
     "output_type": "stream",
     "text": [
      "p_type_31 (44558, 27)\n",
      "p_type_32 (23696, 27)\n",
      "p_type_33 (0, 27)\n",
      "p_type_37 (136900, 27)\n",
      "p_type_46 (98156, 27)\n",
      "p_type_50 (0, 27)\n",
      "p_type_78 (168857, 27)\n",
      "p_type_92 (196754, 27)\n",
      "p_type_86 (118650, 27)\n",
      "p_type_87 (1277969, 27)\n",
      "p_type_88 (1032936, 27)\n"
     ]
    }
   ],
   "source": [
    "all_cols = cols_eval + cols_rebate\n",
    "for col in all_cols:\n",
    "    in_df = g_df3[g_df3[col] != 0].reset_index()\n",
    "    print(col,in_df.shape)"
   ]
  },
  {
   "cell_type": "code",
   "execution_count": null,
   "metadata": {},
   "outputs": [
    {
     "name": "stdout",
     "output_type": "stream",
     "text": [
      "p_type_31 started\n",
      "model complete\n",
      "propensity complete\n",
      "matching complete\n",
      "p_type_31 complete\n",
      "p_type_32 started\n",
      "model complete\n",
      "propensity complete\n",
      "matching complete\n",
      "p_type_32 complete\n",
      "p_type_33 started\n",
      "Too few control units: N_c < K+1\n",
      "p_type_33 complete\n",
      "p_type_37 started\n",
      "model complete\n",
      "propensity complete\n",
      "matching complete\n",
      "p_type_37 complete\n",
      "p_type_46 started\n",
      "model complete\n",
      "propensity complete\n",
      "matching complete\n",
      "p_type_46 complete\n",
      "p_type_50 started\n",
      "Too few control units: N_c < K+1\n",
      "p_type_50 complete\n",
      "p_type_78 started\n",
      "model complete\n",
      "propensity complete\n"
     ]
    }
   ],
   "source": [
    "\n",
    "\n",
    "for col in cols_eval:\n",
    "    in_df = g_df3[g_df3[col] != 0].reset_index()\n",
    "    \n",
    "    in_df[col] = in_df[col].replace(-1,0)\n",
    "    \n",
    "    Y_i = in_df.count_per_home.values\n",
    "    df_EVAL = in_df.drop(columns = ['month','zipcode','home_count','i_count', 'count_per_home'])\n",
    "\n",
    "\n",
    "    print(col + ' started')\n",
    "    try:\n",
    "        D_i = df_EVAL[col].values\n",
    "        df_t = df_EVAL[['NREL_PSM_2019', 'cost_electricity','price']].to_numpy()\n",
    "        model = CausalModel(Y = Y_i, #outcome \n",
    "                            D = D_i, #treatment\n",
    "                            X = df_t)\n",
    "\n",
    "        print('model complete')\n",
    "        model.est_propensity() \n",
    "        \n",
    "        print('propensity complete')\n",
    "        model.est_via_matching()  \n",
    "        print('matching complete')\n",
    "        #model.estimates\n",
    "\n",
    "        ate = round(model.estimates['matching']['ate'],5)\n",
    "        \n",
    "        treatment_dict[col] = ate\n",
    "    except Exception as e:\n",
    "        print(e)\n",
    "        treatment_dict[col] = 'unknown'\n",
    "    print(col + ' complete')"
   ]
  },
  {
   "cell_type": "code",
   "execution_count": null,
   "metadata": {},
   "outputs": [],
   "source": [
    "\n",
    "\n",
    "\n",
    "    \n",
    "for col in ['p_type_87','p_type_88']:\n",
    "    in_df = g_df3[(g_df3[col] != 0) & (g_df3.month >= 203)].reset_index()\n",
    "    \n",
    "    in_df[col] = in_df[col].replace(-1,0)\n",
    "    \n",
    "    \n",
    "    print(in_df.shape)\n",
    "    Y_i = in_df.count_per_home.values\n",
    "    df_EVAL = in_df.drop(columns = ['month','zipcode','home_count','i_count', 'count_per_home'])\n",
    "\n",
    "\n",
    "    print(col + ' started')\n",
    "    try:\n",
    "        D_i = df_EVAL[col].values\n",
    "        df_t = df_EVAL[['NREL_PSM_2019', 'cost_electricity','price']].to_numpy()\n",
    "        model = CausalModel(Y = Y_i, #outcome \n",
    "                            D = D_i, #treatment\n",
    "                            X = df_t)\n",
    "        # added columns = ,'med_income','med_home_value','pop_density'\n",
    "        #from hummingbird.ml import convert\n",
    "        #model = convert(ci_model, 'pytorch')\n",
    "        print('model complete')\n",
    "        model.est_propensity() \n",
    "        \n",
    "        print('propensity complete')\n",
    "        model.est_via_matching()  \n",
    "        print('matching complete')\n",
    "        #model.estimates\n",
    "\n",
    "        ate = round(model.estimates['matching']['ate'],5)\n",
    "        \n",
    "        treatment_dict[col] = ate\n",
    "    except Exception as e:\n",
    "        print(e)\n",
    "        print(col, df_EVAL[df_EVAL[col] == 1].shape, df_EVAL[df_EVAL[col] == 0].shape)\n",
    "        treatment_dict[col] = 'unknown'\n",
    "    print(col + ' complete')"
   ]
  },
  {
   "cell_type": "code",
   "execution_count": null,
   "metadata": {},
   "outputs": [],
   "source": [
    "#treatment_dict\n",
    "with open(cfg[\"data_dir\"] + cfg[\"prog_ate\"], 'wb') as fp:\n",
    "    pickle.dump(treatment_dict, fp, protocol=pickle.HIGHEST_PROTOCOL)"
   ]
  },
  {
   "cell_type": "markdown",
   "metadata": {},
   "source": [
    "Select zipcode\n",
    "Select policy type\n",
    "Select implementation date\n",
    "\n",
    "Marks other zipcodes (chloropleth?)\n",
    "Eliminates other zipcodes with policy\n",
    "Identifies closest remaining zipcode (matching)\n",
    "mean before\n",
    "mean after\n",
    "is slope consistent?\n"
   ]
  },
  {
   "cell_type": "code",
   "execution_count": null,
   "metadata": {},
   "outputs": [],
   "source": [
    "treatment_dict"
   ]
  },
  {
   "cell_type": "code",
   "execution_count": null,
   "metadata": {},
   "outputs": [],
   "source": [
    "#show feature importance"
   ]
  },
  {
   "cell_type": "code",
   "execution_count": null,
   "metadata": {},
   "outputs": [],
   "source": [
    "x = ['Personal Tax Credit',\n",
    "     'Personal Tax Deduction',\n",
    "     'Personal Tax Exemption',\n",
    "     'Net Metering',\n",
    "     'Public Benefits Fund',\n",
    "     'Property Tax Assessment',\n",
    "     'Property Tax Incentive',\n",
    "     'Feed-in Tariff',\n",
    "     'Value of Solar Tariff',\n",
    "     'Grant Program',\n",
    "     'Rebate Program']\n",
    "y = list(treatment_dict.values())\n",
    "types = ['Personal Tax',\n",
    "         'Personal Tax',\n",
    "         'Personal Tax',\n",
    "         'Long-term cost-benefit',\n",
    "         'Community Fund',\n",
    "         'Property Tax',\n",
    "         'Property Tax',\n",
    "         'Long-term cost-benefit',\n",
    "         'Long-term cost-benefit',\n",
    "         'Discount',\n",
    "         'Discount']\n",
    "\n",
    "plot_frame = pd.DataFrame({'Program Type':x,'Treatment Affect':y,'Description':types})\n",
    "\n",
    "\n"
   ]
  },
  {
   "cell_type": "code",
   "execution_count": null,
   "metadata": {},
   "outputs": [],
   "source": [
    "import plotly.io as pio\n",
    "pio.renderers.default='notebook'\n",
    "\n",
    "fig = px.bar(plot_frame, \n",
    "             x='Program Type', \n",
    "             y='Treatment Affect', \n",
    "             color = 'Description',\n",
    "             title = 'Average Treatment Affect of Select Program Types',\n",
    "             template = 'plotly_dark')\n",
    "fig.update_layout(legend=dict(orientation=\"v\", yanchor=\"auto\", y=1, x=0.8))\n",
    "fig.show()"
   ]
  },
  {
   "cell_type": "code",
   "execution_count": null,
   "metadata": {},
   "outputs": [],
   "source": [
    "# fig.write_image(cfg[\"data_dir\"] + \"ATE.png\")"
   ]
  },
  {
   "cell_type": "code",
   "execution_count": null,
   "metadata": {},
   "outputs": [],
   "source": []
  }
 ],
 "metadata": {
  "kernelspec": {
   "display_name": "Python 3",
   "language": "python",
   "name": "python3"
  },
  "language_info": {
   "codemirror_mode": {
    "name": "ipython",
    "version": 3
   },
   "file_extension": ".py",
   "mimetype": "text/x-python",
   "name": "python",
   "nbconvert_exporter": "python",
   "pygments_lexer": "ipython3",
   "version": "3.8.10"
  }
 },
 "nbformat": 4,
 "nbformat_minor": 4
}
