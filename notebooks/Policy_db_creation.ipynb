{
 "cells": [
  {
   "cell_type": "code",
   "execution_count": 24,
   "metadata": {},
   "outputs": [],
   "source": [
    "import json\n",
    "import os\n",
    "import pandas as pd\n",
    "import sqlite3\n",
    "\n",
    "\n",
    "def db_populate():\n",
    "    with open(\"cfg.json\", \"r\") as jin:\n",
    "        cfg = json.load(jin)\n",
    "\n",
    "    # rewrite to ensure formatting\n",
    "    with open(\"cfg.json\", \"w\") as jout:\n",
    "        json.dump(cfg, jout, indent=4)\n",
    "    \n",
    "    path = cfg[\"policy_data_dir\"]\n",
    "    \n",
    "    empty_returns = []\n",
    "    conn_proj = sqlite3.connect(cfg[\"db_dir\"] + cfg[\"db_dsire\"])\n",
    "    cursor_proj = conn_proj.cursor()\n",
    "    \n",
    "    for root, dirs, files in os.walk(path):\n",
    "        for filename in files:\n",
    "            \n",
    "            if \".csv\" in filename:\n",
    "                \n",
    "                try:\n",
    "                    d_f = pd.read_csv(path + filename)\n",
    "                    d_f.to_sql(filename[:-4], conn_proj, if_exists=\"replace\", index=False)\n",
    "                    conn_proj.commit\n",
    "                except Exception as e: \n",
    "                    empty_returns.append(filename)\n",
    "    \n",
    "\n",
    "    conn_proj.close\n",
    "    return empty_returns"
   ]
  },
  {
   "cell_type": "code",
   "execution_count": 25,
   "metadata": {},
   "outputs": [],
   "source": [
    "empty_returns = db_populate()"
   ]
  },
  {
   "cell_type": "code",
   "execution_count": null,
   "metadata": {},
   "outputs": [],
   "source": []
  },
  {
   "cell_type": "code",
   "execution_count": null,
   "metadata": {},
   "outputs": [],
   "source": []
  }
 ],
 "metadata": {
  "kernelspec": {
   "display_name": "Python 3",
   "language": "python",
   "name": "python3"
  },
  "language_info": {
   "codemirror_mode": {
    "name": "ipython",
    "version": 3
   },
   "file_extension": ".py",
   "mimetype": "text/x-python",
   "name": "python",
   "nbconvert_exporter": "python",
   "pygments_lexer": "ipython3",
   "version": "3.8.3"
  }
 },
 "nbformat": 4,
 "nbformat_minor": 4
}
