{
 "cells": [
  {
   "cell_type": "markdown",
   "id": "9d6188ab-466b-4bfa-bfbc-8b96be755496",
   "metadata": {},
   "source": [
    "### README - zipcodes_get_geos.ipynb "
   ]
  },
  {
   "cell_type": "markdown",
   "id": "7cee6b24-e454-412e-9802-f29ca533e37f",
   "metadata": {},
   "source": [
    "This notebook will extract the zipcodes from ../downloads/zip_codes/zipcodes.txt and produce a YAML file containing the ZIP Code along with the lat/lon geo-coordinates for the ZIP Code. This YAML file will be named \"zipcodes_city_state_.yml\" where city and state values are taken from the config.yml file in ../source. If the zipcodes.txt file is present per above and the location_info section of the config.yml is as desired, this notebook should run as is.\n",
    "\n",
    "**Note:** please be sure to update the city and state names in the [config.yml](../source/config.yml) file prior to executing this notebook. "
   ]
  },
  {
   "cell_type": "code",
   "execution_count": 1,
   "id": "7fc5ddcb-9ec9-48ec-b6ae-66a5af3b21e7",
   "metadata": {},
   "outputs": [],
   "source": [
    "import json\n",
    "import os\n",
    "import sqlite3\n",
    "import sys\n",
    "from datetime import datetime\n",
    "\n",
    "import logzero\n",
    "import numpy as np\n",
    "import pandas as pd\n",
    "import yaml\n",
    "from logzero import logger"
   ]
  },
  {
   "cell_type": "code",
   "execution_count": 2,
   "id": "220b2659-8bad-4450-a891-6cd45a9988a7",
   "metadata": {},
   "outputs": [],
   "source": [
    "sys.path.append(\"../source\")\n",
    "import queries"
   ]
  },
  {
   "cell_type": "code",
   "execution_count": 3,
   "id": "01391ec8-b09f-43fd-9c14-2f7b053b6347",
   "metadata": {},
   "outputs": [],
   "source": [
    "log_path = \"logs/\"\n",
    "log_file = \"zipcode_geos.log\"\n",
    "\n",
    "logzero.logfile(log_path + log_file, maxBytes=1e5, backupCount=5, disableStderrLogger=True)\n",
    "\n",
    "logger.info(f\"{log_path}, {log_file}\")\n",
    "logger.info(sys.path)"
   ]
  },
  {
   "cell_type": "code",
   "execution_count": 4,
   "id": "b005859c-b4d6-459d-9327-9495449d3f28",
   "metadata": {},
   "outputs": [],
   "source": [
    "try:\n",
    "    with open(\"../source/config.yml\", \"r\") as config_in:\n",
    "        configs = yaml.load(config_in, Loader=yaml.SafeLoader)\n",
    "        logger.info(configs)\n",
    "except:\n",
    "    logger.error(f\"config file open failure.\")\n",
    "    exit(1)\n",
    "\n",
    "data_path = configs[\"file_paths\"][\"downloads_path_zips\"]\n",
    "data_file = configs[\"file_names\"][\"data_zipcodes\"]\n",
    "\n",
    "db_path = configs[\"file_paths\"][\"db_path\"]\n",
    "db_file = configs[\"file_names\"][\"db_file_gzc\"]\n",
    "\n",
    "city = configs[\"location_info\"][\"city\"]\n",
    "state = configs[\"location_info\"][\"state\"]\n",
    "loc_name = city + \"_\" + state"
   ]
  },
  {
   "cell_type": "code",
   "execution_count": 5,
   "id": "9fa03203-8993-4df6-ab08-2095471cbca8",
   "metadata": {},
   "outputs": [],
   "source": [
    "logger.info(f\"{data_path}, {data_file}\")\n",
    "logger.info(f\"{db_path}, {db_file}\")\n",
    "logger.info(f\"{city}, {state}\")"
   ]
  },
  {
   "cell_type": "code",
   "execution_count": 6,
   "id": "2fb8bc32-2644-47d9-a918-a986c3880288",
   "metadata": {},
   "outputs": [],
   "source": [
    "zip_list = []\n",
    "\n",
    "try:\n",
    "    with open(data_path + data_file, \"r\") as fh:\n",
    "        lines = fh.readlines()\n",
    "        for line in lines:\n",
    "            zip_list.append(line.strip())\n",
    "except:\n",
    "    print(\n",
    "        f\"File read error. Is the file zipcodes.txt present in {configs['file_paths']['downloads_path_zips']}\"\n",
    "    )\n",
    "    logger.info(\n",
    "        f\"File read error. Is the file zipcodes.txt present in {configs['file_paths']['downloads_path_zips']}\"\n",
    "    )\n",
    "\n",
    "\n",
    "logger.info(f\"{zip_list}\")"
   ]
  },
  {
   "cell_type": "code",
   "execution_count": 7,
   "id": "8cb17a97-ca94-4cf0-a989-4348c2b4d24f",
   "metadata": {},
   "outputs": [],
   "source": [
    "# establish db connection and cursor\n",
    "conn = sqlite3.connect(db_path + db_file)\n",
    "cursor = conn.cursor()"
   ]
  },
  {
   "cell_type": "code",
   "execution_count": 8,
   "id": "7a0c154a-d975-452a-96cb-8813b7fd6082",
   "metadata": {},
   "outputs": [],
   "source": [
    "zipcodes = {}\n",
    "\n",
    "for zip in zip_list:\n",
    "    cursor.execute(queries.select_zipcode_geo, {\"zipcode\": zip})\n",
    "    zip_data = cursor.fetchall()\n",
    "    zipcodes[zip_data[0][0]] = {\"lat\": zip_data[0][1], \"lon\": zip_data[0][2]}\n",
    "\n",
    "logger.info(f\"{zipcodes}\\n\")"
   ]
  },
  {
   "cell_type": "code",
   "execution_count": 9,
   "id": "f47c9e02-5553-4b5e-9145-08fc8eb6d717",
   "metadata": {},
   "outputs": [],
   "source": [
    "try:\n",
    "    with open(data_path + \"zipcodes_\" + loc_name + \".yml\", \"w\") as yml_out:\n",
    "        yaml.dump({\"zipcodes\": zipcodes}, yml_out)\n",
    "        logger.info(f\"yaml dump successful\\n\")\n",
    "        os.rename(data_path + data_file, data_path + \"zipcodes_\" + loc_name + \".txt\")\n",
    "        logger.info(f\"zip_codes.txt renamed to {'zipcodes_' + loc_name + '.txt'}\")\n",
    "except:\n",
    "    logger.error(\"yaml file open error\")"
   ]
  },
  {
   "cell_type": "code",
   "execution_count": 10,
   "id": "f7acc101-bb5d-4c1c-8f67-d144a72ea7f7",
   "metadata": {},
   "outputs": [],
   "source": [
    "conn.close()"
   ]
  },
  {
   "cell_type": "code",
   "execution_count": null,
   "id": "30846c4c-902a-4edb-affd-35dc4d5de341",
   "metadata": {},
   "outputs": [],
   "source": []
  }
 ],
 "metadata": {
  "kernelspec": {
   "display_name": "Python 3 (ipykernel)",
   "language": "python",
   "name": "python3"
  },
  "language_info": {
   "codemirror_mode": {
    "name": "ipython",
    "version": 3
   },
   "file_extension": ".py",
   "mimetype": "text/x-python",
   "name": "python",
   "nbconvert_exporter": "python",
   "pygments_lexer": "ipython3",
   "version": "3.8.10"
  }
 },
 "nbformat": 4,
 "nbformat_minor": 5
}
