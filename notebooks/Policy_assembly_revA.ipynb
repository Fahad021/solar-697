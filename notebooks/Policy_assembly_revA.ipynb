{
 "cells": [
  {
   "cell_type": "code",
   "execution_count": 26,
   "metadata": {},
   "outputs": [],
   "source": [
    "import sys\n",
    "\n",
    "sys.path.append(\"../source\")"
   ]
  },
  {
   "cell_type": "code",
   "execution_count": 27,
   "metadata": {},
   "outputs": [],
   "source": [
    "import json\n",
    "import numpy as np\n",
    "import os\n",
    "import pandas as pd\n",
    "import pickle\n",
    "import query\n",
    "import regex as re\n",
    "import shutil\n",
    "import sqlite3\n",
    "import warnings\n",
    "\n",
    "from collections import defaultdict\n",
    "from datetime import datetime\n",
    "from pandas.core.common import SettingWithCopyWarning\n",
    "from pandas.tseries.offsets import MonthEnd\n"
   ]
  },
  {
   "cell_type": "code",
   "execution_count": 28,
   "metadata": {},
   "outputs": [],
   "source": [
    "warnings.simplefilter(action=\"ignore\", category=SettingWithCopyWarning)\n",
    "\n",
    "with open(\"cfg.json\", \"r\") as jin:\n",
    "    cfg = json.load(jin)\n",
    "\n",
    "# rewrite to ensure formatting\n",
    "with open(\"cfg.json\", \"w\") as jout:\n",
    "    json.dump(cfg, jout, indent=4)"
   ]
  },
  {
   "cell_type": "code",
   "execution_count": 29,
   "metadata": {},
   "outputs": [
    {
     "data": {
      "text/plain": [
       "<function Connection.close>"
      ]
     },
     "execution_count": 29,
     "metadata": {},
     "output_type": "execute_result"
    }
   ],
   "source": [
    "conn_proj = sqlite3.connect(cfg[\"db_dir\"] + cfg[\"db_dsire\"])\n",
    "cursor_proj = conn_proj.cursor()\n",
    "\n",
    "state_df = pd.read_sql_query(query.query_zip, conn_proj)\n",
    "    \n",
    "conn_proj.close"
   ]
  },
  {
   "cell_type": "code",
   "execution_count": 30,
   "metadata": {},
   "outputs": [
    {
     "data": {
      "text/plain": [
       "<function Connection.close>"
      ]
     },
     "execution_count": 30,
     "metadata": {},
     "output_type": "execute_result"
    }
   ],
   "source": [
    "conn_proj = sqlite3.connect(cfg[\"db_dir\"] + cfg[\"db_dsire\"])\n",
    "cursor_proj = conn_proj.cursor()\n",
    "\n",
    "city_df = pd.read_sql_query(query.query_city_zip, conn_proj)\n",
    "    \n",
    "conn_proj.close"
   ]
  },
  {
   "cell_type": "code",
   "execution_count": 31,
   "metadata": {},
   "outputs": [
    {
     "data": {
      "text/plain": [
       "<function Connection.close>"
      ]
     },
     "execution_count": 31,
     "metadata": {},
     "output_type": "execute_result"
    }
   ],
   "source": [
    "conn_proj = sqlite3.connect(cfg[\"db_dir\"] + cfg[\"db_dsire\"])\n",
    "cursor_proj = conn_proj.cursor()\n",
    "\n",
    "county_df = pd.read_sql_query(query.query_county_zip, conn_proj)\n",
    "    \n",
    "conn_proj.close"
   ]
  },
  {
   "cell_type": "code",
   "execution_count": 32,
   "metadata": {},
   "outputs": [
    {
     "data": {
      "text/plain": [
       "<function Connection.close>"
      ]
     },
     "execution_count": 32,
     "metadata": {},
     "output_type": "execute_result"
    }
   ],
   "source": [
    "conn_proj = sqlite3.connect(cfg[\"db_dir\"] + cfg[\"db_dsire\"])\n",
    "cursor_proj = conn_proj.cursor()\n",
    "\n",
    "utility_df = pd.read_sql_query(query.query_utility_zip, conn_proj)\n",
    "    \n",
    "conn_proj.close"
   ]
  },
  {
   "cell_type": "code",
   "execution_count": 33,
   "metadata": {},
   "outputs": [
    {
     "data": {
      "text/plain": [
       "<function Connection.close>"
      ]
     },
     "execution_count": 33,
     "metadata": {},
     "output_type": "execute_result"
    }
   ],
   "source": [
    "conn_proj = sqlite3.connect(cfg[\"db_dir\"] + cfg[\"db_dsire\"])\n",
    "cursor_proj = conn_proj.cursor()\n",
    "\n",
    "zip_df = pd.read_sql_query(query.query_zip_zip, conn_proj)\n",
    "    \n",
    "conn_proj.close"
   ]
  },
  {
   "cell_type": "code",
   "execution_count": 34,
   "metadata": {},
   "outputs": [],
   "source": [
    "county_df = county_df.loc[:,~county_df.columns.duplicated()]\n",
    "city_df = city_df.loc[:,~city_df.columns.duplicated()]\n",
    "state_df = state_df.loc[:,~state_df.columns.duplicated()]\n",
    "zip_df = zip_df.loc[:,~zip_df.columns.duplicated()]\n",
    "utility_df = utility_df.loc[:,~utility_df.columns.duplicated()]\n",
    "\n",
    "keep_cols = list(\n",
    "    set(zip_df.columns).intersection(\n",
    "    set(utility_df.columns)).intersection(\n",
    "    set(county_df.columns)).intersection(\n",
    "    set(city_df.columns)).intersection(\n",
    "    set(state_df.columns))\n",
    ")\n",
    "\n",
    "\n",
    "\n",
    "dsire_by_zip = pd.concat([zip_df[keep_cols],\n",
    "                          utility_df[keep_cols],\n",
    "                          county_df[keep_cols],\n",
    "                          city_df[keep_cols],\n",
    "                          state_df[keep_cols]])"
   ]
  },
  {
   "cell_type": "code",
   "execution_count": 35,
   "metadata": {},
   "outputs": [
    {
     "data": {
      "text/plain": [
       "<function Connection.close>"
      ]
     },
     "execution_count": 35,
     "metadata": {},
     "output_type": "execute_result"
    }
   ],
   "source": [
    "conn_proj = sqlite3.connect(cfg[\"db_dir\"] + cfg[\"db_dsire\"])\n",
    "cursor_proj = conn_proj.cursor()\n",
    "\n",
    "tech_df = pd.read_sql_query(query.query_tech, conn_proj)\n",
    "\n",
    "conn_proj.close"
   ]
  },
  {
   "cell_type": "code",
   "execution_count": 36,
   "metadata": {},
   "outputs": [],
   "source": [
    "check_list = tech_df.program_id.to_list()"
   ]
  },
  {
   "cell_type": "code",
   "execution_count": 37,
   "metadata": {},
   "outputs": [],
   "source": [
    "dsire_PV = dsire_by_zip[dsire_by_zip.id.isin(check_list)]"
   ]
  },
  {
   "cell_type": "code",
   "execution_count": 38,
   "metadata": {},
   "outputs": [
    {
     "data": {
      "text/plain": [
       "<function Connection.close>"
      ]
     },
     "execution_count": 38,
     "metadata": {},
     "output_type": "execute_result"
    }
   ],
   "source": [
    "conn_proj = sqlite3.connect(cfg[\"db_dir\"] + cfg[\"db_dsire\"])\n",
    "cursor_proj = conn_proj.cursor()\n",
    "\n",
    "sector_df = pd.read_sql_query(query.query_sector, conn_proj)\n",
    "\n",
    "conn_proj.close"
   ]
  },
  {
   "cell_type": "code",
   "execution_count": 39,
   "metadata": {},
   "outputs": [],
   "source": [
    "dsire_PV['start_date'] = dsire_PV.start_date.fillna(dsire_PV.created_ts)\n",
    "dsire_PV['end_date'] = dsire_PV.end_date.fillna(datetime.strptime(cfg[\"max_date\"], \"%d-%b-%Y (%H:%M:%S.%f)\"))\n",
    "diff_df = dsire_PV.dropna(subset = ['start_date', 'zipcode']).reset_index()\n",
    "diff_df['zipcode'] = diff_df.zipcode.apply(lambda n: str(int(n)).zfill(5))\n",
    "\n",
    "diff_df = diff_df.merge(sector_df, left_on = 'id', right_on = 'program_id', how = 'left')\n",
    "diff_df = diff_df[diff_df.sector_id.isin([9,23])]"
   ]
  },
  {
   "cell_type": "code",
   "execution_count": 42,
   "metadata": {},
   "outputs": [
    {
     "data": {
      "text/html": [
       "<div>\n",
       "<style scoped>\n",
       "    .dataframe tbody tr th:only-of-type {\n",
       "        vertical-align: middle;\n",
       "    }\n",
       "\n",
       "    .dataframe tbody tr th {\n",
       "        vertical-align: top;\n",
       "    }\n",
       "\n",
       "    .dataframe thead th {\n",
       "        text-align: right;\n",
       "    }\n",
       "</style>\n",
       "<table border=\"1\" class=\"dataframe\">\n",
       "  <thead>\n",
       "    <tr style=\"text-align: right;\">\n",
       "      <th></th>\n",
       "      <th>program_type_id</th>\n",
       "      <th>zipcode</th>\n",
       "      <th>start_date</th>\n",
       "      <th>end_date</th>\n",
       "      <th>name</th>\n",
       "      <th>s_d</th>\n",
       "      <th>e_d</th>\n",
       "      <th>start_month</th>\n",
       "      <th>nb_months</th>\n",
       "    </tr>\n",
       "  </thead>\n",
       "  <tbody>\n",
       "    <tr>\n",
       "      <th>1</th>\n",
       "      <td>37</td>\n",
       "      <td>80002</td>\n",
       "      <td>2003-09-05 00:00:00</td>\n",
       "      <td>2019-12-31 00:00:00</td>\n",
       "      <td>Xcel Energy - Net Metering</td>\n",
       "      <td>2044</td>\n",
       "      <td>8005</td>\n",
       "      <td>2003-09-30</td>\n",
       "      <td>67</td>\n",
       "    </tr>\n",
       "    <tr>\n",
       "      <th>3</th>\n",
       "      <td>37</td>\n",
       "      <td>80003</td>\n",
       "      <td>2003-09-05 00:00:00</td>\n",
       "      <td>2019-12-31 00:00:00</td>\n",
       "      <td>Xcel Energy - Net Metering</td>\n",
       "      <td>2044</td>\n",
       "      <td>8005</td>\n",
       "      <td>2003-09-30</td>\n",
       "      <td>67</td>\n",
       "    </tr>\n",
       "    <tr>\n",
       "      <th>5</th>\n",
       "      <td>37</td>\n",
       "      <td>80004</td>\n",
       "      <td>2003-09-05 00:00:00</td>\n",
       "      <td>2019-12-31 00:00:00</td>\n",
       "      <td>Xcel Energy - Net Metering</td>\n",
       "      <td>2044</td>\n",
       "      <td>8005</td>\n",
       "      <td>2003-09-30</td>\n",
       "      <td>67</td>\n",
       "    </tr>\n",
       "    <tr>\n",
       "      <th>7</th>\n",
       "      <td>37</td>\n",
       "      <td>80005</td>\n",
       "      <td>2003-09-05 00:00:00</td>\n",
       "      <td>2019-12-31 00:00:00</td>\n",
       "      <td>Xcel Energy - Net Metering</td>\n",
       "      <td>2044</td>\n",
       "      <td>8005</td>\n",
       "      <td>2003-09-30</td>\n",
       "      <td>67</td>\n",
       "    </tr>\n",
       "    <tr>\n",
       "      <th>9</th>\n",
       "      <td>37</td>\n",
       "      <td>80007</td>\n",
       "      <td>2003-09-05 00:00:00</td>\n",
       "      <td>2019-12-31 00:00:00</td>\n",
       "      <td>Xcel Energy - Net Metering</td>\n",
       "      <td>2044</td>\n",
       "      <td>8005</td>\n",
       "      <td>2003-09-30</td>\n",
       "      <td>67</td>\n",
       "    </tr>\n",
       "  </tbody>\n",
       "</table>\n",
       "</div>"
      ],
      "text/plain": [
       "   program_type_id zipcode           start_date             end_date  \\\n",
       "1               37   80002  2003-09-05 00:00:00  2019-12-31 00:00:00   \n",
       "3               37   80003  2003-09-05 00:00:00  2019-12-31 00:00:00   \n",
       "5               37   80004  2003-09-05 00:00:00  2019-12-31 00:00:00   \n",
       "7               37   80005  2003-09-05 00:00:00  2019-12-31 00:00:00   \n",
       "9               37   80007  2003-09-05 00:00:00  2019-12-31 00:00:00   \n",
       "\n",
       "                         name   s_d   e_d start_month  nb_months  \n",
       "1  Xcel Energy - Net Metering  2044  8005  2003-09-30         67  \n",
       "3  Xcel Energy - Net Metering  2044  8005  2003-09-30         67  \n",
       "5  Xcel Energy - Net Metering  2044  8005  2003-09-30         67  \n",
       "7  Xcel Energy - Net Metering  2044  8005  2003-09-30         67  \n",
       "9  Xcel Energy - Net Metering  2044  8005  2003-09-30         67  "
      ]
     },
     "execution_count": 42,
     "metadata": {},
     "output_type": "execute_result"
    }
   ],
   "source": [
    "program_map_df = diff_df[['program_type_id','zipcode','start_date','end_date','name']]\n",
    "program_map_df['s_d'] = pd.to_datetime(program_map_df.start_date).apply(lambda d: d - datetime.strptime(cfg[\"min_date\"], \"%d-%b-%Y (%H:%M:%S.%f)\"))\n",
    "program_map_df['e_d'] = pd.to_datetime(program_map_df.end_date).apply(lambda d: d - datetime.strptime(cfg[\"min_date\"], \"%d-%b-%Y (%H:%M:%S.%f)\"))\n",
    "\n",
    "program_map_df['start_month'] = pd.to_datetime(program_map_df.start_date).dt.strftime('%Y-%m')\n",
    "program_map_df['start_month'] = pd.to_datetime(program_map_df['start_month']) + MonthEnd(1)\n",
    "\n",
    "program_map_df['nb_months'] = program_map_df['start_month'].apply(lambda x: ((x - datetime.strptime(cfg[\"min_date\"], \"%d-%b-%Y (%H:%M:%S.%f)\"))/np.timedelta64(1, 'M')))\n",
    "program_map_df['nb_months'] = program_map_df['nb_months'].astype(int)\n",
    "\n",
    "program_map_df[\"s_d\"] = program_map_df.s_d.dt.days\n",
    "program_map_df[\"e_d\"] = program_map_df.e_d.dt.days\n",
    "program_map_df.head()"
   ]
  },
  {
   "cell_type": "code",
   "execution_count": 43,
   "metadata": {},
   "outputs": [
    {
     "data": {
      "text/plain": [
       "<function Connection.commit>"
      ]
     },
     "execution_count": 43,
     "metadata": {},
     "output_type": "execute_result"
    }
   ],
   "source": [
    "conn_proj = sqlite3.connect(cfg[\"db_dir\"] + cfg[\"db_dsire\"])\n",
    "cursor_proj = conn_proj.cursor()\n",
    "\n",
    "program_map_df.to_sql(\"programs_map\", conn_proj, if_exists=\"replace\", index=False)\n",
    "\n",
    "conn_proj.commit"
   ]
  },
  {
   "cell_type": "code",
   "execution_count": 20,
   "metadata": {},
   "outputs": [],
   "source": [
    "def keys_exists(element, *keys):\n",
    "    '''\n",
    "    Check if *keys (nested) exists in `element` (dict).\n",
    "    '''\n",
    "    if not isinstance(element, dict):\n",
    "        raise AttributeError('keys_exists() expects dict as first argument.')\n",
    "    if len(keys) == 0:\n",
    "        raise AttributeError('keys_exists() expects at least two arguments, one given.')\n",
    "\n",
    "    _element = element\n",
    "    for key in keys:\n",
    "        try:\n",
    "            _element = _element[key]\n",
    "        except KeyError:\n",
    "            return False\n",
    "    return True\n",
    "\n",
    "\n",
    "\n",
    "\n",
    "program_map = defaultdict(dict)\n",
    "    \n",
    "for a, b, c, d in zip(program_map_df.program_type_id,program_map_df.zipcode,program_map_df.s_d,program_map_df.nb_months):\n",
    "    \n",
    "    if keys_exists(program_map, a, b):\n",
    "        program_map[a][b].append([c,d])\n",
    "    else:\n",
    "        program_map[a][b] = [[c,d]]"
   ]
  },
  {
   "cell_type": "code",
   "execution_count": 25,
   "metadata": {},
   "outputs": [],
   "source": [
    "with open(cfg[\"data_dir\"] + cfg[\"p_dates\"], 'wb') as fp:\n",
    "    pickle.dump(program_map, fp, protocol=pickle.HIGHEST_PROTOCOL)"
   ]
  },
  {
   "cell_type": "code",
   "execution_count": null,
   "metadata": {},
   "outputs": [],
   "source": []
  }
 ],
 "metadata": {
  "kernelspec": {
   "display_name": "Python 3",
   "language": "python",
   "name": "python3"
  },
  "language_info": {
   "codemirror_mode": {
    "name": "ipython",
    "version": 3
   },
   "file_extension": ".py",
   "mimetype": "text/x-python",
   "name": "python",
   "nbconvert_exporter": "python",
   "pygments_lexer": "ipython3",
   "version": "3.8.10"
  }
 },
 "nbformat": 4,
 "nbformat_minor": 4
}
